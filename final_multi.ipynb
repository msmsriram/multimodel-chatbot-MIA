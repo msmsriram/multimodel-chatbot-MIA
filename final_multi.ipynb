{
 "cells": [
  {
   "cell_type": "code",
   "execution_count": null,
   "metadata": {},
   "outputs": [],
   "source": [
    "import os\n",
    "import uuid\n",
    "import base64\n",
    "from IPython import display\n",
    "from unstructured.partition.pdf import partition_pdf\n",
    "# from langchain.chat_models import ChatOpenAI\n",
    "from langchain_community.chat_models import ChatOllama\n",
    "from langchain_community import embeddings\n",
    "\n",
    "# from langchain.embeddings import OpenAIEmbeddings\n",
    "from langchain.chains import LLMChain\n",
    "from langchain.prompts import PromptTemplate\n",
    "from langchain.schema.messages import HumanMessage, SystemMessage\n",
    "from langchain.schema.document import Document\n",
    "from langchain.vectorstores import FAISS\n",
    "from langchain.retrievers.multi_vector import MultiVectorRetriever"
   ]
  },
  {
   "cell_type": "code",
   "execution_count": 2,
   "metadata": {},
   "outputs": [],
   "source": [
    "output_path = \"./phesgo_refine\""
   ]
  },
  {
   "cell_type": "code",
   "execution_count": 3,
   "metadata": {},
   "outputs": [
    {
     "name": "stderr",
     "output_type": "stream",
     "text": [
      "This function will be deprecated in a future release and `unstructured` will simply use the DEFAULT_MODEL from `unstructured_inference.model.base` to set default model name\n",
      "Some weights of the model checkpoint at microsoft/table-transformer-structure-recognition were not used when initializing TableTransformerForObjectDetection: ['model.backbone.conv_encoder.model.layer2.0.downsample.1.num_batches_tracked', 'model.backbone.conv_encoder.model.layer3.0.downsample.1.num_batches_tracked', 'model.backbone.conv_encoder.model.layer4.0.downsample.1.num_batches_tracked']\n",
      "- This IS expected if you are initializing TableTransformerForObjectDetection from the checkpoint of a model trained on another task or with another architecture (e.g. initializing a BertForSequenceClassification model from a BertForPreTraining model).\n",
      "- This IS NOT expected if you are initializing TableTransformerForObjectDetection from the checkpoint of a model that you expect to be exactly identical (initializing a BertForSequenceClassification model from a BertForSequenceClassification model).\n"
     ]
    }
   ],
   "source": [
    "raw_pdf_elements = partition_pdf(\n",
    "    filename=r\"C:\\Users\\Public\\VS_Code_Workspace\\Langchain_LLM\\sriram\\chatbot\\chatbot\\phesgorefined_scraped.pdf\",\n",
    "    extract_images_in_pdf=True,\n",
    "    infer_table_structure=True,\n",
    "    chunking_strategy=\"by_title\",\n",
    "    max_characters=4000,\n",
    "    new_after_n_chars=3800,\n",
    "    combine_text_under_n_chars=2000,\n",
    "    extract_image_block_output_dir=output_path,\n",
    ")"
   ]
  },
  {
   "cell_type": "code",
   "execution_count": 5,
   "metadata": {},
   "outputs": [
    {
     "name": "stderr",
     "output_type": "stream",
     "text": [
      "c:\\Users\\Barani\\Desktop\\chatbot\\multimodel\\Lib\\site-packages\\langchain_core\\_api\\deprecation.py:117: LangChainDeprecationWarning: The function `run` was deprecated in LangChain 0.1.0 and will be removed in 0.2.0. Use invoke instead.\n",
      "  warn_deprecated(\n"
     ]
    }
   ],
   "source": [
    "text_elements = []\n",
    "table_elements = []\n",
    "\n",
    "text_summaries = []\n",
    "table_summaries = []\n",
    "\n",
    "summary_prompt = \"\"\"\n",
    "Summarize the following {element_type}:\n",
    "{element}\n",
    "\"\"\"\n",
    "summary_chain = LLMChain(\n",
    "    llm=ChatOllama(model=\"mistral\",temperature=0 ),\n",
    "    prompt=PromptTemplate.from_template(summary_prompt)\n",
    ")\n",
    "# after_rag_template = \"\"\"\n",
    "# # Summarize the following {element_type}:\n",
    "# # {element}\n",
    "# # \"\"\"\n",
    "# llm=ChatOllama(model=\"mistral\",temperature=0)\n",
    "\n",
    "# after_rag_prompt = ChatPromptTemplate.from_template(after_rag_template)\n",
    "# runnable = after_rag_template | llm | StrOutputParser()\n",
    "\n",
    "for e in raw_pdf_elements:\n",
    "    if 'CompositeElement' in repr(e):\n",
    "        text_elements.append(e.text)\n",
    "        summary = summary_chain.run({'element_type': 'text', 'element': e})\n",
    "        text_summaries.append(summary)\n",
    "\n",
    "    elif 'Table' in repr(e):\n",
    "        table_elements.append(e.text)\n",
    "        summary = summary_chain.run({'element_type': 'table', 'element': e})\n",
    "        table_summaries.append(summary)"
   ]
  },
  {
   "cell_type": "code",
   "execution_count": 6,
   "metadata": {},
   "outputs": [],
   "source": [
    "output_path = \"./phesgo_refined\""
   ]
  },
  {
   "cell_type": "code",
   "execution_count": 7,
   "metadata": {},
   "outputs": [],
   "source": [
    "image_elements = []\n",
    "\n",
    "def encode_image(image_path):\n",
    "    with open(image_path, \"rb\") as f:\n",
    "        return base64.b64encode(f.read()).decode('utf-8')\n",
    "for i in os.listdir(output_path):\n",
    "    if i.endswith(('.png', '.jpg', '.jpeg')):\n",
    "        image_path = os.path.join(output_path, i)\n",
    "        encoded_image = encode_image(image_path)\n",
    "        image_elements.append(encoded_image)\n"
   ]
  },
  {
   "cell_type": "code",
   "execution_count": 8,
   "metadata": {},
   "outputs": [
    {
     "data": {
      "text/plain": [
       "28"
      ]
     },
     "execution_count": 8,
     "metadata": {},
     "output_type": "execute_result"
    }
   ],
   "source": [
    "len(image_elements)"
   ]
  },
  {
   "cell_type": "code",
   "execution_count": 11,
   "metadata": {},
   "outputs": [
    {
     "name": "stderr",
     "output_type": "stream",
     "text": [
      "Processing images: 100%|██████████| 28/28 [16:01<00:00, 34.34s/it]"
     ]
    },
    {
     "name": "stdout",
     "output_type": "stream",
     "text": [
      "[' The image shows a screenshot of a website for the Health and Support Foundation. The website is designed with a clean, modern aesthetic. At the top, there\\'s a navigation bar with links such as \"Home,\" \"About,\" \"Support Us,\" and other sections typically found on a nonprofit organization\\'s site. \\n\\nThe main section of the image features a woman prominently in the foreground. She appears to be middle-aged or older, with short hair, wearing a dark top that contrasts with her lighter skin tone. Her expression is serious and she seems focused on something not visible in the screenshot.\\n\\nBelow the woman\\'s photo, there\\'s a large banner with text. The banner includes a quote from someone named \"Fraser\" who states, \"Having Hepatitis C and being able to access treatment has made a huge difference in my life.\" Below this quote is an image of a hand grasping the edge of a cliff. This graphic is likely intended to convey the idea that those with hepatitis C (HCV) are on a precipice, possibly indicating the urgency of treatment and support for these individuals.\\n\\nFurther down, there\\'s another section titled \"Latest News.\" It features two news items. The first one mentions an increase in HCV support days and includes a photo of a person walking away from the camera with their back to the viewer. The second item is related to a specific location within the organization, possibly an office or facility.\\n\\nThe bottom part of the screenshot shows a footer with links that appear to be contact information for the organization. These links include a phone number and an email address, along with a physical address in what looks like a city setting. The overall impression is that this website serves as an informational portal for those interested in or affected by HCV, providing resources, support, and news about the organization\\'s activities. ', ' The image shows a photograph of a bottle labeled \"HESPERGO.\" The label indicates that the product contains 10ml of \"subcutaneous injection.\" In addition, there is text in an oriental language that translates to \"Bilayer\" and \"6 mg,\" which suggests the content of the medication.\\n\\nThe bottle features a design that includes what appears to be an abstract pattern or a stylized representation of a landscape, with shades of blue, yellow, and green. The cap on the bottle is a simple screw-top style, suggesting it\\'s designed for ease of use.\\n\\nThe background of the image is blurred but seems to be a plain, light-colored wall that provides a neutral backdrop for the product. The focus of the image is clearly on the product itself, with the background details being out of focus. ', ' The image presented is a composite or mosaic of multiple photographs, which creates an abstract and fragmented visual experience. It consists of various shades of grey, interspersed with what appears to be the corner of a computer screen displaying a webpage with a page title \"My First Website\" and some text that seems to be HTML code related to web development.\\n\\nThe overall style of the image is a blend of photography and digital elements, resulting in an artistic representation rather than a straightforward photographic composition. The arrangement suggests a narrative or a journey through different subjects or themes, as indicated by the presence of what looks like a person on the left side, possibly in an outdoor setting with natural light and shadows.\\n\\nThe color palette is monochromatic, with greys dominating the scene, which adds to the abstract quality of the image. The inclusion of text, specifically HTML code, introduces an element of technology or coding, which contrasts with the organic or natural elements present in the bottom left corner of the image.\\n\\nWithout additional context, it is difficult to determine the exact nature of this image or the intended message. It could be interpreted as a commentary on the intersection of technology and nature, or perhaps as an artistic exploration of the fragmented nature of digital information versus real-world experiences. ', ' The image shows a computer screen displaying a YouTube video playing in the background. In the foreground, there is a screenshot of a web browser with a website open. The website has a message that reads: \"The page you are looking for does not exist.\" Below this message is an error code \"403\" and a brief explanation stating \"Forbidden. You don\\'t have permission to access /misc/error on this server.\" This indicates that the user attempting to access the specified resource does not have the necessary permissions to view it.\\n\\nThe browser window appears to be open on an operating system with a dark theme, as evidenced by the color scheme and design of the user interface. There is also a watermark or logo at the bottom left corner of the image that reads \"MemeBot,\" suggesting that this screenshot might have been taken using an AI-powered tool designed to generate images.\\n\\nThe overall scene suggests that someone was trying to access a webpage but encountered an error, possibly due to a lack of permissions or an issue with the server. ', ' The image is a screenshot of a computer screen displaying an error message. At the top of the screen, there\\'s a red banner with the text \"Error: Video not supported\" in white letters on a dark background, indicating that the video file being attempted to play is unsupported by the media player or browser.\\n\\nBelow the error message, there\\'s a dialog box with more details about the issue. It reads \"MediaError: src: file:/path/to/video-file not supported\" in white text on a black background. This suggests that the video is a local file rather than an online stream.\\n\\nTo the right of this dialog box, there\\'s another message with instructions for what to do next. It reads \"Technical details: Video was found for media source but could not be read.\" Below this message is a button labeled \"OK\" in white text on a red background, which suggests that the user can click this button to acknowledge and close the error dialog.\\n\\nThe overall style of the image is informational and utilitarian, typically used in software applications when an error occurs. The design is simple with a monochrome color scheme, emphasizing clarity over aesthetics. ', ' The image shows a screenshot of an error message from a webpage. The webpage seems to be displaying a \"403 Forbidden\" error, indicating that the server for this particular page is refusing to process the request. The URL in the address bar of the browser reads \"www.youtube.com/watch?v=dQw4w9WgXU,\" suggesting that the user is attempting to watch a video on YouTube, possibly related to \"Star Wars\" given the content of the video title.\\n\\nThe error message itself contains text in both English and another language (which appears to be Chinese), though only the English text is fully visible: \"An unexpected error has occurred. Please try again later.\" This suggests that there was an unexpected issue encountered by the server, which could range from technical difficulties to routine maintenance or perhaps a content restriction depending on the region from where the user is accessing the website.\\n\\nThe bottom of the screenshot includes a line of code, specifically \"MediaError, not supported,\" which further indicates the nature of the error. This code suggests that the media format being played may not be supported by the browser or the server, preventing the video from playing as expected.\\n\\nAdditionally, there is a watermark on the screenshot with a timestamp reading \"10:45:32\" and another timestamp-like text \"1 day 22 hours 37 minutes ago,\" which may indicate when the screenshot was taken or could be part of the error message\\'s formatting.\\n\\nThe style of the image is informational, with a focus on providing details about the error encountered while trying to access a video on YouTube. The watermark suggests that the screenshot itself may have been captured at a specific time, and it appears to be taken directly from a web browser during an attempt to watch a video. ', ' In the image, we see a heartwarming scene of two people walking on a sidewalk. The person in the foreground appears to be holding the other person\\'s hand, suggesting a close relationship between them. They are both casually dressed, indicating a relaxed, everyday setting.\\n\\nThe background provides context for their location. It looks like they are on a residential street lined with houses and trees. A sidewalk runs parallel to the road, providing a safe area for pedestrians.\\n\\nOn the right side of the image, there\\'s an overlay of a digital clock displaying the time as 1:58 PM. The clock suggests that this moment was captured during a stroll in the afternoon.\\n\\nAt the bottom of the screen is another overlay text that reads \"60 seconds.\" This indicates that the image has been edited to last for approximately one minute when viewed as part of a video sequence.\\n\\nThe overall scene suggests a peaceful, suburban environment where people are enjoying a leisurely walk in their neighborhood. The time of day and the casual attire of the individuals suggest a comfortable, everyday moment captured in the image. ', ' This image appears to be a screenshot of a digital text document, possibly a word processing or presentation software. The central part of the image displays a text that reads: \"Receiving part of my treat.\"\\n\\nThe text is presented in a standard document layout with margins and what seems to be a header or title area at the top left. It\\'s important to note that the content of the text could be related to various contexts, such as receiving part of one\\'s inheritance, a business transaction, or even a metaphorical expression.\\n\\nThe background behind the document is out of focus, emphasizing the text. The overall appearance suggests a digital workspace where someone might be writing a letter, creating a presentation slide, or working on some form of written communication. ', ' The image displays a diagrammatic representation of the SARS-CoV-2 virus and its structural components. At the top left, there is an illustration of the whole virus particle, which appears to be spherical with spike-like projections on the outer surface. These spikes are characteristic features of coronaviruses, including those that cause COVID-19 infections.\\n\\nThe central part of the image shows a magnified view of one of these virus particles. Here, we can see the detailed structure of the viral envelope, which is composed of lipid bilayers and membrane proteins. The spike proteins are visible, protruding from the surface of the virion.\\n\\nOn the right side, there is an annotation that indicates a region on the virus particle where the virus has been engineered to express another protein. This suggests that researchers have altered the SARS-CoV-2 genome to include a specific genetic sequence, which likely codes for a different viral protein or for a non-viral gene, such as a reporter gene for tracking purposes in scientific experiments.\\n\\nThe bottom of the image shows a schematic representation of an HMG2 (High Mobility Group 2) protein and its structure. This protein is known to be involved in regulating chromatin, which are complexes of DNA and protein in eukaryotic cells. The diagram illustrates the three-dimensional helical structure of the HMG2 protein, characterized by a flexible linker that connects two globular domains with distinct functions.\\n\\nThe background of the image is plain white, allowing the focus to remain on the diagram itself. There are no texts present in the image that provide additional information about the context or significance of the diagram. The style of the image suggests that it may be used for educational purposes to explain the structure and properties of viruses and their components. ', ' The image is a composite that appears to be from a scientific presentation or a research paper, showcasing an example of protein crystallography. On the left side of the image, there\\'s a schematic diagram illustrating the process of crystallography for determining a molecule\\'s structure. It shows a three-dimensional molecular model being viewed through a microscope with a circular pattern that represents diffraction or scattering of X-rays by the protein crystals.\\n\\nOn the right side, there are electron density maps at different stages of the crystallography process. These maps represent the positions of atoms within the crystal structure of the protein molecule. The images progress from a less defined map (top) to more detailed representations as one moves downward, indicating that the resolution improves with each stage.\\n\\nThe caption in the image reads \"Too much HER2 too quick\" and includes an arrow pointing from the left side to the right, suggesting a comparison or relationship between the schematic on the left and the electron density maps on the right. The text is likely explaining the significance of these images in the context of cancer biology, particularly focusing on the overexpression of HER2 protein in some cancers, which is a key target for therapeutic intervention.\\n\\nThe overall theme of the image is scientific and educational, aimed at an audience with background knowledge in molecular biology or chemistry. ', ' This image appears to be an educational or informational graphic, possibly used in a medical context. It shows a frontal view of a human torso with internal organs highlighted, including the lungs. The lungs are labeled with text that reads \"Lungs,\" indicating which organ is being shown.\\n\\nThere are also some annotations visible on the image. One such annotation is a boxed area at the top of the lung on the right side, which includes additional labels and what seems to be a medical condition highlighted in yellow. The text within this boxed area reads \"Bronchitis,\" suggesting that the area shown represents the location where bronchitis might occur.\\n\\nThe background is a plain white color, focusing attention on the graphic itself. The style of the image is instructional and simplistic, with an emphasis on clarity and visual aid for understanding human anatomy or health-related conditions. ', ' The image is a humorous illustration that uses two unrelated concepts to make a satirical statement. On the left side, there\\'s an inefficient depiction of a syringe being injected into a bottle labeled \"PERJETA\" (perjeta is a brand name of a medication commonly used in cancer treatment), accompanied by a small text that reads \"PERJETA + HERSEGO = PERIPETA.\" The joke here is that combining perjeta with hersego, which is typically a steroidal anti-inflammatory drug (SAID) used to treat rheumatoid arthritis and related conditions, can be perceived as creating a new medication or treatment called \"PERIPETA,\" humorously suggesting that the two substances when combined would have therapeutic properties.\\n\\nOn the right side of the image, there\\'s an illustration of a pharmacist in the process of dispensing medication to a patient. The text \"Farmacia\" is placed above this figure, indicating the setting as a pharmacy. Below the image of the dispensary, there\\'s a small text that reads \"PERJETA + PERIPETA = PEROJETA,\" which continues the joke by implying that combining perjeta with the hypothetical \"peripereta\" would result in a new medication called \"PEROJETA.\"\\n\\nThe humor lies in the absurdity of the concept; it plays on the idea that combining two different medications can create a new, possibly more effective drug. However, this is not scientifically valid or possible in real-world medicine without extensive clinical trials and approval from relevant regulatory bodies. The image does not provide any additional context to clarify the nature of the joke or to indicate why these specific drugs would be combined. ', ' The image is a digital composite showing two time-related icons. On the left, there is an icon of a clock with a timer displaying \"5:00\" at the top and \"15:00\" on the bottom, suggesting that the timer has been running for 5 minutes and 15 seconds. The background of this icon is transparent.\\n\\nOn the right side of the image, there is another icon featuring a stopwatch with a red button indicating it is currently stopped. This icon also displays a timer showing \"6:00\" at the top and \"15:00\" on the bottom, mirroring the time shown in the left icon, implying that both icons represent the same duration of time.\\n\\nThe background behind these icons appears to be white and out of focus. There is text overlaid on the right side of the image, which is not fully visible due to its size and position. The text seems to be in a language other than English, and it includes numbers \"6:00\" and \"15:00,\" reinforcing the visual representation of time in both icons. The overall style of the image suggests it may be used for educational purposes or as an element within an application related to timers or clocks. ', ' The image you\\'ve provided appears to be a screenshot of a webpage, possibly from a computer or mobile device. The screenshot shows a section of text that seems to be part of an online document or article. The text is partially visible and contains bullet points, suggesting it might be a list or set of instructions. There are no images or graphics besides the plain white background with the text.\\n\\nThe image quality is not very clear, which makes it difficult to read the specific content of the text. Additionally, there\\'s a watermark on the screenshot indicating \"Bing,\" suggesting that this image may have been taken from a search result in the Bing search engine or is part of its interface.\\n\\nIf you need help with anything related to the contents of the text or if you have any questions about the technology shown, feel free to ask! ', ' The image presents a humorous take on the scientific process. Dominating the left side of the image is a classic beaker, filled to the brim with a green substance. This substance appears to be in a state of constant motion, as if it\\'s undergoing a rapid chemical reaction.\\n\\nTo the right of this beaker, there are two vials. The first vial contains a yellow substance, while the second vial is filled with a red substance. These vials seem to be in perfect equilibrium, suggesting a harmonious balance between the green and other substances.\\n\\nThe background of the image is a light brown color, providing a neutral backdrop that allows the colorful chemicals to stand out. The entire scene is set against a black background, which further accentuates the vibrant colors of the substances.\\n\\nAdding a touch of humor, there\\'s a text that reads \"PERIJA\" and \"PHESGO\". These words are in Italian, and their English translations \"PETER\" and \"FETUS\" respectively, add a layer of whimsy to the image. The presence of these terms might suggest an artistic or symbolic interpretation of the scientific process.\\n\\nOverall, the image uses simple visual elements - beakers, vials, and text labels - to create a playful representation of chemical reactions, balance, and perhaps symbolizes the duality between science and art. ', \" The image appears to be a simple, abstract representation of a molecule. It consists of three main parts:\\n\\n1. The central part is the most prominent, featuring a circular motif with two open circles resembling atoms or chemical groups. These could represent double bonds, like those found in alkenes, and might also indicate the presence of hydrogen atoms at these locations.\\n\\n2. To the left and right of this central ring are smaller circles, which may signify single bond connections between the atoms or groups. The lines connecting these circles suggest chemical bonds, which are essential for forming molecules.\\n\\n3. There is a dotted line that intersects with the small circles, which could represent a functional group or chemical reaction occurring within the molecule.\\n\\n4. At the bottom of this structure is a line segment with two smaller segments connected at an angle, which might represent the tail end of a molecule or indicate a part that is not clearly defined or identified.\\n\\nThe background is white, and there are no texts or additional symbols present in the image. The style of the image is minimalistic and uses simple shapes to convey its message. It's important to note that without more context or specific details, it's difficult to provide a precise interpretation of this molecular model. \", ' The image shows a circular donut chart on a light grey background. The chart is divided into segments, with each segment representing a percentage of an unspecified total. Starting from the left and moving clockwise, we see segments in teal, blue, black, green, dark red, purple, and orange, each containing a different percentage ranging from 1 to 85 percent. The outermost ring is colored grey and is labeled \"85%\".\\n\\nIn the center of the chart, there\\'s a white circle with a smaller grey border representing a pie chart within the donut chart. This inner pie chart has three segments: one in light blue, one in teal, and one in black. Each segment represents a different percentage ranging from 1 to 85 percent as well.\\n\\nAt the bottom of the chart, there\\'s a horizontal bar that appears to be cut off at both ends, showing just the central portion with the percentage \"85%\". This horizontal bar is darker than the rest of the chart, providing contrast against the grey background.\\n\\nThe numbers inside each segment are clearly visible and seem to represent specific percentages such as \"1%\", \"84%\", \"13%\", etc., although their actual significance or context is not provided in the image. The overall style of the image is a straightforward, data-oriented representation of different categories and their respective proportions within a whole. ', \" The image is a digital graphic featuring an icon of a clock, with a 'thumbs up' symbol overlaid on it. The clock icon appears to be in the shape of a traditional wall-mounted alarm clock with the numbers 1 through 12 displayed around its circumference. It has a classic design with a simple gold-colored finish and black hour and minute hands. On top of the clock, there is a 'thumbs up' symbol, which typically signifies approval or agreement in many online and social media contexts. The thumbs up is also rendered in a minimalistic, solid-color style. The background of the image is a plain, light gray color that does not distract from the main graphic elements. There are no texts present in the image. \", \" The image displays a split-screen format. On the left side, there is an inset photo of what appears to be a person's lower body and legs, with no upper body or head visible; the person seems to be wearing shorts that are colored turquoise blue. The right side shows a larger image featuring a detailed and realistic depiction of a female figure from the waist up. This figure is standing in profile, facing to the left, and is seen only from her midsection downwards. She has dark hair, wearing what appears to be a green top with light blue shorts or leggings. The figure is shown against a gradient background that transitions from grey to a slightly darker shade of grey, suggesting a clinical or medical setting. There are no visible texts on the image. \", \" The image displays a close-up of a sign with prohibition symbol. The sign is round and features a red circle within which there is an orange exclamation mark, indicating that something is not allowed or restricted in the area. Within this circular icon, there is a black cross over what appears to be a mobile phone signal bar, suggesting that the use of cell phones is prohibited in this location.\\n\\nThe sign itself has a gray background and a white border. It is affixed to a surface with visible screws, indicating it's mounted on a structure. The image is taken from an angle where the top right corner is partially obscured by the edge of the photo frame, creating a diagonal perspective across the sign.\\n\\nThe style of the image is realistic, capturing the details of the sign and its immediate surroundings with clarity. There are no texts visible on the sign or in the surrounding area, as it's focused solely on the prohibition symbol and message. The overall impression is that this is a regulation notice designed to inform individuals about the restrictions imposed in the area. \", ' This image features a striking visual comparison between two timelines, each representing the duration of an injection process. \\n\\nThe left side of the image shows the \"1st Injection\" timeline, which is marked by a large clock with a black minute hand and a red hour hand. The clock has the numbers 8, 9, and 15 around its circumference, indicating specific time intervals within this first injection process. \\n\\nOn the right side of the image, there\\'s another clock labeled as \"2nd Injection\". This clock has only two minutes indicated on it, significantly shorter than the duration of the first injection process. The minute hand on this clock is a bright green color, while the hour hand is black, similar to the first clock. \\n\\nThe image cleverly uses these clocks to visually represent the difference in duration between two separate injection processes. The contrast between the two clocks creates a striking visual metaphor for the concept of time elapsed during different stages or phases of an experiment or procedure. ', ' The image is a photograph that features a person sitting on the edge of a body of water, such as a lake or river. The individual appears to be in contemplation, looking off into the distance. Their reflection is visible on the calm surface of the water. They are wearing a dark-colored top and shorts, and their head is partially cropped by the frame of the image. The background shows a natural setting with a forested area that meets the water at the horizon line. The lighting suggests it could be either dawn or dusk due to the soft, diffused light. There are no visible texts or branding in the image. ', ' The image displays a webpage on a computer screen. The top portion of the webpage shows a navigation bar with various menu items such as \"Home,\" \"Blog,\" \"Contact,\" and others, which suggest that this might be a website with multiple sections or pages.\\n\\nThe central part of the webpage features a large banner or header with a placeholder image commonly known as \"Lorem ipsum,\" which is used as a default text in publishing and graphic design. The placeholders are in English and read \"Lorem ipsum dolor sit amet, consectetur adipiscing elit.\"\\n\\nBelow the banner, there\\'s a section with a title that reads \"About Us,\" followed by placeholder text that says \"Here is where you can talk about your company, products, services...\" which indicates that this area is intended to provide information about the website\\'s background or what it offers. The text is too small to read in detail but is clearly part of the placeholder content used on websites before actual content is added.\\n\\nThe bottom of the image shows a desktop interface with various windows and icons, suggesting that the computer is running multiple programs or has numerous shortcuts open. However, the contents of these windows are not visible due to the resolution and angle of the photograph.\\n\\nOverall, the image seems to be taken from an older model or smaller screen size, as indicated by the pixelation and the size of the webpage compared to the rest of the computer interface. The focus is on the content of the website rather than the user\\'s interface. ', ' The image appears to be a screenshot of a webpage or a digital advertisement. It features an abstract background with a watermark-like text \"HESCO\" in the upper left corner, suggesting that it may be related to a company or product by that name.\\n\\nThe central focus of the image is the logo of the company depicted in the upper right corner. The logo consists of a stylized letter \\'H\\' inside a shield-like shape, which is set against a backdrop that resembles an open book or a series of pages. This could imply that the company may be involved with education or technology.\\n\\nBelow the logo, there are two blocks of text, but they are too small to read clearly in this image. The upper block is placed above the logo, and the lower block is directly beneath it. The positioning of these blocks suggests that they contain additional information about the company or its products.\\n\\nThe overall design of the webpage or advertisement is modern and corporate, with a color scheme that includes shades of blue and white. The layout is clean and minimalist, emphasizing the brand\\'s identity and message rather than excessive decoration. ', ' This image presents a humorous and exaggerated scenario about the availability of medical resources during a pandemic. The graphic is split into two sections, with each side representing a different situation.\\n\\nOn the left side of the image, we see a group of people, labeled as \"THEM,\" who are gathered around a single syringe filled with what appears to be an orange liquid. This suggests that the available resources for medical treatment in this scenario are very limited and shared among many individuals.\\n\\nThe right side of the image shows a stark contrast. It features another group of people, labeled as \"US,\" each with their own personal syringe, suggesting they have access to individual doses of medication. The text on the right side reads \"THEM - 1 DOSE / SURGERY,\" indicating that there is only one dose available for every surgery in this scenario. On the other hand, the text on the left reads \"US - 1 DOSE / WEEK,\" implying that each individual in the depicted situation receives a single dose of medication per week.\\n\\nThe image is a satirical commentary on the disparity in medical care access during a pandemic or crisis, highlighting the stark difference between individuals who have the resources for personalized medical care and those who share limited resources. It uses visual symbols to represent these two scenarios, with one side emphasizing scarcity and the other implying abundance. The orange liquid in the syringe on the left could symbolize a specific medication or treatment, while the personal syringes on the right represent individualized care. ', ' The image presents a visual metaphor using an illustration of a surgical instrument and the word \"surgery.\" To the right of the surgical instrument, there\\'s a text that reads \"I was born 1 year ago,\" followed by an arrow pointing from the surgeon to the pharmacy below. This suggests a conceptual relationship between the act of giving birth (symbolized by the surgeon) and the need for medical care or medication after giving birth, as indicated by the word \"pharmacy.\"\\n\\nOn the right side of the image, there\\'s another text that says \"1 year later,\" followed by an arrow pointing from the pharmacy to the \"surgery\" label. This indicates a progression from being born and needing care immediately after birth (represented by the pharmacy) to having surgery when one is older (as indicated by the age of the subject).\\n\\nThe image seems to be highlighting the idea that the process of giving birth and the need for medical attention can lead to surgical interventions as one grows older. It\\'s a visual representation of how these two concepts—giving birth and undergoing surgery—can be linked over time, emphasizing the importance of healthcare in both instances. ', ' The image appears to be a slide from a presentation, and it features two main components: textual information and an illustration.\\n\\nThe upper part of the image contains the word \"PHERGOT\" in bold letters, followed by \"+ DOCTAXEL,\" which is likely referring to a type of chemotherapy drug named Phhergogot, with a brand name Docetaxel. The text suggests that the content below will provide information on the continuation of the treatment and the minimum number of cycles required for cancer progression or side effects.\\n\\nBelow this text is an illustration depicting what seems to be two syringes connected by a tube, suggesting some form of medical device or apparatus. The background is plain white, which contrasts with the gray color of the syringes and tube.\\n\\nThe overall style of the image is informative and appears to be educational or instructional in nature, possibly used in an oncology or cancer treatment context. ', ' The image is a screenshot of a webpage, specifically the homepage of the Genesco Cancer Assistance Program. The screenshot shows a header with the program\\'s name, \"Genesco Cancer Assistance Program,\" and below that, there are two main sections.\\n\\nThe upper section includes a banner with a blue background featuring text in white and black fonts. It explains that Genesco is an accredited organization and provides information about their services. The lower section has a plain white background with text in black. This part of the page is titled \"Independent Co-Pay Assistance Foundation.\"\\n\\nBelow this title, there are three bullet points:\\n1. The foundation provides assistance for patients who are not eligible for insurance coverage or who have exhausted their benefits.\\n2. They do not provide cash payments to patients and their families directly.\\n3. Patients can apply for assistance through the Genesco website or by mail.\\n\\nAt the bottom of this section, there is a disclaimer in red text stating that \"The Genesco Cancer Assistance Program is not responsible for any errors or omissions in any information provided on its website.\"\\n\\nOverall, the screenshot appears to be from an informational website, possibly part of a healthcare organization\\'s outreach program aimed at helping patients with cancer-related expenses. The layout and design suggest that the site is designed to provide clear, concise information about the assistance program to those who might need it. ']\n"
     ]
    },
    {
     "name": "stderr",
     "output_type": "stream",
     "text": [
      "\n"
     ]
    }
   ],
   "source": [
    "import os\n",
    "import ollama\n",
    "from tqdm import tqdm\n",
    "import base64\n",
    "from PIL import Image\n",
    "from io import BytesIO\n",
    "\n",
    "# Initialize an empty list to store the results\n",
    "img_summaries = []\n",
    "\n",
    "\n",
    "# Iterate over all image strings in the list with a tqdm progress bar\n",
    "for image_string in tqdm(image_elements, desc=\"Processing images\"):\n",
    "    # Decode the image string using utf-8 encoders\n",
    "    img_data = base64.b64decode(image_string)\n",
    "    img = Image.open(BytesIO(img_data))\n",
    "    \n",
    "    # Save the image to a temporary file\n",
    "    img.save(\"temp.jpg\")\n",
    "    \n",
    "    # Call the chat function with the image file\n",
    "    res = ollama.chat(\n",
    "        model=\"llava\",\n",
    "        messages=[\n",
    "            {\n",
    "                'role':'user',\n",
    "                'content':'Describe elaboratively about this image :',\n",
    "                'images':[\"temp.jpg\"]\n",
    "            }\n",
    "        ]\n",
    "    )\n",
    "    \n",
    "    # Append the result to the image_summary list\n",
    "    img_summaries.append(res['message']['content'])\n",
    "\n",
    "# Print the image_summary list\n",
    "print(img_summaries)\n"
   ]
  },
  {
   "cell_type": "code",
   "execution_count": null,
   "metadata": {},
   "outputs": [
    {
     "data": {
      "text/plain": [
       "28"
      ]
     },
     "execution_count": 20,
     "metadata": {},
     "output_type": "execute_result"
    }
   ],
   "source": [
    "len(img_summaries)"
   ]
  },
  {
   "cell_type": "code",
   "execution_count": null,
   "metadata": {},
   "outputs": [
    {
     "data": {
      "text/plain": [
       "str"
      ]
     },
     "execution_count": 23,
     "metadata": {},
     "output_type": "execute_result"
    }
   ],
   "source": [
    "type(text_elements[0])"
   ]
  },
  {
   "cell_type": "code",
   "execution_count": 12,
   "metadata": {},
   "outputs": [],
   "source": [
    "documents = []\n",
    "retrieve_contents = []\n",
    "\n",
    "for e, s in zip(text_elements, text_summaries):\n",
    "    i = str(uuid.uuid4())\n",
    "    doc = Document(\n",
    "        page_content = s,\n",
    "        metadata = {\n",
    "            'id': i,\n",
    "            'type': 'text',\n",
    "            'original_content': e\n",
    "        }\n",
    "    )\n",
    "    retrieve_contents.append((i, e))\n",
    "    documents.append(doc)\n",
    "\n",
    "for e, s in zip(table_elements, table_summaries):\n",
    "    doc = Document(\n",
    "        page_content = s,\n",
    "        metadata = {\n",
    "            'id': i,\n",
    "            'type': 'table',\n",
    "            'original_content': e\n",
    "        }\n",
    "    )\n",
    "    retrieve_contents.append((i, e))\n",
    "    documents.append(doc)\n",
    "\n",
    "for e, s in zip(image_elements, img_summaries):\n",
    "    doc = Document(\n",
    "        page_content = s,\n",
    "        metadata = {\n",
    "            'id': i,\n",
    "            'type': 'image',\n",
    "            'original_content': e\n",
    "        }\n",
    "    )\n",
    "    retrieve_contents.append((i, s))\n",
    "    documents.append(doc)\n",
    "\n",
    "vectorstore = FAISS.from_documents(documents=documents, embedding=embeddings.OllamaEmbeddings(model='nomic-embed-text'))"
   ]
  },
  {
   "cell_type": "code",
   "execution_count": 13,
   "metadata": {},
   "outputs": [],
   "source": [
    "vectorstore.save_local(\"phesgo_faiss2\")"
   ]
  },
  {
   "cell_type": "code",
   "execution_count": 2,
   "metadata": {},
   "outputs": [],
   "source": [
    "embeddings = embeddings.OllamaEmbeddings(model='nomic-embed-text')"
   ]
  },
  {
   "cell_type": "code",
   "execution_count": 3,
   "metadata": {},
   "outputs": [],
   "source": [
    "db = FAISS.load_local(\"phesgo_faiss2\", embeddings,allow_dangerous_deserialization=True)"
   ]
  },
  {
   "cell_type": "code",
   "execution_count": 4,
   "metadata": {},
   "outputs": [],
   "source": [
    "from langchain_community.llms import Ollama\n",
    "from langchain.prompts import ChatPromptTemplate\n",
    "from langchain.schema import StrOutputParser\n",
    "from langchain.schema.runnable import Runnable\n",
    "from langchain.schema.runnable.config import RunnableConfig\n",
    "from langchain_community import embeddings\n",
    "from langchain_community.chat_models import ChatOllama\n",
    "from langchain_core.runnables import RunnablePassthrough\n",
    "from langchain_core.output_parsers import StrOutputParser\n",
    "from langchain_core.prompts import ChatPromptTemplate\n",
    "from langchain_community.vectorstores import FAISS"
   ]
  },
  {
   "cell_type": "code",
   "execution_count": 5,
   "metadata": {},
   "outputs": [],
   "source": [
    "retriever = db.as_retriever(search_kwargs={\"k\": 5})"
   ]
  },
  {
   "cell_type": "code",
   "execution_count": 6,
   "metadata": {},
   "outputs": [],
   "source": [
    "prompt_template = \"\"\"\n",
    "You are a data scientist and an expert in analyzing images and tables and text.\n",
    "Answer the question based only on the following context, which can include text, images and tables:\n",
    "{context}\n",
    "Question: {question}\n",
    "Don't answer if you are not sure and decline to answer and say \"Sorry, I don't have much information about it.\"\n",
    "Just return the helpful answer in as much as detailed possible.\n",
    "Answer:\n",
    "\"\"\""
   ]
  },
  {
   "cell_type": "code",
   "execution_count": 7,
   "metadata": {},
   "outputs": [],
   "source": [
    "model = ChatOllama(model=\"mistral\",temperature=0)"
   ]
  },
  {
   "cell_type": "code",
   "execution_count": 8,
   "metadata": {},
   "outputs": [],
   "source": [
    "# qa_chain = LLMChain(llm=ChatOllama(model=\"mistral\", temperature=0),\n",
    "#                         prompt=PromptTemplate.from_template(prompt_template))\n",
    "after_rag_prompt = ChatPromptTemplate.from_template(prompt_template)\n",
    "after_rag_chain = (\n",
    "        {\"context\": retriever, \"question\": RunnablePassthrough()}\n",
    "        | after_rag_prompt\n",
    "        | model\n",
    "        | StrOutputParser()\n",
    "    )"
   ]
  },
  {
   "cell_type": "code",
   "execution_count": 9,
   "metadata": {},
   "outputs": [
    {
     "name": "stdout",
     "output_type": "stream",
     "text": [
      " I cannot provide you with an image directly, but I can describe how these three medications - Phesgo (pertuzumab and trastuzumab delivered together via a single injection), Perjeta (pertuzumab), and Herceptin (trastuzumab) - are typically used in breast cancer treatment.\n",
      "\n",
      "Phesgo is an FDA-approved combination of pertuzumab and trastuzumab administered as a single subcutaneous injection, while Perjeta and Herceptin are separate medications given intravenously. They are all used to treat HER2-positive breast cancer.\n",
      "\n",
      "Perjeta (pertuzumab) is a monoclonal antibody that binds to the HER2 receptor on the surface of cancer cells, preventing them from growing and dividing. Herceptin (trastuzumab) is another monoclonal antibody that also targets the HER2 receptor on breast cancer cells, inhibiting their growth and division.\n",
      "\n",
      "In combination therapy, Phesgo (pertuzumab and trastuzumab), Perjeta (pertuzumab), and Herceptin (trastuzumab) are used to improve treatment outcomes for patients with HER2-positive breast cancer. The medications work together by blocking the HER2 receptor in different ways, making it more difficult for the cancer cells to survive and grow.\n",
      "\n",
      "Here's a simple diagram to illustrate their mechanism of action:\n",
      "\n",
      "```\n",
      "Breast Cancer Cell ───┐\n",
      "                    │\n",
      "                   │\n",
      "                  ┌──┴───┐\n",
      "                  │ Phesgo (pertuzumab + trastuzumab) │\n",
      "                  │     │\n",
      "                  └──┬──┘\n",
      "                   │\n",
      "                  ┌──┴───┐\n",
      "               HER2 Receptor ──────────────────────────────────────────────────────────────"
     ]
    }
   ],
   "source": [
    "async for chunk in after_rag_chain.astream(\"provide me the image that phesgo with perjeta and herceptin\"):\n",
    "    print(chunk, end=\"\", flush=True)"
   ]
  },
  {
   "cell_type": "code",
   "execution_count": 10,
   "metadata": {},
   "outputs": [
    {
     "name": "stdout",
     "output_type": "stream",
     "text": [
      " I cannot provide you with an image directly, but I can describe how these three medications - Phesgo (pertuzumab and trastuzumab delivered together via a single injection), Perjeta (pertuzumab), and Herceptin (trastuzumab) - are typically used in breast cancer treatment.\n",
      "\n",
      "Phesgo is an FDA-approved combination of pertuzumab and trastuzumab administered as a single subcutaneous injection, while Perjeta and Herceptin are separate medications given intravenously. They are all used to treat HER2-positive breast cancer.\n",
      "\n",
      "Perjeta (pertuzumab) is a monoclonal antibody that binds to the HER2 receptor on the surface of cancer cells, preventing them from growing and dividing. Herceptin (trastuzumab) is another monoclonal antibody that also targets the HER2 receptor on breast cancer cells, inhibiting their growth and division.\n",
      "\n",
      "In combination therapy, Phesgo (pertuzumab and trastuzumab), Perjeta (pertuzumab), and Herceptin (trastuzumab) are used to improve treatment outcomes for patients with HER2-positive breast cancer. The medications work together by blocking the HER2 receptor in different ways, making it more difficult for the cancer cells to survive and grow.\n",
      "\n",
      "Here's a simple diagram to illustrate their mechanism of action:\n",
      "\n",
      "```\n",
      "Breast Cancer Cell ───┐\n",
      "                    │\n",
      "                   │\n",
      "                  ┌──┴───┐\n",
      "                  │ Phesgo (pertuzumab + trastuzumab) │\n",
      "                  │     │\n",
      "                  └──┬──┘\n",
      "                   │\n",
      "                  ┌──┴───┐\n",
      "               HER2 Receptor ──────────────────────────────────────────────────────────────"
     ]
    },
    {
     "ename": "IndexError",
     "evalue": "list index out of range",
     "output_type": "error",
     "traceback": [
      "\u001b[1;31m---------------------------------------------------------------------------\u001b[0m",
      "\u001b[1;31mIndexError\u001b[0m                                Traceback (most recent call last)",
      "Cell \u001b[1;32mIn[10], line 18\u001b[0m\n\u001b[0;32m     16\u001b[0m     \u001b[38;5;28mprint\u001b[39m(chunk, end\u001b[38;5;241m=\u001b[39m\u001b[38;5;124m\"\u001b[39m\u001b[38;5;124m\"\u001b[39m, flush\u001b[38;5;241m=\u001b[39m\u001b[38;5;28;01mTrue\u001b[39;00m)\n\u001b[0;32m     17\u001b[0m rele_img\u001b[38;5;241m=\u001b[39manswer(question)\n\u001b[1;32m---> 18\u001b[0m display\u001b[38;5;241m.\u001b[39mdisplay(display\u001b[38;5;241m.\u001b[39mImage(base64\u001b[38;5;241m.\u001b[39mb64decode(\u001b[43mrele_img\u001b[49m\u001b[43m[\u001b[49m\u001b[38;5;241;43m0\u001b[39;49m\u001b[43m]\u001b[49m)))\n",
      "\u001b[1;31mIndexError\u001b[0m: list index out of range"
     ]
    }
   ],
   "source": [
    "# qa_chain = LLMChain(llm=ChatOllama(model=\"mistral\", temperature=0),\n",
    "#                         prompt=PromptTemplate.from_template(prompt_template))\n",
    "\n",
    "def answer(question):\n",
    "    relevant_docs = db.similarity_search(question)\n",
    "    context = \"\"\n",
    "    relevant_images = []\n",
    "    for d in relevant_docs:\n",
    "        if d.metadata['type'] == 'image':\n",
    "            context += '[image]' + d.page_content\n",
    "            relevant_images.append(d.metadata['original_content'])\n",
    "    # result = qa_chain.run({'context': context, 'question': question})\n",
    "    return relevant_images\n",
    "question=\"provide me the image that phesgo with perjeta and herceptin\"\n",
    "async for chunk in after_rag_chain.astream(question):\n",
    "    print(chunk, end=\"\", flush=True)\n",
    "rele_img=answer(question)\n",
    "display.display(display.Image(base64.b64decode(rele_img[0])))"
   ]
  },
  {
   "cell_type": "code",
   "execution_count": null,
   "metadata": {},
   "outputs": [],
   "source": []
  }
 ],
 "metadata": {
  "kernelspec": {
   "display_name": "multimodel",
   "language": "python",
   "name": "python3"
  },
  "language_info": {
   "codemirror_mode": {
    "name": "ipython",
    "version": 3
   },
   "file_extension": ".py",
   "mimetype": "text/x-python",
   "name": "python",
   "nbconvert_exporter": "python",
   "pygments_lexer": "ipython3",
   "version": "3.11.5"
  }
 },
 "nbformat": 4,
 "nbformat_minor": 2
}
