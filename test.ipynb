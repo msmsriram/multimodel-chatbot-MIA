{
 "cells": [
  {
   "cell_type": "code",
   "execution_count": 1,
   "metadata": {},
   "outputs": [],
   "source": [
    "\n",
    "import os\n",
    "import uuid\n",
    "import base64\n",
    "from IPython import display\n",
    "from unstructured.partition.pdf import partition_pdf\n",
    "# from langchain.chat_models import ChatOpenAI\n",
    "from langchain_community.chat_models import ChatOllama\n",
    "from langchain_community import embeddings\n",
    "\n",
    "# from langchain.embeddings import OpenAIEmbeddings\n",
    "from langchain.chains import LLMChain\n",
    "from langchain.prompts import PromptTemplate\n",
    "from langchain.schema.messages import HumanMessage, SystemMessage\n",
    "from langchain.schema.document import Document\n",
    "from langchain.vectorstores import FAISS\n",
    "from langchain.retrievers.multi_vector import MultiVectorRetriever"
   ]
  },
  {
   "cell_type": "code",
   "execution_count": 2,
   "metadata": {},
   "outputs": [],
   "source": [
    "output_path = \"./test_images\"\n"
   ]
  },
  {
   "cell_type": "code",
   "execution_count": 3,
   "metadata": {},
   "outputs": [
    {
     "name": "stderr",
     "output_type": "stream",
     "text": [
      "This function will be deprecated in a future release and `unstructured` will simply use the DEFAULT_MODEL from `unstructured_inference.model.base` to set default model name\n",
      "Some weights of the model checkpoint at microsoft/table-transformer-structure-recognition were not used when initializing TableTransformerForObjectDetection: ['model.backbone.conv_encoder.model.layer2.0.downsample.1.num_batches_tracked', 'model.backbone.conv_encoder.model.layer3.0.downsample.1.num_batches_tracked', 'model.backbone.conv_encoder.model.layer4.0.downsample.1.num_batches_tracked']\n",
      "- This IS expected if you are initializing TableTransformerForObjectDetection from the checkpoint of a model trained on another task or with another architecture (e.g. initializing a BertForSequenceClassification model from a BertForPreTraining model).\n",
      "- This IS NOT expected if you are initializing TableTransformerForObjectDetection from the checkpoint of a model that you expect to be exactly identical (initializing a BertForSequenceClassification model from a BertForSequenceClassification model).\n"
     ]
    }
   ],
   "source": [
    "raw_pdf_elements = partition_pdf(\n",
    "    filename=\"C:\\\\Users\\\\Barani\\\\Desktop\\\\chatbot\\\\dogs.pdf\",\n",
    "    extract_images_in_pdf=True,\n",
    "    infer_table_structure=True,\n",
    "    chunking_strategy=\"by_title\",\n",
    "    max_characters=4000,\n",
    "    new_after_n_chars=3800,\n",
    "    combine_text_under_n_chars=2000,\n",
    "    extract_image_block_output_dir=output_path,\n",
    ")"
   ]
  },
  {
   "cell_type": "code",
   "execution_count": 4,
   "metadata": {},
   "outputs": [
    {
     "name": "stderr",
     "output_type": "stream",
     "text": [
      "c:\\Users\\Barani\\Desktop\\chatbot\\multimodel\\Lib\\site-packages\\langchain_core\\_api\\deprecation.py:117: LangChainDeprecationWarning: The function `run` was deprecated in LangChain 0.1.0 and will be removed in 0.2.0. Use invoke instead.\n",
      "  warn_deprecated(\n"
     ]
    }
   ],
   "source": [
    "text_elements = []\n",
    "table_elements = []\n",
    "\n",
    "text_summaries = []\n",
    "table_summaries = []\n",
    "\n",
    "summary_prompt = \"\"\"\n",
    "Summarize the following {element_type}:\n",
    "{element}\n",
    "\"\"\"\n",
    "summary_chain = LLMChain(\n",
    "    llm=ChatOllama(model=\"mistral\",temperature=0 ),\n",
    "    prompt=PromptTemplate.from_template(summary_prompt)\n",
    ")\n",
    "\n",
    "for e in raw_pdf_elements:\n",
    "    if 'CompositeElement' in repr(e):\n",
    "        text_elements.append(e.text)\n",
    "        summary = summary_chain.run({'element_type': 'text', 'element': e})\n",
    "        text_summaries.append(summary)\n",
    "\n",
    "    elif 'Table' in repr(e):\n",
    "        table_elements.append(e.text)\n",
    "        summary = summary_chain.run({'element_type': 'table', 'element': e})\n",
    "        table_summaries.append(summary)"
   ]
  },
  {
   "cell_type": "code",
   "execution_count": 5,
   "metadata": {},
   "outputs": [],
   "source": [
    "image_elements = []\n",
    "\n",
    "def encode_image(image_path):\n",
    "    with open(image_path, \"rb\") as f:\n",
    "        return base64.b64encode(f.read()).decode('utf-8')"
   ]
  },
  {
   "cell_type": "code",
   "execution_count": 6,
   "metadata": {},
   "outputs": [],
   "source": [
    "for i in os.listdir(output_path):\n",
    "    if i.endswith(('.png', '.jpg', '.jpeg')):\n",
    "        image_path = os.path.join(output_path, i)\n",
    "        encoded_image = encode_image(image_path)\n",
    "        image_elements.append(encoded_image)"
   ]
  },
  {
   "cell_type": "code",
   "execution_count": 7,
   "metadata": {},
   "outputs": [
    {
     "data": {
      "text/plain": [
       "11"
      ]
     },
     "execution_count": 7,
     "metadata": {},
     "output_type": "execute_result"
    }
   ],
   "source": [
    "len(image_elements)"
   ]
  },
  {
   "cell_type": "code",
   "execution_count": 8,
   "metadata": {},
   "outputs": [
    {
     "data": {
      "text/plain": [
       "'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'"
      ]
     },
     "execution_count": 8,
     "metadata": {},
     "output_type": "execute_result"
    }
   ],
   "source": [
    "image_elements[0]"
   ]
  },
  {
   "cell_type": "code",
   "execution_count": 10,
   "metadata": {},
   "outputs": [
    {
     "name": "stderr",
     "output_type": "stream",
     "text": [
      "Processing images: 100%|██████████| 11/11 [04:11<00:00, 22.84s/it]"
     ]
    },
    {
     "name": "stdout",
     "output_type": "stream",
     "text": [
      "[' The image features a logo that reads \"USDA\" in bold, capitalized letters. Below the text, there is a small graphic or symbol, which appears to be stylized depiction of farmland, crops, or fields. To the right of the text and graphic, there\\'s an emblem with the letters \"USDA\" again, indicating that this logo represents the United States Department of Agriculture. The overall color scheme consists of various shades of blue and white, which are often associated with cleanliness, trustworthiness, and agriculture. The background is a gradient of light to dark blue. ', \" The image shows a close-up of a dog's mouth with its tongue visible. There are two red areas on the gums, one larger and the other smaller, which seem to be areas of concern or injury. A yellow arrow has been drawn over these red spots, indicating that these might be important for examination or treatment. The background is not clear, focusing attention on the dog's mouth. There are no visible texts within the image. \", \" The image is a digital representation or a logo with a background that transitions from light to dark shades, giving the impression of a sky. On this background, there are two main elements:\\n\\n1. A blue shield graphic in the center.\\n2. Above the shield graphic, there's an emblem featuring a tree with leaves and branches. The tree appears stylized and simplified, with the trunk and branches forming a pattern that resembles a tree without foliage.\\n3. Below the shield, on either side, there are two open books. They are symmetrical and appear to be textbooks or academic resources.\\n4. On the left side of the shield graphic, there is an emblem depicting a book with pages spread open, suggesting knowledge or learning.\\n5. To the right of this, there's a depiction of a flower, specifically a tree, with its leaves and branches extending from the center. The leaves are shaped like maple leaves, which are often associated with Canada.\\n\\nThe color palette is primarily blue, white, and gray, with the use of green in the emblem of the tree and the leaves. The overall style is graphic and seems to be a logo or emblem meant for academic institutions, given the presence of books and the shield motif which often symbolizes protection or tradition in heraldry. \", \" The image shows a veterinary examination taking place. In the center of the frame, there is a dog with its mouth open, revealing its teeth. A human hand with fingers spread out is holding the lower jaw of the dog, keeping it open for examination. The dog appears to be a medium-sized breed with a short coat. Its eyes are visible and appear to be focused on something outside of the frame. In the background, there's a person wearing a white coat, which suggests they may be a veterinarian or assistant. The focus of the image is on the interaction between the dog and the human hand, indicating that dental care or examination is being conducted. The photo captures a candid moment in a veterinary setting. \", \" The image shows a large black dog with prominent teeth and an open mouth, being held by a human hand. The dog appears to be panting or possibly showing its teeth in response to being pet or handled. The person's arm is visible holding the dog's snout open, and they seem to be carefully handling the dog.\\n\\nThe background of the image is out of focus, but it suggests an outdoor setting with greenery, indicating that the photo might have been taken in a park or a similar environment. There are no texts or additional objects present in the image. The style of the image is a candid photograph capturing a moment between a human and a dog, rather than being a staged portrait. \", \" The image is a close-up photograph of a dog's mouth. The dog appears to be in pain or discomfort, as indicated by its open mouth and the saliva pooling inside it. Its teeth are exposed, with one tooth being notably fractured or missing. There is no tongue visible, which might suggest that the dog is experiencing some difficulty eating or drinking due to the condition of its mouth. The background of the image is blurred, but it seems like there is a human hand holding the lower part of the dog's face, possibly to keep it still during the photograph. This suggests that the photo may have been taken at a veterinary clinic for diagnostic purposes. There are no texts or distinctive markings on the image itself. \", \" The image appears to be a close-up photograph of a human mouth with teeth. The central focus is on a tooth that seems to be damaged or decayed, as indicated by the presence of what looks like a cavity or hole in the enamel surface of the upper front right tooth. There's no visible enamel on this particular tooth, revealing the underlying dentin layer which has been partially affected by decay.\\n\\nAbove the teeth, there is an orange highlight that suggests the damaged area is being pointed out as something to be addressed, possibly for dental treatment purposes. The background of the image is not clearly visible due to the close-up angle, but it seems to be a light source or flash reflection on the tooth, indicating that the photo may have been taken with a camera flash or under a bright light.\\n\\nThe style of the image is straightforward and appears to serve as an educational or informative visual related to dental health issues, such as cavities or decay. \", \" The image shows a close-up of a dog's mouth with a focus on the teeth and gum area. There is an inflamed or irritated section in the upper left quadrant of the mouth, which appears to be a sore or infection. The mouth is open wide, revealing the teeth and the underside of the tongue. A small amount of saliva can be seen in the bottom left corner. There's a yellow circle highlighting the area of concern, indicating it may require attention from a veterinarian. The image seems to be taken with an intention to provide information about pet dental health or to document a pet's medical condition for professional advice. \", \" The image features a cartoon representation of a dog, which appears to be an illustration. The dog is sitting down, with its front legs tucked under its body and its tail curled up. It has a simple, stylized design typical of logos or mascots.\\n\\nAbove the dog's head, there is a circular badge or emblem with a blue background and a white border. Within this emblem, there is an image of a compass rose, which is traditionally used to symbolize navigation. The compass rose appears to be stylized in a simplified manner compared to its nautical counterparts.\\n\\nThe dog's head is not fully visible; only the upper part with the ears and eyes can be seen. The body of the dog extends downward out of the frame. There are no visible texts or additional details that provide context or information about the image. The style of the image suggests it could be related to a brand, organization, or service involving dogs, navigation, or both. \", \" The image shows a close-up view of an open mouth with teeth. One tooth, which appears to be the lower front left tooth, is missing its root and has an exposed gumline. There's a yellow circle highlighting this damaged tooth, suggesting it might be the focus or concern of dental treatment or care. The rest of the teeth are intact and appear healthy. The background is out of focus but seems to be the interior of a mouth with visible tongue and palate, indicating that the picture was likely taken from inside someone's mouth during an examination or procedure. \", \" The image shows a close-up view of a dog's mouth with several teeth visible. The teeth are in varying conditions, some appearing healthy with enamel covering them, while others show signs of wear or decay, possibly indicating dental disease. There is also a significant amount of brown tartar accumulated on the lower canine teeth and along the gumline, which can be indicative of poor oral hygiene. The dog's tongue is visible in the background with a small amount of saliva, and there appears to be a slight discoloration or stain at the base of one tooth. A yellow circle with a cross inside it highlights one specific tooth that stands out due to its color and condition. There is no text present in the image. The style of the photograph seems to be focused on capturing the dental health of the dog, possibly for medical or educational purposes. \"]\n"
     ]
    },
    {
     "name": "stderr",
     "output_type": "stream",
     "text": [
      "\n"
     ]
    }
   ],
   "source": [
    "import os\n",
    "import ollama\n",
    "from tqdm import tqdm\n",
    "import base64\n",
    "from PIL import Image\n",
    "from io import BytesIO\n",
    "\n",
    "# Initialize an empty list to store the results\n",
    "img_summaries = []\n",
    "\n",
    "\n",
    "# Iterate over all image strings in the list with a tqdm progress bar\n",
    "for image_string in tqdm(image_elements, desc=\"Processing images\"):\n",
    "    # Decode the image string using utf-8 encoders\n",
    "    img_data = base64.b64decode(image_string)\n",
    "    img = Image.open(BytesIO(img_data))\n",
    "    \n",
    "    # Save the image to a temporary file\n",
    "    img.save(\"temp.jpg\")\n",
    "    \n",
    "    # Call the chat function with the image file\n",
    "    res = ollama.chat(\n",
    "        model=\"llava\",\n",
    "        messages=[\n",
    "            {\n",
    "                'role':'user',\n",
    "                'content':'Describe this image :',\n",
    "                'images':[\"temp.jpg\"]\n",
    "            }\n",
    "        ]\n",
    "    )\n",
    "    \n",
    "    # Append the result to the image_summary list\n",
    "    img_summaries.append(res['message']['content'])\n",
    "\n",
    "# Print the image_summary list\n",
    "print(img_summaries)\n"
   ]
  },
  {
   "cell_type": "code",
   "execution_count": 11,
   "metadata": {},
   "outputs": [
    {
     "data": {
      "text/plain": [
       "11"
      ]
     },
     "execution_count": 11,
     "metadata": {},
     "output_type": "execute_result"
    }
   ],
   "source": [
    "len(img_summaries)"
   ]
  },
  {
   "cell_type": "code",
   "execution_count": 12,
   "metadata": {},
   "outputs": [
    {
     "data": {
      "text/plain": [
       "' The image features a logo that reads \"USDA\" in bold, capitalized letters. Below the text, there is a small graphic or symbol, which appears to be stylized depiction of farmland, crops, or fields. To the right of the text and graphic, there\\'s an emblem with the letters \"USDA\" again, indicating that this logo represents the United States Department of Agriculture. The overall color scheme consists of various shades of blue and white, which are often associated with cleanliness, trustworthiness, and agriculture. The background is a gradient of light to dark blue. '"
      ]
     },
     "execution_count": 12,
     "metadata": {},
     "output_type": "execute_result"
    }
   ],
   "source": [
    "img_summaries[0]"
   ]
  },
  {
   "cell_type": "code",
   "execution_count": 13,
   "metadata": {},
   "outputs": [
    {
     "data": {
      "text/plain": [
       "\" The image shows a close-up of a dog's mouth with its tongue visible. There are two red areas on the gums, one larger and the other smaller, which seem to be areas of concern or injury. A yellow arrow has been drawn over these red spots, indicating that these might be important for examination or treatment. The background is not clear, focusing attention on the dog's mouth. There are no visible texts within the image. \""
      ]
     },
     "execution_count": 13,
     "metadata": {},
     "output_type": "execute_result"
    }
   ],
   "source": [
    "img_summaries[1]"
   ]
  },
  {
   "cell_type": "code",
   "execution_count": 14,
   "metadata": {},
   "outputs": [],
   "source": [
    "documents = []\n",
    "retrieve_contents = []\n",
    "\n",
    "for e, s in zip(text_elements, text_summaries):\n",
    "    i = str(uuid.uuid4())\n",
    "    doc = Document(\n",
    "        page_content = s,\n",
    "        metadata = {\n",
    "            'id': i,\n",
    "            'type': 'text',\n",
    "            'original_content': e\n",
    "        }\n",
    "    )\n",
    "    retrieve_contents.append((i, e))\n",
    "    documents.append(doc)\n",
    "\n",
    "for e, s in zip(table_elements, table_summaries):\n",
    "    doc = Document(\n",
    "        page_content = s,\n",
    "        metadata = {\n",
    "            'id': i,\n",
    "            'type': 'table',\n",
    "            'original_content': e\n",
    "        }\n",
    "    )\n",
    "    retrieve_contents.append((i, e))\n",
    "    documents.append(doc)\n",
    "\n",
    "for e, s in zip(image_elements, img_summaries):\n",
    "    doc = Document(\n",
    "        page_content = s,\n",
    "        metadata = {\n",
    "            'id': i,\n",
    "            'type': 'image',\n",
    "            'original_content': e\n",
    "        }\n",
    "    )\n",
    "    retrieve_contents.append((i, s))\n",
    "    documents.append(doc)\n",
    "\n",
    "vectorstore = FAISS.from_documents(documents=documents, embedding=embeddings.OllamaEmbeddings(model='nomic-embed-text'))"
   ]
  },
  {
   "cell_type": "code",
   "execution_count": 15,
   "metadata": {},
   "outputs": [],
   "source": [
    "vectorstore.save_local(\"new_dog_faiss_index\")"
   ]
  },
  {
   "cell_type": "code",
   "execution_count": 2,
   "metadata": {},
   "outputs": [],
   "source": [
    "embeddings = embeddings.OllamaEmbeddings(model='nomic-embed-text')\n"
   ]
  },
  {
   "cell_type": "code",
   "execution_count": 3,
   "metadata": {},
   "outputs": [],
   "source": [
    "db = FAISS.load_local(\"new_dog_faiss_index\", embeddings,allow_dangerous_deserialization=True)"
   ]
  },
  {
   "cell_type": "code",
   "execution_count": 4,
   "metadata": {},
   "outputs": [],
   "source": [
    "prompt_template = \"\"\"\n",
    "You are a vet doctor and an expert in analyzing dog's health.\n",
    "Answer the question based only on the following context, which can include text, images and tables:\n",
    "{context}\n",
    "Question: {question}\n",
    "Don't answer if you are not sure and decline to answer and say \"Sorry, I don't have much information about it.\"\n",
    "Just return the helpful answer in as much as detailed possible.\n",
    "Answer:\n",
    "\"\"\""
   ]
  },
  {
   "cell_type": "code",
   "execution_count": 5,
   "metadata": {},
   "outputs": [],
   "source": [
    "qa_chain = LLMChain(llm=ChatOllama(model=\"mistral\", temperature=0),\n",
    "                        prompt=PromptTemplate.from_template(prompt_template))"
   ]
  },
  {
   "cell_type": "code",
   "execution_count": 11,
   "metadata": {},
   "outputs": [],
   "source": [
    "\n",
    "def answer(question):\n",
    "    relevant_docs = db.similarity_search(question)\n",
    "    context = \"\"\n",
    "    relevant_images = []\n",
    "    for d in relevant_docs:\n",
    "        if d.metadata['type'] == 'text':\n",
    "            context += '[text]' + d.metadata['original_content']\n",
    "        elif d.metadata['type'] == 'table':\n",
    "            context += '[table]' + d.metadata['original_content']\n",
    "        elif d.metadata['type'] == 'image':\n",
    "            context += '[image]' + d.page_content\n",
    "            relevant_images.append(d.metadata['original_content'])\n",
    "    result = qa_chain.run({'context': context, 'question': question})\n",
    "    return result, relevant_images"
   ]
  },
  {
   "cell_type": "code",
   "execution_count": 12,
   "metadata": {},
   "outputs": [
    {
     "name": "stdout",
     "output_type": "stream",
     "text": [
      " Gingivitis is a condition characterized by inflammation or redness of the gums around the teeth in dogs. It is an early stage of periodontal disease (PD), and its primary cause is bacterial plaque accumulation on the teeth surface. The gums may appear mildly red, swollen, or bleed easily when touched or during chewing. At this stage, there is usually no significant loss of teeth, but if left untreated, it can progress to more severe forms of PD, leading to tooth loss and other health issues. Regular dental check-ups and proper oral hygiene are essential for preventing and managing gingivitis in dogs.\n"
     ]
    }
   ],
   "source": [
    "result, relevant_images = answer(\"What is Gingivitis?\")\n",
    "print(result)"
   ]
  },
  {
   "cell_type": "code",
   "execution_count": 15,
   "metadata": {},
   "outputs": [
    {
     "data": {
      "image/jpeg": "[encoded data removed]",
      "text/plain": [
       "<IPython.core.display.Image object>"
      ]
     },
     "metadata": {},
     "output_type": "display_data"
    }
   ],
   "source": [
    "display.display(display.Image(base64.b64decode(relevant_images[2])))"
   ]
  },
  {
   "cell_type": "code",
   "execution_count": 10,
   "metadata": {},
   "outputs": [
    {
     "data": {
      "text/plain": [
       "bytes"
      ]
     },
     "execution_count": 10,
     "metadata": {},
     "output_type": "execute_result"
    }
   ],
   "source": [
    "type(relevant_images)"
   ]
  },
  {
   "cell_type": "code",
   "execution_count": 16,
   "metadata": {},
   "outputs": [
    {
     "name": "stdout",
     "output_type": "stream",
     "text": [
      " Early Periodontitis, also known as Grade I! periodontitis, is an early stage of periodontal disease (PD) in dogs. In this stage, there are mild signs of inflammation and tartar build-up on the teeth. The gums may exhibit some redness, but they remain attached to the teeth with no missing or loose teeth yet. This stage is crucial because if left untreated, it can progress to more severe forms of PD, leading to tooth loss and other health issues for your dog. Regular dental check-ups and proper oral hygiene practices are essential in preventing and managing early periodontitis effectively.\n"
     ]
    }
   ],
   "source": [
    "result, relevant_images = answer(\"What is Early Periodontitis?\")\n",
    "print(result)"
   ]
  },
  {
   "cell_type": "code",
   "execution_count": 17,
   "metadata": {},
   "outputs": [
    {
     "data": {
      "image/jpeg": "[encoded data removed]",
      "text/plain": [
       "<IPython.core.display.Image object>"
      ]
     },
     "metadata": {},
     "output_type": "display_data"
    }
   ],
   "source": [
    "display.display(display.Image(base64.b64decode(relevant_images[0])))"
   ]
  },
  {
   "cell_type": "code",
   "execution_count": null,
   "metadata": {},
   "outputs": [],
   "source": []
  }
 ],
 "metadata": {
  "kernelspec": {
   "display_name": "multimodel",
   "language": "python",
   "name": "python3"
  },
  "language_info": {
   "codemirror_mode": {
    "name": "ipython",
    "version": 3
   },
   "file_extension": ".py",
   "mimetype": "text/x-python",
   "name": "python",
   "nbconvert_exporter": "python",
   "pygments_lexer": "ipython3",
   "version": "3.11.5"
  }
 },
 "nbformat": 4,
 "nbformat_minor": 2
}
