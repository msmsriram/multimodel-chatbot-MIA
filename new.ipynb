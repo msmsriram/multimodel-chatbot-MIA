{
 "cells": [
  {
   "cell_type": "code",
   "execution_count": 1,
   "metadata": {},
   "outputs": [],
   "source": [
    "\n",
    "import os\n",
    "import uuid\n",
    "import base64\n",
    "from IPython import display\n",
    "from unstructured.partition.pdf import partition_pdf\n",
    "# from langchain.chat_models import ChatOpenAI\n",
    "from langchain_community.chat_models import ChatOllama\n",
    "from langchain_community import embeddings\n",
    "\n",
    "# from langchain.embeddings import OpenAIEmbeddings\n",
    "from langchain.chains import LLMChain\n",
    "from langchain.prompts import PromptTemplate\n",
    "from langchain.schema.messages import HumanMessage, SystemMessage\n",
    "from langchain.schema.document import Document\n",
    "from langchain.vectorstores import FAISS\n",
    "from langchain.retrievers.multi_vector import MultiVectorRetriever"
   ]
  },
  {
   "cell_type": "code",
   "execution_count": 2,
   "metadata": {},
   "outputs": [],
   "source": [
    "output_path = \"./dogs_images\"\n"
   ]
  },
  {
   "cell_type": "code",
   "execution_count": 3,
   "metadata": {},
   "outputs": [
    {
     "name": "stderr",
     "output_type": "stream",
     "text": [
      "This function will be deprecated in a future release and `unstructured` will simply use the DEFAULT_MODEL from `unstructured_inference.model.base` to set default model name\n",
      "Some weights of the model checkpoint at microsoft/table-transformer-structure-recognition were not used when initializing TableTransformerForObjectDetection: ['model.backbone.conv_encoder.model.layer2.0.downsample.1.num_batches_tracked', 'model.backbone.conv_encoder.model.layer3.0.downsample.1.num_batches_tracked', 'model.backbone.conv_encoder.model.layer4.0.downsample.1.num_batches_tracked']\n",
      "- This IS expected if you are initializing TableTransformerForObjectDetection from the checkpoint of a model trained on another task or with another architecture (e.g. initializing a BertForSequenceClassification model from a BertForPreTraining model).\n",
      "- This IS NOT expected if you are initializing TableTransformerForObjectDetection from the checkpoint of a model that you expect to be exactly identical (initializing a BertForSequenceClassification model from a BertForSequenceClassification model).\n"
     ]
    }
   ],
   "source": [
    "raw_pdf_elements = partition_pdf(\n",
    "    filename=\"C:\\\\Users\\\\Barani\\\\Desktop\\\\chatbot\\\\dogs.pdf\",\n",
    "    extract_images_in_pdf=True,\n",
    "    infer_table_structure=True,\n",
    "    chunking_strategy=\"by_title\",\n",
    "    max_characters=4000,\n",
    "    new_after_n_chars=3800,\n",
    "    combine_text_under_n_chars=2000,\n",
    "    extract_image_block_output_dir=output_path,\n",
    ")"
   ]
  },
  {
   "cell_type": "code",
   "execution_count": 6,
   "metadata": {},
   "outputs": [],
   "source": [
    "text_elements = []\n",
    "table_elements = []\n",
    "\n",
    "text_summaries = []\n",
    "table_summaries = []\n",
    "\n",
    "summary_prompt = \"\"\"\n",
    "Summarize the following {element_type}:\n",
    "{element}\n",
    "\"\"\"\n",
    "summary_chain = LLMChain(\n",
    "    llm=ChatOllama(model=\"mistral\",temperature=0 ),\n",
    "    prompt=PromptTemplate.from_template(summary_prompt)\n",
    ")\n",
    "\n",
    "for e in raw_pdf_elements:\n",
    "    if 'CompositeElement' in repr(e):\n",
    "        text_elements.append(e.text)\n",
    "        summary = summary_chain.run({'element_type': 'text', 'element': e})\n",
    "        text_summaries.append(summary)\n",
    "\n",
    "    elif 'Table' in repr(e):\n",
    "        table_elements.append(e.text)\n",
    "        summary = summary_chain.run({'element_type': 'table', 'element': e})\n",
    "        table_summaries.append(summary)"
   ]
  },
  {
   "cell_type": "code",
   "execution_count": 9,
   "metadata": {},
   "outputs": [
    {
     "name": "stderr",
     "output_type": "stream",
     "text": [
      "Processing images: 100%|██████████| 11/11 [03:33<00:00, 19.39s/it]"
     ]
    },
    {
     "name": "stdout",
     "output_type": "stream",
     "text": [
      "[' The image is a logo featuring the acronym \"USDA\" in capital letters, with the word \"USDA\" directly beneath it. To the left of the text, there\\'s a graphic element that appears to be a stylized representation of wheat or grain, symbolizing agriculture, which aligns with USDA being an abbreviation for the United States Department of Agriculture. The overall design is minimalistic, using a combination of blue and white colors. In the upper right corner, there\\'s a small graphic that seems to represent a farmer, suggesting a connection to farming or rural life. The logo has a clean, professional look typical of governmental organizations. ', ' The image is a close-up photograph of an animal\\'s mouth. Inside the mouth, there is a visible dental issue with significant plaque and tartar buildup on the teeth. A yellow arrow points to one particular tooth that appears to be heavily affected by these deposits. The teeth have been identified as needing attention. The image has a watermark at the bottom that reads \"PATENT\", which suggests that the image is related to patent material or perhaps it\\'s from an app, software, or a website with a focus on patents. ', ' The image is a digital graphic that features a stylized, simplistic tree on the left side. The tree has a simple, outline-style representation without much detail, suggesting an abstract or minimalist approach to the imagery. On the right side of the image, there is a dark blue background with a white silhouette of a book and what appears to be a stylized representation of a building, possibly indicating a school or library. The style of the image seems to be that of a logo or an emblem, often used for institutional branding or as part of a symbolic system. ', \" This image depicts a person's hands holding open the mouth of a dog. The dog is wearing a muzzle that prevents it from biting, and its teeth are exposed, showing signs of dental issues such as tartar buildup and possible infection or disease affecting the gums. The background is neutral and does not provide any specific context about the location. There are no visible texts on the image to provide additional information. The style of the image is a straightforward photograph with a focus on the dog's mouth, possibly for illustrative purposes related to veterinary care or dental health in dogs. \", \" The image shows a large dog with its mouth open wide, displaying numerous sharp teeth. The dog's fur appears to be in good condition, and it has a glossy black coat. Its eyes are not visible due to the angle of the shot. A person is petting the dog gently on the nose. The individual has their hand placed between the dog's nostrils and its open mouth. The background is minimalistic, with no distinct features that can be discerned. There's a watermark or logo in the lower right corner of the image, but it's not clear enough to identify the source or organization associated with it. The style of the photo seems candid and informal, capturing a moment between the dog and its handler. \", ' The image shows a close-up of a dog\\'s mouth, revealing its teeth and tongue. The dog appears to be a large breed with a prominent black nose. The inside of the dog\\'s mouth is coated in saliva, which can be seen on the tongue as well as in various parts of the mouth. There are no visible signs or symptoms that indicate a specific medical condition, such as dental disease or injury. The image has been digitally manipulated to include an overlaid text graphic stating \"Dental disease,\" suggesting that this might be the context or theme related to this image. ', ' The image appears to be a close-up photograph of a human mouth with teeth that are partially missing and exposed. There is a yellowish line or marking on the gum area above the lower front teeth, which could indicate an area that has been removed for dental work such as a tooth extraction or implant preparation. The teeth at the bottom of the image show decay and cavities with some of them having fillings. There are no visible tongue or lip in this close-up shot. The overall condition of the teeth suggests the need for dental care, possibly including restorations like crowns or bridges to replace the missing teeth. ', \" The image shows a close-up of a dog's mouth and teeth. The dog appears to be undergoing dental treatment, as evidenced by the presence of a small incision at the gum line in its upper right molar area. There is also some surgical material or suture visible next to the incision. The dog has a light fur color, and there's a yellowish substance that could be from the surgery process or a medication. A magnifying glass icon with an arrow pointing towards the site of treatment suggests that this photo is meant to illustrate a specific aspect of veterinary care. \", \" The image displays a stylized graphic of a white dog with blue eyes, sitting inside a circle. To the left of the dog's head is a circular emblem or icon that resembles a dog's paw, colored in a shade of blue. Adjacent to this emblem on the right, there's a circular symbol that appears to be a shield with three points and two parallel lines at its base, also colored blue. The entire graphic is set against a plain background and has a clean, modern look to it. There are no texts visible in the image. \", ' The image shows a close-up of a person\\'s teeth and mouth. There is a significant amount of decay on the bottom teeth, with yellowish-brown staining indicating the presence of plaque or bacteria. The upper teeth are visible but do not appear to be as affected. There is also a pink tongue in the background. A yellow arrow points towards a particularly rotten tooth, drawing attention to it as an example of poor dental hygiene. In the bottom right corner of the image, there\\'s a text that reads \"A\" with a yellow underline, which seems to be part of an educational context or a labeling the decayed tooth in question. ', ' The image shows a close-up of a dog\\'s mouth that appears to be in the process of being repaired. There is a significant amount of blood and yellowish material, which could indicate infection or inflammation. The teeth within the mouth are visibly damaged, with some missing and others showing signs of decay. The surrounding gums also appear inflamed, possibly due to the infection or injury that has occurred.\\n\\nAt the bottom of the image, there is a magnifying glass icon with a yellow circle around it, followed by the text \"B\" in black letters. To the left of this icon, there is another circle, but its contents are not visible in the provided image. The overall style of the image is a close-up photograph, and it appears to be taken from above the dog\\'s head. ']\n"
     ]
    },
    {
     "name": "stderr",
     "output_type": "stream",
     "text": [
      "\n"
     ]
    }
   ],
   "source": [
    "import os\n",
    "import ollama\n",
    "from tqdm import tqdm\n",
    "\n",
    "# Initialize an empty list to store the results\n",
    "img_summaries = []\n",
    "\n",
    "# Define the directory path\n",
    "dir_path = \"C:\\\\Users\\\\Barani\\\\Desktop\\\\chatbot\\\\dogs_images\"\n",
    "\n",
    "# Get a list of all .jpg files in the directory\n",
    "jpg_files = [f for f in os.listdir(dir_path) if f.endswith(\".jpg\")]\n",
    "\n",
    "# Iterate over all .jpg files in the directory with a tqdm progress bar\n",
    "for filename in tqdm(jpg_files, desc=\"Processing images\"):\n",
    "    # Construct the full file path\n",
    "    file_path = os.path.join(dir_path, filename)\n",
    "    \n",
    "    # Call the chat function with the image file\n",
    "    res = ollama.chat(\n",
    "        model=\"llava\",\n",
    "        messages=[\n",
    "            {\n",
    "                'role':'user',\n",
    "                'content':'Describe this image :',\n",
    "                'images':[file_path]\n",
    "            }\n",
    "        ]\n",
    "    )\n",
    "    \n",
    "    # Append the result to the image_summary list\n",
    "    img_summaries.append(res['message']['content'])\n",
    "\n",
    "# Print the image_summary list\n",
    "print(img_summaries)\n"
   ]
  },
  {
   "cell_type": "code",
   "execution_count": 10,
   "metadata": {},
   "outputs": [
    {
     "data": {
      "text/plain": [
       "11"
      ]
     },
     "execution_count": 10,
     "metadata": {},
     "output_type": "execute_result"
    }
   ],
   "source": [
    "len(img_summaries)"
   ]
  },
  {
   "cell_type": "code",
   "execution_count": 11,
   "metadata": {},
   "outputs": [],
   "source": [
    "image_elements = []\n",
    "\n",
    "def encode_image(image_path):\n",
    "    with open(image_path, \"rb\") as f:\n",
    "        return base64.b64encode(f.read()).decode('utf-8')"
   ]
  },
  {
   "cell_type": "code",
   "execution_count": 12,
   "metadata": {},
   "outputs": [],
   "source": [
    "for i in os.listdir(output_path):\n",
    "    if i.endswith(('.png', '.jpg', '.jpeg')):\n",
    "        image_path = os.path.join(output_path, i)\n",
    "        encoded_image = encode_image(image_path)\n",
    "        image_elements.append(encoded_image)"
   ]
  },
  {
   "cell_type": "code",
   "execution_count": 13,
   "metadata": {},
   "outputs": [
    {
     "data": {
      "text/plain": [
       "11"
      ]
     },
     "execution_count": 13,
     "metadata": {},
     "output_type": "execute_result"
    }
   ],
   "source": [
    "len(image_elements)"
   ]
  },
  {
   "cell_type": "code",
   "execution_count": 15,
   "metadata": {},
   "outputs": [],
   "source": [
    "documents = []\n",
    "retrieve_contents = []\n",
    "\n",
    "for e, s in zip(text_elements, text_summaries):\n",
    "    i = str(uuid.uuid4())\n",
    "    doc = Document(\n",
    "        page_content = s,\n",
    "        metadata = {\n",
    "            'id': i,\n",
    "            'type': 'text',\n",
    "            'original_content': e\n",
    "        }\n",
    "    )\n",
    "    retrieve_contents.append((i, e))\n",
    "    documents.append(doc)\n",
    "\n",
    "for e, s in zip(table_elements, table_summaries):\n",
    "    doc = Document(\n",
    "        page_content = s,\n",
    "        metadata = {\n",
    "            'id': i,\n",
    "            'type': 'table',\n",
    "            'original_content': e\n",
    "        }\n",
    "    )\n",
    "    retrieve_contents.append((i, e))\n",
    "    documents.append(doc)\n",
    "\n",
    "for e, s in zip(image_elements, img_summaries):\n",
    "    doc = Document(\n",
    "        page_content = s,\n",
    "        metadata = {\n",
    "            'id': i,\n",
    "            'type': 'image',\n",
    "            'original_content': e\n",
    "        }\n",
    "    )\n",
    "    retrieve_contents.append((i, s))\n",
    "    documents.append(doc)\n",
    "\n",
    "vectorstore = FAISS.from_documents(documents=documents, embedding=embeddings.OllamaEmbeddings(model='nomic-embed-text'))"
   ]
  },
  {
   "cell_type": "code",
   "execution_count": 16,
   "metadata": {},
   "outputs": [],
   "source": [
    "vectorstore.save_local(\"dog_faiss_index\")"
   ]
  },
  {
   "cell_type": "code",
   "execution_count": 5,
   "metadata": {},
   "outputs": [],
   "source": [
    "embeddings = embeddings.OllamaEmbeddings(model='nomic-embed-text')\n"
   ]
  },
  {
   "cell_type": "code",
   "execution_count": 6,
   "metadata": {},
   "outputs": [],
   "source": [
    "db = FAISS.load_local(\"dog_faiss_index\", embeddings,allow_dangerous_deserialization=True)"
   ]
  },
  {
   "cell_type": "code",
   "execution_count": 7,
   "metadata": {},
   "outputs": [],
   "source": [
    "prompt_template = \"\"\"\n",
    "You are a vet doctor and an expert in analyzing dog's health.\n",
    "Answer the question based only on the following context, which can include text, images and tables:\n",
    "{context}\n",
    "Question: {question}\n",
    "Don't answer if you are not sure and decline to answer and say \"Sorry, I don't have much information about it.\"\n",
    "Just return the helpful answer in as much as detailed possible.\n",
    "Answer:\n",
    "\"\"\""
   ]
  },
  {
   "cell_type": "code",
   "execution_count": 8,
   "metadata": {},
   "outputs": [],
   "source": [
    "qa_chain = LLMChain(llm=ChatOllama(model=\"mistral\", temperature=0),\n",
    "                        prompt=PromptTemplate.from_template(prompt_template))"
   ]
  },
  {
   "cell_type": "code",
   "execution_count": 32,
   "metadata": {},
   "outputs": [],
   "source": [
    "\n",
    "def answer(question):\n",
    "    relevant_docs = db.similarity_search(question)\n",
    "    context = \"\"\n",
    "    relevant_images = []\n",
    "    for d in relevant_docs:\n",
    "        if d.metadata['type'] == 'text':\n",
    "            context += '[text]' + d.metadata['original_content']\n",
    "        elif d.metadata['type'] == 'table':\n",
    "            context += '[table]' + d.metadata['original_content']\n",
    "        elif d.metadata['type'] == 'image':\n",
    "            context += '[image]' + d.page_content\n",
    "            relevant_images.append(d.metadata['original_content'])\n",
    "    result = qa_chain.run({'context': context, 'question': question})\n",
    "    return result, (base64.b64decode(relevant_images[0]))"
   ]
  },
  {
   "cell_type": "code",
   "execution_count": 26,
   "metadata": {},
   "outputs": [
    {
     "name": "stdout",
     "output_type": "stream",
     "text": [
      " Gingivitis is a dental condition characterized by inflammation of the gums around the teeth. It is typically the earliest stage of periodontal disease (PD) in dogs, and it can lead to more severe forms of PD if left untreated. The signs of gingivitis include mild redness and swelling of the gums, as well as a small amount of tartar buildup on the teeth. During a routine dental exam, a veterinarian may diagnose gingivitis based on visual assessment and palpation of the gums. Treatment for gingivitis usually involves professional cleaning of the teeth, followed by at-home oral care practices such as brushing the dog's teeth daily and providing dental chews or toys to help reduce plaque buildup. Preventive measures, such as regular dental check-ups and proper home care, can help prevent or minimize the development of gingivitis in dogs.\n"
     ]
    }
   ],
   "source": [
    "result, relevant_images = answer(\"What is Gingivitis?\")\n",
    "print(result)"
   ]
  },
  {
   "cell_type": "code",
   "execution_count": 20,
   "metadata": {},
   "outputs": [
    {
     "data": {
      "image/jpeg": "[encoded data removed]",
      "text/plain": [
       "<IPython.core.display.Image object>"
      ]
     },
     "metadata": {},
     "output_type": "display_data"
    }
   ],
   "source": [
    "display.display(display.Image(base64.b64decode(relevant_images[2])))\n"
   ]
  },
  {
   "cell_type": "code",
   "execution_count": 21,
   "metadata": {},
   "outputs": [],
   "source": [
    "result, relevant_images = answer(\"What is Early periodontits?\")\n"
   ]
  },
  {
   "cell_type": "code",
   "execution_count": 23,
   "metadata": {},
   "outputs": [
    {
     "data": {
      "text/plain": [
       "\" Early Periodontitis, also known as Grade I! periodontitis, is an initial stage of periodontal disease in dogs. In this stage, there are mild signs of inflammation and tartar buildup on the teeth. The gums may exhibit some redness, but they remain attached to the teeth with no significant recession or loosening. At this stage, the disease is still reversible with proper dental care and treatment. Regular brushing, professional cleaning, and addressing any underlying causes such as dietary issues can help prevent the progression of periodontitis. It's essential to monitor your dog's oral health closely and consult a veterinarian if you notice any signs of periodontal disease.\""
      ]
     },
     "execution_count": 23,
     "metadata": {},
     "output_type": "execute_result"
    }
   ],
   "source": [
    "result"
   ]
  },
  {
   "cell_type": "code",
   "execution_count": 22,
   "metadata": {},
   "outputs": [
    {
     "data": {
      "image/jpeg": "[encoded data removed]",
      "text/plain": [
       "<IPython.core.display.Image object>"
      ]
     },
     "metadata": {},
     "output_type": "display_data"
    }
   ],
   "source": [
    "display.display(display.Image(base64.b64decode(relevant_images[0])))"
   ]
  },
  {
   "cell_type": "code",
   "execution_count": null,
   "metadata": {},
   "outputs": [],
   "source": [
    "# import gradio as gr\n",
    "\n",
    "# def wrapper_func(question):\n",
    "    \n",
    "#     def answer(question):\n",
    "#             from langchain.vectorstores import FAISS\n",
    "#             from langchain.chains import LLMChain\n",
    "#             from langchain_community.chat_models import ChatOllama\n",
    "#             from langchain.prompts import PromptTemplate\n",
    "\n",
    "\n",
    "\n",
    "#             qa_chain = LLMChain(llm=ChatOllama(model=\"mistral\", temperature=0),\n",
    "#                         prompt=PromptTemplate.from_template(prompt_template))\n",
    "#             embeddings = embeddings.OllamaEmbeddings(model='nomic-embed-text')\n",
    "#             db = FAISS.load_local(\"dog_faiss_index\", embeddings,allow_dangerous_deserialization=True)\n",
    "#             relevant_docs = db.similarity_search(question)\n",
    "#             context = \"\"\n",
    "#             relevant_images = []\n",
    "#             for d in relevant_docs:\n",
    "#                 if d.metadata['type'] == 'text':\n",
    "#                     context += '[text]' + d.metadata['original_content']\n",
    "#                 elif d.metadata['type'] == 'table':\n",
    "#                     context += '[table]' + d.metadata['original_content']\n",
    "#                 elif d.metadata['type'] == 'image':\n",
    "#                     context += '[image]' + d.page_content\n",
    "#                     relevant_images.append(d.metadata['original_content'])\n",
    "#             result = qa_chain.run({'context': context, 'question': question})\n",
    "#             return result, relevant_images\n",
    "#     result, relevant_images = answer(question)\n",
    "#     return result, relevant_images\n",
    "\n",
    "# iface = gr.Interface(fn=wrapper_func, \n",
    "#                      inputs=\"text\", \n",
    "#                      outputs=[\"text\", \"image\"],\n",
    "#                      interpretation=\"default\")\n",
    "\n",
    "# iface.launch()\n"
   ]
  },
  {
   "cell_type": "code",
   "execution_count": 33,
   "metadata": {},
   "outputs": [
    {
     "name": "stdout",
     "output_type": "stream",
     "text": [
      "Running on local URL:  http://127.0.0.1:7862\n",
      "\n",
      "To create a public link, set `share=True` in `launch()`.\n"
     ]
    },
    {
     "data": {
      "text/html": [
       "<div><iframe src=\"http://127.0.0.1:7862/\" width=\"100%\" height=\"500\" allow=\"autoplay; camera; microphone; clipboard-read; clipboard-write;\" frameborder=\"0\" allowfullscreen></iframe></div>"
      ],
      "text/plain": [
       "<IPython.core.display.HTML object>"
      ]
     },
     "metadata": {},
     "output_type": "display_data"
    },
    {
     "data": {
      "text/plain": []
     },
     "execution_count": 33,
     "metadata": {},
     "output_type": "execute_result"
    },
    {
     "name": "stderr",
     "output_type": "stream",
     "text": [
      "Traceback (most recent call last):\n",
      "  File \"c:\\Users\\Barani\\Desktop\\chatbot\\multimodel\\Lib\\site-packages\\gradio\\queueing.py\", line 527, in process_events\n",
      "    response = await route_utils.call_process_api(\n",
      "               ^^^^^^^^^^^^^^^^^^^^^^^^^^^^^^^^^^^\n",
      "  File \"c:\\Users\\Barani\\Desktop\\chatbot\\multimodel\\Lib\\site-packages\\gradio\\route_utils.py\", line 261, in call_process_api\n",
      "    output = await app.get_blocks().process_api(\n",
      "             ^^^^^^^^^^^^^^^^^^^^^^^^^^^^^^^^^^^\n",
      "  File \"c:\\Users\\Barani\\Desktop\\chatbot\\multimodel\\Lib\\site-packages\\gradio\\blocks.py\", line 1795, in process_api\n",
      "    data = await self.postprocess_data(fn_index, result[\"prediction\"], state)\n",
      "           ^^^^^^^^^^^^^^^^^^^^^^^^^^^^^^^^^^^^^^^^^^^^^^^^^^^^^^^^^^^^^^^^^^\n",
      "  File \"c:\\Users\\Barani\\Desktop\\chatbot\\multimodel\\Lib\\site-packages\\gradio\\blocks.py\", line 1623, in postprocess_data\n",
      "    prediction_value = block.postprocess(prediction_value)\n",
      "                       ^^^^^^^^^^^^^^^^^^^^^^^^^^^^^^^^^^^\n",
      "  File \"c:\\Users\\Barani\\Desktop\\chatbot\\multimodel\\Lib\\site-packages\\gradio\\components\\image.py\", line 205, in postprocess\n",
      "    saved = image_utils.save_image(value, self.GRADIO_CACHE, self.format)\n",
      "            ^^^^^^^^^^^^^^^^^^^^^^^^^^^^^^^^^^^^^^^^^^^^^^^^^^^^^^^^^^^^^\n",
      "  File \"c:\\Users\\Barani\\Desktop\\chatbot\\multimodel\\Lib\\site-packages\\gradio\\image_utils.py\", line 74, in save_image\n",
      "    raise ValueError(\n",
      "ValueError: Cannot process this value as an Image, it is of type: <class 'bytes'>\n"
     ]
    }
   ],
   "source": [
    "import gradio as gr\n",
    "\n",
    "\n",
    "\n",
    "iface = gr.Interface(fn=answer, \n",
    "                     inputs=\"text\", \n",
    "                     outputs=[\"text\", \"image\"])\n",
    "\n",
    "iface.launch()\n"
   ]
  },
  {
   "cell_type": "code",
   "execution_count": null,
   "metadata": {},
   "outputs": [],
   "source": []
  }
 ],
 "metadata": {
  "kernelspec": {
   "display_name": "multimodel",
   "language": "python",
   "name": "python3"
  },
  "language_info": {
   "codemirror_mode": {
    "name": "ipython",
    "version": 3
   },
   "file_extension": ".py",
   "mimetype": "text/x-python",
   "name": "python",
   "nbconvert_exporter": "python",
   "pygments_lexer": "ipython3",
   "version": "3.11.5"
  }
 },
 "nbformat": 4,
 "nbformat_minor": 2
}
