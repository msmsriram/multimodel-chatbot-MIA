{
 "cells": [
  {
   "cell_type": "code",
   "execution_count": 1,
   "metadata": {},
   "outputs": [],
   "source": [
    "\n",
    "import os\n",
    "import uuid\n",
    "import base64\n",
    "from IPython import display\n",
    "from unstructured.partition.pdf import partition_pdf\n",
    "# from langchain.chat_models import ChatOpenAI\n",
    "from langchain_community.chat_models import ChatOllama\n",
    "from langchain_community import embeddings\n",
    "\n",
    "# from langchain.embeddings import OpenAIEmbeddings\n",
    "from langchain.chains import LLMChain\n",
    "from langchain.prompts import PromptTemplate\n",
    "from langchain.schema.messages import HumanMessage, SystemMessage\n",
    "from langchain.schema.document import Document\n",
    "from langchain.vectorstores import FAISS\n",
    "from langchain.retrievers.multi_vector import MultiVectorRetriever"
   ]
  },
  {
   "cell_type": "code",
   "execution_count": 2,
   "metadata": {},
   "outputs": [],
   "source": [
    "output_path = \"./test2sri2\"\n"
   ]
  },
  {
   "cell_type": "code",
   "execution_count": 3,
   "metadata": {},
   "outputs": [
    {
     "name": "stderr",
     "output_type": "stream",
     "text": [
      "This function will be deprecated in a future release and `unstructured` will simply use the DEFAULT_MODEL from `unstructured_inference.model.base` to set default model name\n",
      "Some weights of the model checkpoint at microsoft/table-transformer-structure-recognition were not used when initializing TableTransformerForObjectDetection: ['model.backbone.conv_encoder.model.layer2.0.downsample.1.num_batches_tracked', 'model.backbone.conv_encoder.model.layer3.0.downsample.1.num_batches_tracked', 'model.backbone.conv_encoder.model.layer4.0.downsample.1.num_batches_tracked']\n",
      "- This IS expected if you are initializing TableTransformerForObjectDetection from the checkpoint of a model trained on another task or with another architecture (e.g. initializing a BertForSequenceClassification model from a BertForPreTraining model).\n",
      "- This IS NOT expected if you are initializing TableTransformerForObjectDetection from the checkpoint of a model that you expect to be exactly identical (initializing a BertForSequenceClassification model from a BertForSequenceClassification model).\n"
     ]
    }
   ],
   "source": [
    "raw_pdf_elements = partition_pdf(\n",
    "    filename=r\"C:\\Users\\Public\\VS_Code_Workspace\\Langchain_LLM\\sriram\\chatbot\\chatbot\\phesgo3.pdf\",\n",
    "    extract_images_in_pdf=True,\n",
    "    infer_table_structure=True,\n",
    "    chunking_strategy=\"by_title\",\n",
    "    max_characters=4000,\n",
    "    new_after_n_chars=3800,\n",
    "    combine_text_under_n_chars=2000,\n",
    "    extract_image_block_output_dir=output_path,\n",
    ")"
   ]
  },
  {
   "cell_type": "code",
   "execution_count": 5,
   "metadata": {},
   "outputs": [],
   "source": [
    "text_elements = []\n",
    "table_elements = []\n",
    "\n",
    "text_summaries = []\n",
    "table_summaries = []\n",
    "\n",
    "summary_prompt = \"\"\"\n",
    "Summarize the following {element_type}:\n",
    "{element}\n",
    "\"\"\"\n",
    "summary_chain = LLMChain(\n",
    "    llm=ChatOllama(model=\"mistral\",temperature=0 ),\n",
    "    prompt=PromptTemplate.from_template(summary_prompt)\n",
    ")\n",
    "# after_rag_template = \"\"\"\n",
    "# # Summarize the following {element_type}:\n",
    "# # {element}\n",
    "# # \"\"\"\n",
    "# llm=ChatOllama(model=\"mistral\",temperature=0)\n",
    "\n",
    "# after_rag_prompt = ChatPromptTemplate.from_template(after_rag_template)\n",
    "# runnable = after_rag_template | llm | StrOutputParser()\n",
    "\n",
    "for e in raw_pdf_elements:\n",
    "    if 'CompositeElement' in repr(e):\n",
    "        text_elements.append(e.text)\n",
    "        summary = summary_chain.run({'element_type': 'text', 'element': e})\n",
    "        text_summaries.append(summary)\n",
    "\n",
    "    elif 'Table' in repr(e):\n",
    "        table_elements.append(e.text)\n",
    "        summary = summary_chain.run({'element_type': 'table', 'element': e})\n",
    "        table_summaries.append(summary)"
   ]
  },
  {
   "cell_type": "code",
   "execution_count": 6,
   "metadata": {},
   "outputs": [
    {
     "data": {
      "text/plain": [
       "3"
      ]
     },
     "execution_count": 6,
     "metadata": {},
     "output_type": "execute_result"
    }
   ],
   "source": [
    "len(text_elements)"
   ]
  },
  {
   "cell_type": "code",
   "execution_count": 7,
   "metadata": {},
   "outputs": [
    {
     "data": {
      "text/plain": [
       "'US Healthcare Professionals Site\\n\\nSearch\\n\\nPHESGO Patient Support Program\\n\\nPrescribing Information Safety\\n\\nHome\\n\\nAbout HER2+ Breast Cancer\\n\\nAbout PHESGO\\n\\nSide Eects\\n\\nPatient Stories\\n\\nPatient Resources\\n\\nFinancial Support\\n\\nUnderstanding HER2+ breast cancer\\n\\nWhat is HER2-positive (HER2+) breast cancer?\\n\\nAll the cells in the body—healthy and cancerous—have HER2 receptors. But HER2+ breast cancer cells have too many HER2 receptors, which makes them grow and divide faster than other types of cells. This causes tumors to form.\\n\\nNORMAL CELL\\n\\nHER2+ CANCER CELL\\n\\nHow does my doctor know that my breast cancer is HER2+? Your doctor will know that your breast cancer is HER2+ by ordering a HER2 test. This test should be done before any breast cancer treatment is started. PHESGO has been shown to work only in people with HER2+ breast cancer.\\n\\nEarly vs metastatic breast cancer\\n\\nYou might have been told you have early breast cancer or metastatic breast cancer. You may even have experience with both. If you have early breast cancer, that means the cancer started in the breast and has not spread to other parts of the body. However, cancer cells may also be in nearby glands called lymph nodes. Metastatic breast cancer means the cancer has spread to other parts of the body, such as the lungs, liver, or bones. PHESGO can be used for both early and metastatic breast cancer, but each has a different treatment plan.\\n\\nYou can explore what your treatment schedule might look like here:\\n\\nEARLY BREAST CANCER TREATMENT\\n\\nMETASTATIC BREAST CANCER\\n\\nSCHEDULE\\n\\nTREATMENT SCHEDULE\\n\\nWhat else should I know about HER2+ breast cancer?\\n\\nNot all HER2+ breast cancers are the same. Before recommending a treatment plan for you, your healthcare team will consider a number of other factors about your particular cancer, as well as your personal medical history and condition. This is because some treatments are more appropriate for different patients. Here are some of the things your healthcare team will look at:\\n\\nLymph node status\\n\\nYour doctor will check if the cancer cells are also in the glands around or near the collarbone, near the breastbone, or in the armpits. These are called lymph nodes. If cancer cells are found in one or more lymph nodes, the cancer is said to be “node-positive” (node+).'"
      ]
     },
     "execution_count": 7,
     "metadata": {},
     "output_type": "execute_result"
    }
   ],
   "source": [
    "text_elements[0]"
   ]
  },
  {
   "cell_type": "code",
   "execution_count": 8,
   "metadata": {},
   "outputs": [],
   "source": [
    "image_elements = []\n",
    "\n",
    "def encode_image(image_path):\n",
    "    with open(image_path, \"rb\") as f:\n",
    "        return base64.b64encode(f.read()).decode('utf-8')\n",
    "for i in os.listdir(output_path):\n",
    "    if i.endswith(('.png', '.jpg', '.jpeg')):\n",
    "        image_path = os.path.join(output_path, i)\n",
    "        encoded_image = encode_image(image_path)\n",
    "        image_elements.append(encoded_image)\n"
   ]
  },
  {
   "cell_type": "code",
   "execution_count": 9,
   "metadata": {},
   "outputs": [
    {
     "name": "stderr",
     "output_type": "stream",
     "text": [
      "Processing images: 100%|██████████| 7/7 [01:49<00:00, 15.65s/it]"
     ]
    },
    {
     "name": "stdout",
     "output_type": "stream",
     "text": [
      "[' The image shows a digital advertisement for the company \"Phyto-Essence.\" The logo of the company is prominently displayed at the top of the ad, featuring a stylized plant design with the name of the company in white lettering.\\n\\nThe main text on the ad reads \"PHYTO-ESENCE,\" which appears to be the name of the product or service being advertised. Below this, there are several lines of smaller text in various languages that likely describe the features, benefits, or instructions related to the product.\\n\\nAt the bottom right corner of the image, there\\'s a small icon indicating the use of 100% natural ingredients, suggesting that the product may be health-related or marketed as natural and organic. The background of the ad is a neutral color with a subtle hint of green at the bottom, possibly reinforcing the natural theme of the advertisement.\\n\\nThe overall style of the image suggests it is an online banner ad designed for user interaction, possibly for marketing purposes on a website or a digital platform. ', ' The image is a schematic representation of the human immune system. It illustrates how the system works, with different cells and their interactions depicted.\\n\\nOn the left side of the image, there\\'s a small graphic labeled \"Hematopoietic stem cell,\" which serves as the precursor for all blood cells. This cell is shown in green and represents the starting point from which all other cells originate.\\n\\nIn the center of the image, there\\'s a larger graphic that shows two types of white blood cells (leukocytes), which are involved in immunity: T-cells and B-cells. These cells are depicted as blue and red shapes, respectively, indicating their coloration within the immune system.\\n\\nOn the right side of the image, there\\'s another graphic showing antigen presentation. This is a process where antigens (things that the immune system recognizes as foreign) are brought to the surface of cells so that they can be recognized by T-cells and B-cells.\\n\\nThe background of the image is a light color, providing contrast for the colored graphics and labels. The overall style of the image is educational and diagrammatic, intended to provide a simplified yet informative overview of how the human immune system functions. ', ' The image appears to be a composite of two distinct graphics, each with its own content and style.\\n\\nOn the left side of the image, there\\'s an illustration of a circular molecule with a central hexagonal core, surrounded by smaller rings that create a ring structure. This could represent the chemical structure of a molecule or a small grouping within a larger structure. The rings are interconnected, suggesting bonds between atoms, and the overall shape is spherical, indicating that this might be a three-dimensional representation of a molecule with a planar backbone.\\n\\nOn the right side of the image, there\\'s an overlaid text box that includes two pieces of information: \"Too much HER2 can cause\" and \"Cancer cells grow and divide quickly.\" This suggests a connection between high levels of Her2 protein, which is often associated with certain types of cancer, and rapid cell growth.\\n\\nThe bottom right corner features an image of a circular structure resembling a spirograph pattern or a diagram of a molecule with similar elements to the left graphic, but it\\'s not clear if this is part of the original image or added later.\\n\\nThe overall style of the image seems to be educational or informational, possibly used in a scientific context to explain the relationship between Her2 protein and cancer cell growth. The use of both diagrams and text boxes indicates that the image is designed to convey complex biological concepts in a clear and concise manner. ', ' The image presents a detailed and annotated illustration of the human body, with a focus on the female reproductive system. The central figure in the image is a woman\\'s torso, depicted from a side view. She is shown with her hair neatly pulled back, revealing a clear view of the top of her head. \\n\\nThe illustration is rich in detail and color, providing a comprehensive representation of various organs and systems within the human body. For instance, the stomach, located in the middle of the torso, appears to be filled with food. The heart, positioned on the left side of the image, exhibits a vibrant red color, symbolizing its crucial role in circulating blood throughout the body.\\n\\nThe reproductive system is clearly marked and labeled, indicating the locations of ovaries and fallopian tubes. These annotations are important for educational purposes, helping to understand the intricate workings within the human body. \\n\\nThe image also includes labels for the uterus and cervix, providing further information about these crucial reproductive organs. The cervix is a small opening at the bottom of the uterus that connects it to the rest of the reproductive system.\\n\\nIn addition to the main illustration, there are text annotations present on the image. One such annotation reads \"Laying down\", suggesting the position in which the human body is typically found when not engaged in physical activity. Another annotation mentions \"Breastfeeding\", indicating that this image could be part of a larger discussion about human reproduction and the process of nourishing newborns through breastfeeding. \\n\\nOverall, the image serves as an informative guide to understanding the complex systems within the human body, with particular emphasis on the reproductive system. It combines detailed illustrations with clear text labels to create a comprehensive visual aid for educational purposes. ', ' The image you\\'ve shared appears to be a screenshot from a computer, showing a graphical user interface (GUI) with a software application open. The software seems to have a window titled \"Generated,\" suggesting that it might be related to data generation or processing tasks.\\n\\nIn the center of the screen is a list of items, which are likely records or data entries of some sort. Each item has a label and what looks like additional fields for more detailed information. The text is not entirely clear, but it appears to be structured data with columns such as \"Column1,\" \"Column2,\" and so forth, indicating that the application might be used for spreadsheet-like data manipulation or analysis.\\n\\nThe interface suggests that the software allows users to interact with the generated data, possibly by sorting, filtering, or analyzing it in some way. The specifics of the fields are not clearly visible due to the image resolution and angle, but the GUI elements such as buttons and drop-down menus are consistent with those found in common spreadsheet or database applications.\\n\\nThe image itself is low-resolution, which makes it difficult to read the exact details within the application window. Additionally, there is a reflection visible on the screen, indicating that the user might have taken this screenshot while looking at the camera. ', ' The image appears to be a screenshot from a computer screen showing a blue-tinted, low-resolution image of what looks like a blurry scene. There are indistinct shapes that could be interpreted as trees or foliage in the background, with a few patches of lighter colors possibly indicating sky or open space. The focus is not sharp, which makes it difficult to discern specific details. The image seems to have been taken or captured at a time when the camera was moving or when the subject was far away and out of focus. ', \" The image shows a screenshot of a document with text in German. The document is displayed on a computer screen, which suggests the image was captured from a device where the content was being viewed or edited. The document appears to be a form of some sort, as indicated by the presence of fields and labels for data entry. The text in the image is not fully visible due to the resolution and angle at which the photo was taken. It seems like a standard document layout with headers, paragraphs, and possibly input areas such as checkboxes or radio buttons, but without higher resolution or a clearer view, it's difficult to provide specific details about the content of the text or the structure of the form. The image is a bit blurry and taken at an angle, making some parts of the document hard to read. \"]\n"
     ]
    },
    {
     "name": "stderr",
     "output_type": "stream",
     "text": [
      "\n"
     ]
    }
   ],
   "source": [
    "import os\n",
    "import ollama\n",
    "from tqdm import tqdm\n",
    "import base64\n",
    "from PIL import Image\n",
    "from io import BytesIO\n",
    "\n",
    "# Initialize an empty list to store the results\n",
    "img_summaries = []\n",
    "\n",
    "\n",
    "# Iterate over all image strings in the list with a tqdm progress bar\n",
    "for image_string in tqdm(image_elements, desc=\"Processing images\"):\n",
    "    # Decode the image string using utf-8 encoders\n",
    "    img_data = base64.b64decode(image_string)\n",
    "    img = Image.open(BytesIO(img_data))\n",
    "    \n",
    "    # Save the image to a temporary file\n",
    "    img.save(\"temp.jpg\")\n",
    "    \n",
    "    # Call the chat function with the image file\n",
    "    res = ollama.chat(\n",
    "        model=\"llava\",\n",
    "        messages=[\n",
    "            {\n",
    "                'role':'user',\n",
    "                'content':'Describe elaboratively about this image :',\n",
    "                'images':[\"temp.jpg\"]\n",
    "            }\n",
    "        ]\n",
    "    )\n",
    "    \n",
    "    # Append the result to the image_summary list\n",
    "    img_summaries.append(res['message']['content'])\n",
    "\n",
    "# Print the image_summary list\n",
    "print(img_summaries)\n"
   ]
  },
  {
   "cell_type": "code",
   "execution_count": 10,
   "metadata": {},
   "outputs": [],
   "source": [
    "documents = []\n",
    "retrieve_contents = []\n",
    "\n",
    "for e, s in zip(text_elements, text_summaries):\n",
    "    i = str(uuid.uuid4())\n",
    "    doc = Document(\n",
    "        page_content = s,\n",
    "        metadata = {\n",
    "            'id': i,\n",
    "            'type': 'text',\n",
    "            'original_content': e\n",
    "        }\n",
    "    )\n",
    "    retrieve_contents.append((i, e))\n",
    "    documents.append(doc)\n",
    "\n",
    "for e, s in zip(table_elements, table_summaries):\n",
    "    doc = Document(\n",
    "        page_content = s,\n",
    "        metadata = {\n",
    "            'id': i,\n",
    "            'type': 'table',\n",
    "            'original_content': e\n",
    "        }\n",
    "    )\n",
    "    retrieve_contents.append((i, e))\n",
    "    documents.append(doc)\n",
    "\n",
    "for e, s in zip(image_elements, img_summaries):\n",
    "    doc = Document(\n",
    "        page_content = s,\n",
    "        metadata = {\n",
    "            'id': i,\n",
    "            'type': 'image',\n",
    "            'original_content': e\n",
    "        }\n",
    "    )\n",
    "    retrieve_contents.append((i, s))\n",
    "    documents.append(doc)\n",
    "\n",
    "vectorstore = FAISS.from_documents(documents=documents, embedding=embeddings.OllamaEmbeddings(model='nomic-embed-text'))"
   ]
  },
  {
   "cell_type": "code",
   "execution_count": 11,
   "metadata": {},
   "outputs": [],
   "source": [
    "vectorstore.save_local(\"phesgo_faiss3\")"
   ]
  },
  {
   "cell_type": "code",
   "execution_count": 2,
   "metadata": {},
   "outputs": [],
   "source": [
    "embeddings = embeddings.OllamaEmbeddings(model='nomic-embed-text')"
   ]
  },
  {
   "cell_type": "code",
   "execution_count": 3,
   "metadata": {},
   "outputs": [],
   "source": [
    "db = FAISS.load_local(\"phesgo_faiss3\", embeddings,allow_dangerous_deserialization=True)"
   ]
  },
  {
   "cell_type": "code",
   "execution_count": 4,
   "metadata": {},
   "outputs": [],
   "source": [
    "prompt_template = \"\"\"\n",
    "You are a data scientist and an expert in analyzing images and tables and text.\n",
    "Answer the question based only on the following context, which can include text, images and tables:\n",
    "{context}\n",
    "Question: {question}\n",
    "Don't answer if you are not sure and decline to answer and say \"Sorry, I don't have much information about it.\"\n",
    "Just return the helpful answer in as much as detailed possible.\n",
    "Answer:\n",
    "\"\"\""
   ]
  },
  {
   "cell_type": "code",
   "execution_count": 5,
   "metadata": {},
   "outputs": [],
   "source": [
    "qa_chain = LLMChain(llm=ChatOllama(model=\"mistral\", temperature=0),\n",
    "                        prompt=PromptTemplate.from_template(prompt_template))"
   ]
  },
  {
   "cell_type": "code",
   "execution_count": 6,
   "metadata": {},
   "outputs": [],
   "source": [
    "\n",
    "def answer(question):\n",
    "    relevant_docs = db.similarity_search(question)\n",
    "    context = \"\"\n",
    "    relevant_images = []\n",
    "    for d in relevant_docs:\n",
    "        if d.metadata['type'] == 'text':\n",
    "            context += '[text]' + d.metadata['original_content']\n",
    "        elif d.metadata['type'] == 'table':\n",
    "            context += '[table]' + d.metadata['original_content']\n",
    "        elif d.metadata['type'] == 'image':\n",
    "            context += '[image]' + d.page_content\n",
    "            relevant_images.append(d.metadata['original_content'])\n",
    "    result = qa_chain.run({'context': context, 'question': question})\n",
    "    return result, relevant_images"
   ]
  },
  {
   "cell_type": "code",
   "execution_count": 9,
   "metadata": {},
   "outputs": [
    {
     "data": {
      "text/plain": [
       "[Document(page_content=' The image appears to be a composite of two distinct graphics, each with its own content and style.\\n\\nOn the left side of the image, there\\'s an illustration of a circular molecule with a central hexagonal core, surrounded by smaller rings that create a ring structure. This could represent the chemical structure of a molecule or a small grouping within a larger structure. The rings are interconnected, suggesting bonds between atoms, and the overall shape is spherical, indicating that this might be a three-dimensional representation of a molecule with a planar backbone.\\n\\nOn the right side of the image, there\\'s an overlaid text box that includes two pieces of information: \"Too much HER2 can cause\" and \"Cancer cells grow and divide quickly.\" This suggests a connection between high levels of Her2 protein, which is often associated with certain types of cancer, and rapid cell growth.\\n\\nThe bottom right corner features an image of a circular structure resembling a spirograph pattern or a diagram of a molecule with similar elements to the left graphic, but it\\'s not clear if this is part of the original image or added later.\\n\\nThe overall style of the image seems to be educational or informational, possibly used in a scientific context to explain the relationship between Her2 protein and cancer cell growth. The use of both diagrams and text boxes indicates that the image is designed to convey complex biological concepts in a clear and concise manner. ', metadata={'id': '281a10a4-f092-41b4-83d4-41f43a8ecac7', 'type': 'image', 'original_content': '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'}),\n",
       " Document(page_content=' The image presents a detailed and annotated illustration of the human body, with a focus on the female reproductive system. The central figure in the image is a woman\\'s torso, depicted from a side view. She is shown with her hair neatly pulled back, revealing a clear view of the top of her head. \\n\\nThe illustration is rich in detail and color, providing a comprehensive representation of various organs and systems within the human body. For instance, the stomach, located in the middle of the torso, appears to be filled with food. The heart, positioned on the left side of the image, exhibits a vibrant red color, symbolizing its crucial role in circulating blood throughout the body.\\n\\nThe reproductive system is clearly marked and labeled, indicating the locations of ovaries and fallopian tubes. These annotations are important for educational purposes, helping to understand the intricate workings within the human body. \\n\\nThe image also includes labels for the uterus and cervix, providing further information about these crucial reproductive organs. The cervix is a small opening at the bottom of the uterus that connects it to the rest of the reproductive system.\\n\\nIn addition to the main illustration, there are text annotations present on the image. One such annotation reads \"Laying down\", suggesting the position in which the human body is typically found when not engaged in physical activity. Another annotation mentions \"Breastfeeding\", indicating that this image could be part of a larger discussion about human reproduction and the process of nourishing newborns through breastfeeding. \\n\\nOverall, the image serves as an informative guide to understanding the complex systems within the human body, with particular emphasis on the reproductive system. It combines detailed illustrations with clear text labels to create a comprehensive visual aid for educational purposes. ', metadata={'id': '281a10a4-f092-41b4-83d4-41f43a8ecac7', 'type': 'image', 'original_content': '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'}),\n",
       " Document(page_content=\" The image shows a screenshot of a document with text in German. The document is displayed on a computer screen, which suggests the image was captured from a device where the content was being viewed or edited. The document appears to be a form of some sort, as indicated by the presence of fields and labels for data entry. The text in the image is not fully visible due to the resolution and angle at which the photo was taken. It seems like a standard document layout with headers, paragraphs, and possibly input areas such as checkboxes or radio buttons, but without higher resolution or a clearer view, it's difficult to provide specific details about the content of the text or the structure of the form. The image is a bit blurry and taken at an angle, making some parts of the document hard to read. \", metadata={'id': '281a10a4-f092-41b4-83d4-41f43a8ecac7', 'type': 'image', 'original_content': '/9j/4AAQSkZJRgABAQAAAQABAAD/2wBDAAgGBgcGBQgHBwcJCQgKDBQNDAsLDBkSEw8UHRofHh0aHBwgJC4nICIsIxwcKDcpLDAxNDQ0Hyc5PTgyPC4zNDL/2wBDAQkJCQwLDBgNDRgyIRwhMjIyMjIyMjIyMjIyMjIyMjIyMjIyMjIyMjIyMjIyMjIyMjIyMjIyMjIyMjIyMjIyMjL/wAARCAAWABUDASIAAhEBAxEB/8QAHwAAAQUBAQEBAQEAAAAAAAAAAAECAwQFBgcICQoL/8QAtRAAAgEDAwIEAwUFBAQAAAF9AQIDAAQRBRIhMUEGE1FhByJxFDKBkaEII0KxwRVS0fAkM2JyggkKFhcYGRolJicoKSo0NTY3ODk6Q0RFRkdISUpTVFVWV1hZWmNkZWZnaGlqc3R1dnd4eXqDhIWGh4iJipKTlJWWl5iZmqKjpKWmp6ipqrKztLW2t7i5usLDxMXGx8jJytLT1NXW19jZ2uHi4+Tl5ufo6erx8vP09fb3+Pn6/8QAHwEAAwEBAQEBAQEBAQAAAAAAAAECAwQFBgcICQoL/8QAtREAAgECBAQDBAcFBAQAAQJ3AAECAxEEBSExBhJBUQdhcRMiMoEIFEKRobHBCSMzUvAVYnLRChYkNOEl8RcYGRomJygpKjU2Nzg5OkNERUZHSElKU1RVVldYWVpjZGVmZ2hpanN0dXZ3eHl6goOEhYaHiImKkpOUlZaXmJmaoqOkpaanqKmqsrO0tba3uLm6wsPExcbHyMnK0tPU1dbX2Nna4uPk5ebn6Onq8vP09fb3+Pn6/9oADAMBAAIRAxEAPwD2oRaQkrIHTcyBColJyG49aT7PpExbbKgEJG/ExAxs2gHnpgj61Y/sew2FPs42lgxG48kZx39zUosbcNu2EtnOWdic/L6n/YX8qAKM1rociRmWSApj5Mz8cALxz/sgfhRU7aJp7hQ1vkKMKPMbgfnRQBoUUUUAFFFFAH//2Q=='}),\n",
       " Document(page_content=' The image appears to be a screenshot from a computer screen showing a blue-tinted, low-resolution image of what looks like a blurry scene. There are indistinct shapes that could be interpreted as trees or foliage in the background, with a few patches of lighter colors possibly indicating sky or open space. The focus is not sharp, which makes it difficult to discern specific details. The image seems to have been taken or captured at a time when the camera was moving or when the subject was far away and out of focus. ', metadata={'id': '281a10a4-f092-41b4-83d4-41f43a8ecac7', 'type': 'image', 'original_content': '/9j/4AAQSkZJRgABAQAAAQABAAD/2wBDAAgGBgcGBQgHBwcJCQgKDBQNDAsLDBkSEw8UHRofHh0aHBwgJC4nICIsIxwcKDcpLDAxNDQ0Hyc5PTgyPC4zNDL/2wBDAQkJCQwLDBgNDRgyIRwhMjIyMjIyMjIyMjIyMjIyMjIyMjIyMjIyMjIyMjIyMjIyMjIyMjIyMjIyMjIyMjIyMjL/wAARCAAHAAwDASIAAhEBAxEB/8QAHwAAAQUBAQEBAQEAAAAAAAAAAAECAwQFBgcICQoL/8QAtRAAAgEDAwIEAwUFBAQAAAF9AQIDAAQRBRIhMUEGE1FhByJxFDKBkaEII0KxwRVS0fAkM2JyggkKFhcYGRolJicoKSo0NTY3ODk6Q0RFRkdISUpTVFVWV1hZWmNkZWZnaGlqc3R1dnd4eXqDhIWGh4iJipKTlJWWl5iZmqKjpKWmp6ipqrKztLW2t7i5usLDxMXGx8jJytLT1NXW19jZ2uHi4+Tl5ufo6erx8vP09fb3+Pn6/8QAHwEAAwEBAQEBAQEBAQAAAAAAAAECAwQFBgcICQoL/8QAtREAAgECBAQDBAcFBAQAAQJ3AAECAxEEBSExBhJBUQdhcRMiMoEIFEKRobHBCSMzUvAVYnLRChYkNOEl8RcYGRomJygpKjU2Nzg5OkNERUZHSElKU1RVVldYWVpjZGVmZ2hpanN0dXZ3eHl6goOEhYaHiImKkpOUlZaXmJmaoqOkpaanqKmqsrO0tba3uLm6wsPExcbHyMnK0tPU1dbX2Nna4uPk5ebn6Onq8vP09fb3+Pn6/9oADAMBAAIRAxEAPwDm9Tngjs7iPEfn7NuNmWLHgknH1PX+VYQtbqb5rFJEh6Y8zHP5/wCf1oor0Y1HSpcy19TkcFOdmf/Z'})]"
      ]
     },
     "execution_count": 9,
     "metadata": {},
     "output_type": "execute_result"
    }
   ],
   "source": [
    "db.similarity_search(\"provide me the image that phesgo with perjeta and herceptin\")"
   ]
  },
  {
   "cell_type": "code",
   "execution_count": 14,
   "metadata": {},
   "outputs": [
    {
     "name": "stdout",
     "output_type": "stream",
     "text": [
      " The normal cell is a typical eukaryotic cell with a well-defined nucleus, cytoplasm, and various organelles. It has a smooth membrane and does not exhibit any unusual features or behaviors.\n",
      "\n",
      "The HER2+ cancer cell, on the other hand, is an abnormal cell that displays overexpression of the HER2 receptor protein. This leads to uncontrolled cell growth and division, resulting in tumor formation. The HER2+ cancer cell has a more irregular shape, larger nucleus, and multiple protrusions or extensions on its membrane due to increased signaling through the HER2 pathway.\n",
      "\n",
      "[image] Here's an illustration of a normal cell compared to a HER2+ cancer cell:\n",
      "\n",
      "```markdown\n",
      " _______________\n",
      "|             |\n",
      "|  Normal Cell |\n",
      "|_____________|\n",
      "|     ^       |\n",
      "|     |       |\n",
      "|     |  ----+-> Nucleus\n",
      "|     +-------+\n",
      "|         |\n",
      "|         |\n",
      "|_________|\n",
      "\n",
      " _______________\n",
      "|             |\n",
      "| HER2+ Cancer|\n",
      "|    Cell     |\n",
      "|_____________|\n",
      "|     ^       |\n",
      "|     |       |\n",
      "|     |  ----+-> Nucleus with multiple protrusions\n",
      "|     +-------+\n",
      "|         |\n",
      "|         |\n",
      "|_________|\n",
      "|         |\n",
      "| ------+  |\n",
      "|  HER2+  | \n",
      "|------+  |\n",
      "|         |\n",
      "|_________|\n",
      "```\n",
      "\n",
      "In the given text, there is no actual image provided for the normal cell and HER2+ cancer cell. The above illustration is a simplified representation based on the information provided in the text.\n"
     ]
    }
   ],
   "source": [
    "result, relevant_images = answer(\"explain and provide me the image of normal cell and HER2+ CANCER CELL\")\n",
    "print(result)"
   ]
  },
  {
   "cell_type": "code",
   "execution_count": 15,
   "metadata": {},
   "outputs": [
    {
     "data": {
      "image/jpeg": "[encoded data removed]",
      "text/plain": [
       "<IPython.core.display.Image object>"
      ]
     },
     "metadata": {},
     "output_type": "display_data"
    }
   ],
   "source": [
    "display.display(display.Image(base64.b64decode(relevant_images[0])))"
   ]
  },
  {
   "cell_type": "code",
   "execution_count": null,
   "metadata": {},
   "outputs": [],
   "source": []
  }
 ],
 "metadata": {
  "kernelspec": {
   "display_name": "new_multi",
   "language": "python",
   "name": "python3"
  },
  "language_info": {
   "codemirror_mode": {
    "name": "ipython",
    "version": 3
   },
   "file_extension": ".py",
   "mimetype": "text/x-python",
   "name": "python",
   "nbconvert_exporter": "python",
   "pygments_lexer": "ipython3",
   "version": "3.9.13"
  }
 },
 "nbformat": 4,
 "nbformat_minor": 2
}
