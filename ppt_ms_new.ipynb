{
 "cells": [
  {
   "cell_type": "code",
   "execution_count": 3,
   "metadata": {},
   "outputs": [],
   "source": [
    "from langchain_community.document_loaders import WebBaseLoader\n",
    "from langchain_community.document_loaders import PyPDFLoader\n",
    "from langchain_community import embeddings\n",
    "from langchain_community.chat_models import ChatOllama\n",
    "from langchain_core.runnables import RunnablePassthrough\n",
    "from langchain_core.output_parsers import StrOutputParser\n",
    "from langchain_core.prompts import ChatPromptTemplate\n",
    "from langchain_core.prompts import PromptTemplate\n",
    "\n",
    "from langchain.output_parsers import PydanticOutputParser\n",
    "from langchain.text_splitter import CharacterTextSplitter\n",
    "from langchain_community.document_loaders import BSHTMLLoader\n",
    "from langchain.callbacks.streaming_stdout import StreamingStdOutCallbackHandler\n",
    "import os\n",
    "import uuid\n",
    "import base64\n",
    "from IPython import display\n",
    "from unstructured.partition.pdf import partition_pdf\n",
    "# from langchain.chat_models import ChatOpenAI\n",
    "from langchain_community.chat_models import ChatOllama\n",
    "# from langchain_community import embeddings\n",
    "from langchain_community.embeddings import OllamaEmbeddings\n",
    "# from langchain.embeddings import OpenAIEmbeddings\n",
    "from langchain.chains import LLMChain\n",
    "from langchain.prompts import PromptTemplate\n",
    "from langchain.schema.messages import HumanMessage, SystemMessage\n",
    "from langchain.schema.document import Document\n",
    "from langchain.vectorstores import FAISS\n",
    "from langchain.retrievers.multi_vector import MultiVectorRetriever\n",
    "from langchain.cache import InMemoryCache\n",
    "from langchain.globals import set_llm_cache"
   ]
  },
  {
   "cell_type": "code",
   "execution_count": 4,
   "metadata": {},
   "outputs": [],
   "source": [
    "model_local = ChatOllama(model=\"mistral\",temperature=0)\n",
    "# set_llm_cache(InMemoryCache)\n"
   ]
  },
  {
   "cell_type": "code",
   "execution_count": 7,
   "metadata": {},
   "outputs": [],
   "source": [
    "from langchain_community.document_loaders import PyPDFLoader\n",
    "\n",
    "loader = PyPDFLoader(r\"C:\\Users\\patel\\Desktop\\Final_Ms_chatbot\\chatbot\\4_extra_ms_new_ppt_content.pdf\")\n",
    "pages = loader.load()"
   ]
  },
  {
   "cell_type": "code",
   "execution_count": 8,
   "metadata": {},
   "outputs": [
    {
     "data": {
      "text/plain": [
       "[Document(page_content='aCD-20 Therapies in \\nMultiple Sclerosis\\nM-IN-00003371', metadata={'source': 'C:\\\\Users\\\\patel\\\\Desktop\\\\Final_Ms_chatbot\\\\chatbot\\\\4_extra_ms_new_ppt_content.pdf', 'page': 0}),\n",
       " Document(page_content='2\\nDisclaimers\\nThe Content in this presentation is intended for healthcare professionals in India only. \\nThe medical information in this presentation is provided as an information resource \\nonly and is not to be used or relied on for any diagnostic or treatment purposes\\nRoche India does not promote or support the use of medications manufactured by it \\nin off label indications. For specific information regarding various therapeutic agents, \\nincluding Roche products, please refer to the approved full prescribing information', metadata={'source': 'C:\\\\Users\\\\patel\\\\Desktop\\\\Final_Ms_chatbot\\\\chatbot\\\\4_extra_ms_new_ppt_content.pdf', 'page': 1}),\n",
       " Document(page_content='3\\nLYMPH \\nNODEBLOOD \\nVESSELBLOOD –\\nBRAIN\\nBARRIERCENTRAL NERVOUS SYSTEM\\nB \\nCELLT \\nCELLT \\nCELL\\nB \\nCELLANTIBOD\\nY\\nRELEASE\\nNEURONA\\nL\\nDAMAGET \\nCELLB \\nCELL\\nMACROPHAG\\nE\\nAPC, antigen -presenting cell; BBB, blood –brain barrier; CNS, central nervous system; Th, T helper cell.\\n1. Bar -Or A. Semin Neurol 2008;28:29 –45; 2. Dendrou CA, et al. Nat Rev Immunol 2015;15:545 –58; 3. Weber MS, et al. Biochim Biophys Acta 2011;1812:239 –45.\\nFollowing activation in the periphery,  \\nautoreactive T cells and  B cells adhered to \\nthe CNS move across the BBB1,21\\n1\\nAutoreactive lymphocytes, primarily Th1 cells, \\npromote the recruitment and activities of other \\nmediators of damage1,23\\nMICROGLI\\nALymphocytes undergo another level of \\nactivation, mediated by APCs upregulated \\nas part of the inflammatory response1,22\\n2\\nImmune cell infiltration into the CNS in early MS leads to demyelination \\npromoted by microglia and astrocytes\\nB cells differentiate into plasma cells and \\nproduce autoantibodies directed against CNS \\ntissue, which causes damage to myelin via \\nopsonisation and activation of the complement \\ncascade34\\nCytotoxic T cells, macrophages and microglia \\nattack and damage myelin, oligodendrocytes, \\nand axons –via a combination of direct and \\nindirect mechanisms15\\n534', metadata={'source': 'C:\\\\Users\\\\patel\\\\Desktop\\\\Final_Ms_chatbot\\\\chatbot\\\\4_extra_ms_new_ppt_content.pdf', 'page': 2}),\n",
       " Document(page_content='4\\nT cells play key roles in acute inflammation in MS via the recruitment of \\nadditional pro -inflammatory cells to the CNS\\nCNS, central nervous system; IFN, interferon; Th, T helper cell; TNF, tumour necrosis factor.\\n1. Dendrou CA, et al. Nat Rev Immunol 2015;15:545 –58; \\n2. Filippi M, et al. Nat Rev Dis Primers 2018;4:43.\\nDirect cell -mediated damage by CD8+ cytotoxic T cells, which are \\nunregulated by Th1 cells, and directly recognise driving antigens \\nresulting in cell -mediated damage to myelin, oligodendrocytes and \\naxons2Recruitment of pro -inflammatory cells by CD4+ Th1 \\ncells promotes CNS infiltration of lymphocytes and \\nrecruits pro -inflammatory microglia and macrophages1CD8+\\nT CELLCD4+Pro-inflammatory cytokine production primarily \\nby CD4+ Th1 cells, e.g. production of IFN -γ \\nand TNF -α, which drives other effector cells2Co-stimulatory activation of B \\ncells\\n', metadata={'source': 'C:\\\\Users\\\\patel\\\\Desktop\\\\Final_Ms_chatbot\\\\chatbot\\\\4_extra_ms_new_ppt_content.pdf', 'page': 3}),\n",
       " Document(page_content='5\\nB cells activate T cells, produce cytokines and autoantibodies and are \\npresent in ectopic lymphoid follicle -like aggregates\\nSPMS, secondary progressive MS. \\n1. Crawford A, et al. J Immunol 2006;176:3498 –506; 2. Bar -Or A, et al. Ann Neurol 2010;67:452 –6; 3. Lisak RP, et al. J Neuroimmunol 2012;246:85 –95;\\n4. Lisak RP, et al. J Neuroimmunol 2017;309:88 –99; 5. Weber MS, et al. Biochim Biophys Acta 2011;1812:239 –45; 6. Serafini B, et al. Brain Pathol 2004;14:164 –74; \\n7. Magliozzi R, et al. Ann Neurol 2010;68:477 –93.Production of cytokines ,2,3some of which \\nare cytotoxic to oligodendrocytes and \\nneurons4\\nProduction of autoantibodies ,5 which promote \\ntissue injury2and drive lymphoid aggregate \\nformation6\\nEctopic lymphoid follicle -like aggregates \\nmaintain the autoreactive responses in close \\nproximity to the target tissues6,7T CELL\\nCD20+\\nB CELLAntigen presentation\\nactivates T cells1,2\\nNEURON\\nOLIGODENDROCYTE\\nDriver of chronic \\ninflammation (mostly seen \\nin SPMS)', metadata={'source': 'C:\\\\Users\\\\patel\\\\Desktop\\\\Final_Ms_chatbot\\\\chatbot\\\\4_extra_ms_new_ppt_content.pdf', 'page': 4}),\n",
       " Document(page_content='6\\nPro-inflammatory cytokines\\nMicroglia and macrophages of the innate immune system also play key \\nroles in both acute and chronic inflammation\\nCNS, central nervous system.\\n1. Dendrou CA, et al. Nat Rev Immunol 2015;15:545 –58;\\n2. Filippi M, et al. Nat Rev Dis Primers 2018;4:43.\\nMicroglia\\nMacrophagesT cellAntigen presentation recruiting and \\nactivating lymphocytes in the CNS1,2\\nAcute direct cell -mediated damage \\nvia phagocytosis of the myelin sheath, \\nresulting in denuding of axons1Production of pro -inflammatory mediators \\nincluding cytokines, free radicals and \\nproteases1\\nPhagocytosis and oxidative injury \\nby activated microglia at the rim of \\nchronic active lesions2\\nT cell\\n B cell\\nAstrocytes\\nDriver of chronic \\ninflammation\\n', metadata={'source': 'C:\\\\Users\\\\patel\\\\Desktop\\\\Final_Ms_chatbot\\\\chatbot\\\\4_extra_ms_new_ppt_content.pdf', 'page': 5}),\n",
       " Document(page_content='7\\nB cells play key roles in MS disease activity1,2\\nT CELL\\nCD20+\\nB CELL\\nNEURON\\nOLIGODENDROCYTEAntigen presentation\\nB cells present self \\nneuroantigens to T cells, \\nactivating the T cells. These T \\ncells have multiple roles in the \\nneuroinflammatory process \\nof MS3,4Cytokine production\\nB cells produce abnormal pro -inflammatory \\ncytokines in MS, which can be cytotoxic to \\noligodendrocytes and neurons, and can \\nactivate other mediators of damage, such as \\nT cells5\\nAutoantibody production\\nB cells produce autoantibodies that mediate \\ntissue damage and activate other mediators \\nof damage, including macrophages and NK \\ncells7\\nEctopic lymphoid follicle -like aggregate formation\\nB cells are present in ectopic lymphoid follicle -like aggregates, \\nwhich are linked to microglia activation, local inflammation and \\nneuronal loss in the nearby cortex6\\nNK, natural killer.\\n1. Cepok S, et al. Brain 2005;128:1667 –76; 2. Cross AH, Waubant E. Biochim Biophys Acta 2011;1812:231 –8; 3. Bar -Or A, et al. Ann Neurol 2010;67:452 –6; \\n4. Lisak RP, et al. J Neuroimmunol 2012;246:85 –95; 5. Lisak RP, et al. J Neuroimmunol 2017;309:88‒99; 6. Magliozzi R, et al. Ann Neurol 2010;68:477 –93; \\n7. Serafini B, et al. Brain Pathol 2004;14:164 –74.', metadata={'source': 'C:\\\\Users\\\\patel\\\\Desktop\\\\Final_Ms_chatbot\\\\chatbot\\\\4_extra_ms_new_ppt_content.pdf', 'page': 6}),\n",
       " Document(page_content='8\\nB cells selectively express cell surface marker CD20 during their \\ndevelopment and maturation\\nReprinted with permission from Macmillan Publishers Ltd: Krumbholz M, et al. Nat Rev Neurol 2012;8:613 –23, copyright 2012. \\n1. Hauser SL. Mult Scler 2015;21:8 –21; 2. Pescovitz MD. Am J Transplant 2006;6:859 –66; 3. Leandro MJ, et al. Arthritis Rheum 2006;54:613 –20; \\n4. DiLillo DJ, et al. J Immunol 2008;180:361 –71; 5. Avasarala J, Drug Target Insights 2017;11.B CELLS PLASMA CELLS\\nCD20\\nIMMATURE\\nB CELLMATURE\\nACTIVATED\\nB CELLMEMORY\\nB CELLPLASMA -\\nBLASTPRE-\\nB CELLSTEM\\nCELLPRO -\\nB CELL\\nB-cell reconstitution \\npreserved1–3\\nSHORT -LIVED\\nPLASMA CELLLONG -LIVED\\nPLASMA CELL\\nLong -term immune \\nmemory preserved1,2,4\\nCD19+ B cells have a similar expression \\nprofile to CD20+ B cells and so act as a \\nsurrogate lab marker for CD20+ depletion5The presence of aCD20 agents interferes with \\ndirect CD20+ B cell measurement5How do we measure effects on CD20+B cells?', metadata={'source': 'C:\\\\Users\\\\patel\\\\Desktop\\\\Final_Ms_chatbot\\\\chatbot\\\\4_extra_ms_new_ppt_content.pdf', 'page': 7}),\n",
       " Document(page_content='9\\nEarly rituximab evidence to support anti -CD20 therapy in MS\\nPPMS, primary progressive MS; RA, rheumatoid arthritis; RRMS, relapsing -remitting MS; RTX, rituximab.\\n1. Martin R, et al. Annu Rev Immunol 1992;10:153 –87; 2. Genain CP, et al. Nat Med 1999;5:170 –5; 3. Bar -Or A, et al. Ann Neurol 2008;63:395 –400; \\n4. Hauser SL, et al. N Engl J Med 2008;358:676 –88; 5. Hawker K, et al. Ann Neurol 2009;66:460 –71.Investigational studies of rituximab \\nin MS provided evidence to \\nsupport the hypothesis that MS is a \\nB-cell-mediated diseaseRTX RRMS \\nphase II data4\\n2009 RTX PPMS \\nOLYMPUS Negative52006 RTX RA \\nLAUNCH (USA)\\n1950 1990 2003 2007 2008 2009 2010 2011 2014 2015\\nHERMES data \\ndemonstrate that \\nCD20+B cell reduction \\nwith RTX provides\\nbenefits to MS patients3The science in  \\nMS supports \\npredominantly\\nthat MS is a\\nT-cell-mediated \\ndisease1Data published \\nsuggesting the \\npotential role of\\nB cells in MS2', metadata={'source': 'C:\\\\Users\\\\patel\\\\Desktop\\\\Final_Ms_chatbot\\\\chatbot\\\\4_extra_ms_new_ppt_content.pdf', 'page': 8}),\n",
       " Document(page_content='10\\nAnti-CD20 therapies investigated in past or present for use in MS\\naBy EMA and FDA.\\nEMA, European Medicines Agency; FDA, Food and Drug Administration; Ph, phase; RRMS, relapsing -remitting MS; PPMS, primary progre ssive MS.\\n1. Hauser SL, et al. N Engl J Med 2008;358:676 –88; 2. Bar -Or A, et al. Neurology 2018;90:e1805 –14; 3. Hauser SL, et al. N Engl J Med 2017;376:221 –34; 4. Montalban X , et al. N Engl J Med\\n2017;376:209 –20; \\n5. Fox E, et al. Presented at ECF 2018; 6. ClinicalTrials.gov identifier: NCT02792218; 7. Hauser SL, et al. N Engl J Med 2017;376:221 –34; 8. Montalban X, et al. N Engl J Med 2017:376:209 –20; \\n9. ClinicalTrials.gov identifier: NCT03277248; 10. Hauser S. et al. Presented at ECTRIMS 2019 (Presentation 336); 11 Steinman L, et al. Presented at AAN 2021 (Poster number 4494). Ocrelizumab OPERA I, OPERA II3\\nandORATORIO4Ph III trials \\ncommenced2006 2007 2008 2009 2010 2011 2012 2013 2014 2015 2016 2017 2005 2018 2019\\nHERMES andOLYMPUS \\nrituximab data \\ndemonstrate that CD20+ B \\ncell reduction provides \\nbenefits \\nto MS patients1Ofatumumab Ph III trials \\ncommenced6\\nUblituximab Ph III\\ntrials commenced9Ofatumumab Ph II\\ntrial commenced2\\nUblituximab Ph II\\ntrial commenced52021\\nOfatumumab Ph III positive results \\npresented at ECTRIMS 201910Positive OPERA I, OPERA II7, \\nand ORATORIO results \\npublished8\\n2020Ublituximab Ph III trial data \\npresented at congress11\\naCD20 agent Rituximab Ocrelizumab Ublituximab Ofatumumab\\nApproved?a RRMS/PPMS RRMSNot  currently \\napproved for MSNot  currently \\napproved for MS', metadata={'source': 'C:\\\\Users\\\\patel\\\\Desktop\\\\Final_Ms_chatbot\\\\chatbot\\\\4_extra_ms_new_ppt_content.pdf', 'page': 9}),\n",
       " Document(page_content='11\\nImmunogenicity and anti -drug antibodies \\nAbs, antibodies; ADAs, anti -drug antibodies; NAbs, neutralising antibodies.\\n1. Mayrhofer P, Kunert, R. Hum Antibodies 2019;27:37 –51; 2. Davda J, et al. J Immunother Cancer 2019;7:105; 3. Krishna M, Nadler SG. Front Immunol 2016;7:21.Binding Abs1–3\\n•Binding antibodies are ADAs that bind therapeutic \\nproteins (including antibodies)\\n•Formation of binding ADAs and drug immune \\ncomplexes can lead to hypersensitivity reactions•Some ADAs have a neutralising effect on the \\nfunction of the therapy, and are therefore termed \\nNabs\\n•This has the potential to affect the treatment \\nefficacy\\nDrug \\ntarget\\nDrug \\nantibodyBinding \\nAbDrug \\ntarget\\nDrug\\nBinding\\nAbDrug \\nantibodyNAb\\nDrug \\ntargetDrug \\ntargetNAb\\nDrugAnti-drug antibodies can be developed in response to mAb therapy, including \\nhumanised and fully human mAbs1–3\\nNAbs1–3', metadata={'source': 'C:\\\\Users\\\\patel\\\\Desktop\\\\Final_Ms_chatbot\\\\chatbot\\\\4_extra_ms_new_ppt_content.pdf', 'page': 10}),\n",
       " Document(page_content='12\\nOPERA I and \\nII7: \\n600 mg, 0.4%\\nORATORIO8:\\n600 mg, 1.9%HERMES4: \\n200 mg, 24.6%\\nOLYMPUS5: \\n200 mg, 7%\\nPhase II trials: HERMES, OPERA I and II; phase III trials: OLYMPUS.\\nADA: anti -drug antibody; Fab, fragment antigen -binding; Fc: fragment -crystallisable; RRMS, relapsing -remitting MS. \\n1. Mayrhofer P, Kunert, R. Hum Antibodies 2019;27:37 –51; 2. Davda J, et al. J Immunother Cancer 2019;7:105; 3. Krishna M, Nadler SG. Front Immunol 2016;7:21; \\n4. Hawker K, et al. Ann Neurol 2009;66:460 –71; 5. Hauser SL, et al. N Engl J Med. 2008;358:676 –88; 6. Cazin B, et al. Presented at EHA 2013 (Poster P111); \\n7. Hauser, S et al. N Engl J Med 2017:376:221 –32; 8. Hendricks R, et al. Presented at EAN 2016 (Poster P11202); 9. Hauser SL, et al. N Engl J Med . 2020;383:546 –57.Immunogenicity reflects the potential for ADA development \\nHigher potential for \\nimmunogenicity1–3Lower potential for \\nimmunogenicity1–3\\nHumanised\\n(>90% human)\\nOcrelizumabProportion \\nof patients \\nwith ADAs \\nin study \\npopulationFully human\\n(100% human)\\nOfatumumab\\nPooled \\nASCLEPIOS I \\nand II:\\n20mg, 0.2%9Chimeric\\n(~65% human)\\nRituximab Ublituximab\\nNo cases of serum anti-\\nublituximab antibodies \\nwere detected at any time \\npoint in a Ph Ib study6\\nPhIII ADA data not yet \\npresented.Fab region \\nFc region ', metadata={'source': 'C:\\\\Users\\\\patel\\\\Desktop\\\\Final_Ms_chatbot\\\\chatbot\\\\4_extra_ms_new_ppt_content.pdf', 'page': 11}),\n",
       " Document(page_content='13\\nAnti-CD20 mAbs bind to different epitopes on CD20 \\n1. Winiarska M, et al. Front Biosci 2011;16:277 –306; 2. Du FH , et al . Auto Immun Highlights 2017;8:12; 3. Cang S , et al. J Haematol Oncol 2012;11:64 –72; \\n4. Klein C ,et al. mAbs 2013;5:22 –33.CD20 is a 297 amino acid phosphoprotein with \\nfour transmembrane domains, existing predominantly \\nas a stable tetramer on the cell surface1,2\\n•Rituximab binds to the contact region \\npositions 165–182of the large extracellular \\nloop3,4\\n•Ocrelizumab binds to the contact region \\npositions 165–180of the large extracellular \\nloop3,4\\n•Ofatumumab binds contact regions in the \\nlarge (145–161) and small (74–80) \\nextracellular loop3,4\\n•Ublituximab binds at two sites in the large \\nextracellular loop3,4\\nCytoplasmN-END\\n297\\nC-END280250214200185183173\\n170\\n167\\n30536074 80\\n90\\n104 117130145\\nPlasma \\nmembraneS SOfatumumab \\neptiopeOcrelizumab/rituxima\\nb epitope Ublituximab \\neptiope', metadata={'source': 'C:\\\\Users\\\\patel\\\\Desktop\\\\Final_Ms_chatbot\\\\chatbot\\\\4_extra_ms_new_ppt_content.pdf', 'page': 12}),\n",
       " Document(page_content='14\\nMechanisms of CD20+ B -cell depletion by ocrelizumab\\nFcγR, Fc -gamma receptor; NK, natural killer.\\n1. Jaglowski SM, et al. Blood 2010;116:3705 –14; 2. Winiarska M, et al. Front Biosci 2011;16:277 –306; 3. Klein C, et al. MAbs 2013;5:22 –33.\\nCOMPLEMENT -\\nDEPENDENT\\nCYTOTOXICITY1–3\\nAPOPTOTIC \\nPATHWAYS1–3\\nANTIBODY -DEPENDENT \\nCELLULAR \\nPHAGOCYTOSIS1,2\\nComplement -dependent\\ncytotoxicity1–3\\nAntibody -dependent\\ncellular cytotoxicity1–3\\nAntibody -dependent\\ncellular phagocytosis1,2\\nApoptotic\\npathways2,3Ocrelizuma\\nb\\nLipid \\nraft\\nNK \\ncellMacrophag\\neComplemen\\ntreceptorC\\n3C3\\nb\\nCD2\\n0Fcγ\\nR', metadata={'source': 'C:\\\\Users\\\\patel\\\\Desktop\\\\Final_Ms_chatbot\\\\chatbot\\\\4_extra_ms_new_ppt_content.pdf', 'page': 13}),\n",
       " Document(page_content='15\\nThe diverse attributes of anti -CD20 mAbs may be modified:\\n• Higher levels of CDC activity may be associated with more severe side effects (e.g. IRRs)2\\n• ADCC targets cells expressing lower levels of antigen3,4Differences in the mechanisms of B cell depletion across the anti -CD20 \\nmonoclonal antibodies \\nRituximab\\nHERMES & OLYMPUSOcrelizumab\\nPh II, OPERA I & II, ORATORIOOfatumumab\\nMIRROR Ph II, ASCLEPIOS I & \\nIIUblituximab\\nPh II\\nAntibody class Chimeric IgG1 Humanised IgG Human IgGChimeric IgG1 \\n(low fucose)\\nADCC ++ +++ ++ ++++\\nCDC ++ + +++ +\\nADCC, antibody -dependent cell -mediated cytotoxicity; CDC, complement -dependent cytotoxicity, Ig, immunoglobulin; IRRs, infusion -related reactions; mAb, monoclonal antibody; \\nPh, phase.\\n1.Sellebjerg F, et al. CNS Drugs 2020;34:269 –80; 2. van der Kolk LE, et al. Br J Haematol 2001;115:807 –11; 3. Lazar GA, et al. Proc Natl Acad Sci U S A 2006;103:4005 –10; \\n4. Chan AC, Carter PJ. Nat Rev Immunol 2010;10:301 –16.Effector mechanisms of anti -CD20 monoclonal antibodies previously investigated, currently investigated or \\napproved for the treatment of MS1', metadata={'source': 'C:\\\\Users\\\\patel\\\\Desktop\\\\Final_Ms_chatbot\\\\chatbot\\\\4_extra_ms_new_ppt_content.pdf', 'page': 14}),\n",
       " Document(page_content='16\\nOcrelizumab, ofatumumab and ublituximab: \\nphase III studies in RMS', metadata={'source': 'C:\\\\Users\\\\patel\\\\Desktop\\\\Final_Ms_chatbot\\\\chatbot\\\\4_extra_ms_new_ppt_content.pdf', 'page': 15}),\n",
       " Document(page_content='17\\nOcrelizumab, ofatumumab and ublituximab: Ph III clinical trial designs\\n*Additional secondary endpoints are included in the statistical hierarchy; †As defined by Lublin, 2014; ‡Pre-specified pooled analysis only.\\nCDI, confirmed disability improvement; CDP, confirmed disability progression; CDW, confirmed disability worsening; EDSS, Expa nded Disability Status Scale; Gd+, gadolinium -enhancing;\\nIFN β -1a, interferon beta -1a; IV, intravenous; max., maximum; NEDA, no evidence of disease activity; NfL, neurofilament light ch ain; OCR, ocrelizumab; OD, once -daily; OFAT, ofatumumab; \\nPh, phase; R, randomisation; RMS, relapsing MS; RRMS, relapsing remitting MS; SC, subcutaneous; SPMS, secondary progressive M S; UTX, ublituximab.\\n1. ClinicalTrials.gov identifier: NCT01247324; 2. ClinicalTrials.gov identifier: NCT01412333; 3. ClinicalTrials.gov identifie r: NCT02792218; 4. ClinicalTrials.gov identifier NCT02792231; \\n5. Hauser SL, et al. N Engl J Med 2020;383:546 –57; 6. Steinman L, et al. Presented at ECTRIMS 2021 (Presentation S117).Ph III: ASCLEPIOS I/II 2016 —20203–5\\nOfatumumab SC injection every 4 weeks \\n(n=946) after loading dose (D1, 7 & 14)\\nR\\n1:1Max. duration 130 weeks\\nTeriflunomide 14 mg OD (n=936) Patients with RMS\\n(RRMS or active SPMS)†\\nDouble \\ndummyPrimary endpoint Annualised relapse rate by 96 weeks \\nSecondary endpoints* Time -to-onset of 12 -week CDP \\nTotal number of T1 Gd+ lesions and \\nchange in T2 hyperintense lesionsProportion of patients with\\n12/24 -week CDI\\nT1 hypointense lesionsPh III: OPERA I and OPERA II 2011 –151,2\\nR\\n1:196 weeks\\nOcrelizumab 600 mg infusion every \\n24 weeks + placebo matching IFN β -1a \\n(n=821)\\nIFN β -1a 44 mg subcutaneous injection \\nevery 3 weeks + placebo matching \\nocrelizumab (n=835)Patients with RMS\\n(McDonald 2010 criteria)\\nDouble \\ndummy\\nPrimary endpoint Annualised relapse rate (to end of trial)\\nSecondary endpoints* Time to 3 -and 6 -month CDW by EDSS\\n6-month CDINumber of T1 Gd+ lesions per \\nT1-weighted MRI scan\\nNumber of new or enlarging T2 lesions \\nper yearNfL concentration in serum at Month 3 \\nand beyond\\nPrimary endpoint Annualised relapse rate at 96 weeks\\nSecondary endpoints* Number of T1 Gd+ lesions by Week 96\\nTotal number of new or enlarging T2 \\nlesions by Week 96Proportion of patients with NEDA from \\nWeek 24 to Week 96\\nTime to 12 -week CDP‡Ph III: ULTIMATE I and ULTIMATE II 2017 –216\\nR\\n1:196 weeks\\nUblituximab 150 mg IV Day 1 and \\n450 mg IV on Day 15, Week 24, 48 & 72 + \\nplacebo matching teriflunomide (n=543)\\nTeriflunomide 14 mg OD + \\nplacebo matching ublituximab (n=546)Patients with RMS\\n(McDonald 2010 criteria)\\nDouble \\ndummy', metadata={'source': 'C:\\\\Users\\\\patel\\\\Desktop\\\\Final_Ms_chatbot\\\\chatbot\\\\4_extra_ms_new_ppt_content.pdf', 'page': 16}),\n",
       " Document(page_content='18\\nPhase III trials of anti -CD20 DMTs: an overview  \\nOcrelizumab\\nOPERA I & OPERA II1,2Ofatumumab\\nASCLEPIOS I & ACLEPIOS II3Ublituximab\\nULTIMATE I & ULTIMATE II4,5\\nStudy design2 identical Ph III randomised, \\ndouble -blind2 identical Ph III randomised, \\ndouble -blind2 identical Ph III randomised, \\ndouble -blind\\naCD20 dosingIV every 24 weeks\\n(600 mg)SC every 4 weeks\\n(20 mg on Day 1, 7, & 14 followed by \\n20 mg maintenance)150 mg IV Day 1 and 450 mg IV on \\nDay 15, Week 24, 48 & 72 \\nActive comparatorIFN β -1a 44 µg SC three times \\nweeklyTeriflunomide 14 mg oral once daily Teriflunomide 14 mg oral once daily \\nPatient population/ \\ninclusion criteriaPatients with RMS;\\nAge 18 –55 years;\\nEDSS score 0 –5.5Patients with RMS;\\nAge 18 –55 years;\\nEDSS score 0 –5.5Patients with RMS;\\nAge 18 –55 years;\\nEDSS score 0 –5.5\\nStudy duration 96 weeks Up to 2.5 years (event -driven design)96 weeks \\n(with 20 -week safety follow -up)\\nNumber of patients 817 & 829 927 & 955 patients 673 & 660 patients\\nPrimary endpoint Annualised relapse rate Annualised relapse rate Annualised relapse rate\\naCD20, anti -CD20; DMTs, disease -modifying therapies; EDSS, Expanded Disability Status Scale; IFN β -1a, interferon beta -1a; IV, i ntravenous; OCR, ocrelizumab; OFAT, ofatumumab; \\nPh, phase; RMS, relapsing MS; SC, subcutaneous; UTX, ublituximab.\\n1. Hauser SL, et al. N Engl J Med 2017;376:221 –34; 2. Kappos L, et al. Presented at EAN 2017 (Poster EP2154); 3. Hauser SL, et al. N Engl J Med 2020;383:546 –57; \\n4. Steinman L, et al. Presented at ECTRIMS 2021 (Presentation S117).', metadata={'source': 'C:\\\\Users\\\\patel\\\\Desktop\\\\Final_Ms_chatbot\\\\chatbot\\\\4_extra_ms_new_ppt_content.pdf', 'page': 17}),\n",
       " Document(page_content='19\\nEfficacy summary: double -blind period –registrational data1–4\\nRMS\\nPPMS🡻51%, \\np<0.001\\n🡻98%, \\np<0.001\\n🡻82%, \\np<0.001\\n🡻7%, p=0.1ASCLEPIOS I\\n🡻59%, \\np<0.001\\n🡻94%, \\np<0.001\\n🡻85%, \\np<0.001\\n\\ud83e7%, p=0.1ASCLEPIOS \\nII\\n🡻35%, p=0.094🡻34.4%, p=0.002\\n🡻35%, sig. 🡻34%, sig.\\n🡻32.5%, p=0.012\\n🡻39%, sig.🡻24%, not \\nsig.\\nOfatumumab was not studied in PPMSOfatumumab and ublituximab were studied relative to teriflunomide in RMSOcrelizumab was studied relative to IFN β -1a in RMS \\nand relative to placebo in PMSNote: no head -to-head trials have been carried out to date\\nPrimary endpoint: ARR\\nT1 Gd+ lesions \\nNew/enlarging T2 lesions\\n24-week CDI*12-week CDP*Change in brain volume \\n24\\n2412\\n24-week CDP*\\n12-week CDP12\\n24-week CDP24🡻46%, \\np<0.001🡻47%, \\np<0.001\\n🡻94%, \\np<0.001🡻95%, \\np<0.001\\n🡻77%, \\np<0.001🡻83%, \\np<0.001\\n🡻36%, p=0.03🡻40%, p=0.0006🡻23%, \\np=0.004🡻15%, p=0.09OPERA I OPERA II\\n🡻43%, p=0.01 🡻37%, p=0.02\\n🡻40%, p=0.003\\n🡻43%, p=0.03 🡻37%, p=0.04\\n🡻24%, p=0.03\\n🡻25%, p=0.04ORATORIOStat. significant\\nNot stat. significant\\n🡻60%, p<0.0001\\n🡻97%, p<0.0001\\n🡻92%, p<0.0001ULTIMATE I\\n🡻49%, \\np=0.0022\\n🡻97%, p<0.0001\\n🡻90%, p<0.0001ULTIMATE II\\n🡻103%, p=0.0026🡻15.7%, p=0.5099\\n🡻34.3%, p=0.1716\\nUblituximab was not studied in PPMSIndividual study data not available\\nIndividual study data not availablePooled \\nanalyses🡻Not known* 🡻Not known*\\nAsclepios trials used 3 -& 6-month CDW and 6 -month CDI. * Exact figures for ULTIMATE I & II not yet reported but there was a favourable difference for teriflunomide in ULTIMATE I and a negligible \\ndifference in ULTIMATE II from baseline to Week 96. A post -hoc analysis of Week 24 to Week 96 gave no difference in ULTIMATE I a nd a favourable change for ublituximab in ULTIMATE II.\\nARR, annualised relapse rate; CDI, confirmed disability improvement; CDP, confirmed disease progression; Gd+, gadolinium -enhanci ng; IFN β -1a, interferon beta -1a; OCR, ocrelizumab; OFAT, \\nofatumumab;\\nPMS, progressive MS; PPMS, primary progressive MS; RMS, relapsing MS; stat., statistically; sig., significant.\\n1. Hauser SL, et al. N Engl J Med 2017;376:221 –34;  2. Hauser S. N Engl J Med 2020;383:546 –57; 3. Montalban X. N Engl J Med 2017;376:209 –20; 4. Steinman L, et al. Presented at ECTRIMS 2021 \\n(Presentation S117).', metadata={'source': 'C:\\\\Users\\\\patel\\\\Desktop\\\\Final_Ms_chatbot\\\\chatbot\\\\4_extra_ms_new_ppt_content.pdf', 'page': 18}),\n",
       " Document(page_content='20\\nEvents2,3ASCLEPIOS I ASCLEPIOS II\\nOFAT \\n(n=465)TFN \\n(n=462)OFAT \\n(n=481)TFN \\n(n=474)\\nAny event382 \\n(82.2%)380 \\n(82.3%)409 \\n(85.0%)408 \\n(86.1%)\\nInjection -related \\nreaction75 \\n(16.1%)76 \\n(16.5%)116 \\n(24.1%)64 \\n(13.5%)\\nNasopharyngitis \\n(pooled)*170 \\n(18.0%)156 \\n(16.7%)- -\\nURTI (pooled)*97 \\n(10.3%)120 \\n(12.8%)- -\\nHeadache (pooled)*126 \\n(13.3%)116 \\n(12.4%)- -\\nLymphopenia \\n(pooled)*3 (0.3%) 2 (0.2%)\\nUTI (pooled)*97 \\n(10.3%)78 \\n(8.3%)- -\\nSerious AE48 \\n(10.3%)38 \\n(8.2%)38 \\n(7.9%)36 \\n(7.6%)\\nSerious infection \\nand infestation12 \\n(2.6%)7 \\n(1.5%)12 \\n(2.5%)10 \\n(2.1%)\\nMalignancies 3 (0.6%) 3 (0.6%) 2 (0.4%) 1 (0.2%)\\nDeaths 0 0 0 1 (0.2%)Events1OPERA I OPERA II\\nOCR \\n(n=408)IFN β -1a  \\n(n=409)OCR \\n(n=417)IFN β -1a  \\n(n=417)\\nAny event327 \\n(80.1%)331 \\n(80.9%)360 \\n(86.3%)357 \\n(85.6%)\\n≥1 infusion related \\nreaction126 \\n(30.9%)30 \\n(7.3%)157 \\n(37.6%)50 \\n(12.0%)\\nNasopharyngitis43 \\n(10.5%)43 \\n(10.5%)79 \\n(18.9%)41 \\n(9.8%)\\nURTI59 \\n(14.5%)35 \\n(8.6%)66 \\n(15.8%)52 \\n(12.5%)\\nHeadache33 \\n(8.1%)54 \\n(13.2%)60 \\n(14.4%)70 \\n(16.8%)\\nLymphopenia – – – –\\nUTI52 \\n(12.7%)57 \\n(13.9%)44 \\n(10.6%)43 \\n(10.3%)\\nSerious AE28\\n(6.9%)32 \\n(7.8%)29 \\n(7.0%)40 \\n(9.6%)\\nSerious infection \\nand infestation5 \\n(1.2%)12 \\n(2.9%)6 \\n(1.4%)12 \\n(2.9%)\\nMalignancies 3 (0.7%) 1 (0.2%) 1 (0.2%) 1 (0.2%)\\nDeaths 0 1 (0.2%) 1 (0.2%) 1 (0.2%)Events4ULTIMATE (pooled)\\nUTX \\n(n=545)TFN \\n(n=548)\\nAny event483 \\n(88.6%)486 \\n(88.7%)\\nIRR260 \\n(47.7%)67 \\n(12.2%)\\nNasopharyngitis97 \\n(17.8%)96 \\n(17.5%)\\nURTI39 \\n(7.2%)33 \\n(6.0%)\\nHeadache165 \\n(30.3%)138 \\n(25.2%)\\nLymphopenia51 \\n(9.4%)5 (0.9%)\\nUTI – –\\nSerious AE52 \\n(9.5%)34 \\n(6.2%)\\nSerious infection \\nand infestation22 \\n(4.0%)14 \\n(2.6%)\\nMalignancies 2 (0.4%) 1 (0.2%)\\nDeaths 3 (0.6%) 0OPERA, ASCLEPIOS & ULTIMATE: key safety findings\\n*Only pooled data available for individual AEs. \\nAE, adverse event; IFN β -1a, interferon beta -1a; OCR; ocrelizumab; OFT, ofatumumab; TFN, teriflunomide; UTX, ublituximab; URTI, upper respiratory tract infection; UTI, urinary tract infection. \\n1. Hauser SL, et al. N Eng J Med 2017;376:221 –34; 2. Hauser S, et al. N Engl J Med 2020:383:546 –57; 3. Hauser S, et al. N Engl J Med 2020:383:546 –57 [Suppl. Appendix];\\n4. Steinman L, et al. Presented at ECTRIMS 2021 (Presentation S117).', metadata={'source': 'C:\\\\Users\\\\patel\\\\Desktop\\\\Final_Ms_chatbot\\\\chatbot\\\\4_extra_ms_new_ppt_content.pdf', 'page': 19}),\n",
       " Document(page_content='21\\nOPERA and ASCLEPIOS: Ig levels infection risk\\n*Low IgM level was defined as 10% below the LLN; low IgG level was defined as 20% below the LLN; †Patients with ≥2% infections after first drop of IgM levels below LLN in the \\nofatumumab group. \\nDBP, double -blind period; IgG, immunoglobulin; LLN, lower limit of normal; OCR, ocrelizumab; OFAT, ofatumumab; PI, Prescribing I nformation; UTX, ublituximab; \\nURTI, upper respiratory tract infection; USPI, United States Prescribing Information; UTI, urinary tract infection.\\n1. Roche data on file. 2. De Seze J, et al. Presented at EAN 2020 (Poster LB82); 3. KESIMPTA® (ofatumumab) Prescribing Information. Last updated August 2020.1.911.1\\n051015\\nBelow LLN at Week 96Proportion of patients (%)IgM\\nTeriflunomide (n=936)\\nOfatumumab (n=946)6\\n2.7\\n-32712\\nBelow LLN at Week 96Proportion of patients (%)IgG\\nTeriflunomide (n=936)\\nOfatumumab (n=946)ASCLEPIOS*20.816.5\\n05101520\\nBelow LLN at Week 96Proportion of patients (%)IgM\\nIFN B-1a (n=826)\\nOcrelizumab (n=825)0.31.5\\n-32712\\nBelow LLN at Week 96Proportion of patients (%)IgG\\nIFN B-1a (n=826)\\nOcrelizumab (n=825)OPERA1\\nAt Week 288, an apparent association between decreased levels of IgG and serious \\ninfections was observed with ocrelizumab, but overall incidence was low1Preferred termTeriflunomide \\n(n=62)\\nn (%)Ofatumumab \\n(n=167)\\nn (%)Teriflunomide \\n(N=936)\\nn (%)Ofatumumab \\n(N=946)\\nn (%)\\nPatients with at least one \\ninfection21 (33.9) 50 (29.9) 493 (52.7) 488 (51.6)\\nNasophary\\nngitis6 (9.7) 12 (7.2) 156 (16.7) 170 (18.0)\\nURTI 9 (14.5) 10 (6.0) 120 (12.8) 97 (10.3)\\nUTI 2 (3.2) 11 (6.6) 78 (8.3) 97 (10.3)\\nGastroente\\nritis1 (1.6) 5 (3.0) 22 (2.4) 27 (2.9)\\nPharyngitis 0 5 (3.0) 19 (2.0) 28 (3.0)\\nPatients with at least one \\nserious infection0 2 (1.2) 17 (1.8) 24 (2.5)Infections observed in patients after the first drop of IgM levels below LLN \\ncompared to infections in overall ASCLEPIOS I and II pooled population†,2\\nA patient with multiple infections within a high -level term was counted only once in the total row. A patient with multiple occu rrences of an infection under one \\ntreatment was counted only once in the infection category for that treatment. LLN=0.4 g/L for IgM. For parameters with multip le reference ranges, reference \\nrange for females (since majority of the population is adult female) above 19 years of age was used to display the normal lim it range. n, total number of patients \\nwith IgM levels below LLN in each treatment arm; N, number of patients in ASCLEPIOS I and II pooled population.\\nDuring the DBP, there was no apparent association between decreased Ig levels and an \\nincreased risk of serious or non -serious infections in patients treated with ofatumumab2\\nThe US PI requires Ig monitoring at the beginning, during and following \\ndiscontinuation of ofatumumab3', metadata={'source': 'C:\\\\Users\\\\patel\\\\Desktop\\\\Final_Ms_chatbot\\\\chatbot\\\\4_extra_ms_new_ppt_content.pdf', 'page': 20}),\n",
       " Document(page_content='22\\nA greater range of treatment option allows greater choice for patients \\nLinker R, Chan A. Neurol Res Pract 2019;5;1530.Every patient is unique, and for each the disease activity , drug properties and patient profile must be \\nconsideredA greater range of therapeutic options is valuable, \\ngiven the number of factors that need to be considered for every patient\\nRight drug Right \\ntime\\nRight for \\nthe patient', metadata={'source': 'C:\\\\Users\\\\patel\\\\Desktop\\\\Final_Ms_chatbot\\\\chatbot\\\\4_extra_ms_new_ppt_content.pdf', 'page': 21}),\n",
       " Document(page_content='23\\nSummary\\naCD20, anti -CD20; PPMS, primary progressive MS; RMS, relapsing MS.All aCD20 therapies bind the CD20 region of CD20+B cells and exact epitopes are unique \\nto the therapy with differing in vitro properties, but the exact correlation to clinical efficacy \\nand safety in patients is not currently known\\n1\\nWhilst several clinical trials have been conducted and are still ongoing, ocrelizumab and is \\nthe only aCD20 therapy to be approved for the treatment of RMS and PPMS \\n 2\\nA greater range of therapies is valuable to patients, allowing more choice to find a therapy \\nthat suits their lifestyle factors, reducing treatment -specific burdens where possible\\n 3', metadata={'source': 'C:\\\\Users\\\\patel\\\\Desktop\\\\Final_Ms_chatbot\\\\chatbot\\\\4_extra_ms_new_ppt_content.pdf', 'page': 22}),\n",
       " Document(page_content='24\\nThank You', metadata={'source': 'C:\\\\Users\\\\patel\\\\Desktop\\\\Final_Ms_chatbot\\\\chatbot\\\\4_extra_ms_new_ppt_content.pdf', 'page': 23}),\n",
       " Document(page_content='25\\nDisclaimers :\\n•®= Registered Trade Mark F. Hoffmann -La Roche Limited, Basel, \\nSwitzerland.\\n•For use of a Registered Medical Practitioner or a Hospital or a Laboratory \\nonly.\\n•Full prescribing information available on request.\\n•For scientific information on Roche Medicinal Product please write to \\nindia.medinfo@roche.com.\\n•For all Adverse Events/Special Situation Reports with Roche Medicinal \\nProduct please report the same to india.drugsafety@roche.com within one \\nbusiness day/24 hours.\\n•This input is not valid after 06/09/2024 or any update.Marketed in India by:\\nRoche Products (India) Pvt. Ltd.\\n146-B, 166 A, Unit No. 7, 8, 9 8th Floor, R City \\nOffice, R City Mall, Lal Bahadur Shastri Marg, \\nGhatkopar,\\nMumbai -400 086, Maharashtra | Out of Office \\n(24 X 7): +91 -98201 63752 Email: \\nindia.drugsafety@roche.com\\nTel No. +91 22 50457300 Fax No. +91 22 \\n50457301Doing now what patients need next\\nKindly use the QR code / click on the link \\nfor the latest Prescribing Information (PI)\\nhttps://bit.ly/Roche_Ocrevus_PI', metadata={'source': 'C:\\\\Users\\\\patel\\\\Desktop\\\\Final_Ms_chatbot\\\\chatbot\\\\4_extra_ms_new_ppt_content.pdf', 'page': 24}),\n",
       " Document(page_content='Disease Modifying Therapies (DMTs) \\nin Multiple SclerosisS\\nM-IN-00004201', metadata={'source': 'C:\\\\Users\\\\patel\\\\Desktop\\\\Final_Ms_chatbot\\\\chatbot\\\\4_extra_ms_new_ppt_content.pdf', 'page': 25}),\n",
       " Document(page_content='Disclaimers\\nThe Content in this presentation is intended for healthcare professionals in India only. \\nThe medical information in this presentation is provided as an information resource \\nonly and is not to be used or relied on for any diagnostic or treatment purposes\\nRoche India does not promote or support the use of medications manufactured by it \\nin off label indications. For specific information regarding various therapeutic agents, \\nincluding Roche products, please refer to the approved full prescribing information', metadata={'source': 'C:\\\\Users\\\\patel\\\\Desktop\\\\Final_Ms_chatbot\\\\chatbot\\\\4_extra_ms_new_ppt_content.pdf', 'page': 26}),\n",
       " Document(page_content='The complex pathobiology of MS ultimately leads to accumulation of \\nclinical disability1,2 \\n*Not all patients with RIS will progress to CIS, and not all patients with CIS will progress to MS.\\nCIS, clinically isolated syndrome; RRMS, relapsing remitting MS; RIS, radiologically isolated syndrome; SPMS, secondary progressive MS.\\n1. Traboulsee A. J Neurol Sci 2007;256:S19 –22; 2. Stys PK, et al. Nat Rev Neurosci 2012;13:507 –14. RRMSSPMS\\nUnderlying disease progressionDisability\\nInflammatory demyelinating episodes\\nTimeClinical thresholdDisability\\nRIS*\\nFirst MRI lesionCIS\\nFirst clinical relapse\\nMSBecause inflammation is the \\nprimary mechanism of disease in \\nthe early phase of MS, treating \\ninflammation represents an \\nopportunity to intervene and \\npossibly prevent longer term \\ndamage', metadata={'source': 'C:\\\\Users\\\\patel\\\\Desktop\\\\Final_Ms_chatbot\\\\chatbot\\\\4_extra_ms_new_ppt_content.pdf', 'page': 27}),\n",
       " Document(page_content='Axonal damage occurs early in the MS disease process\\n•Axonal damage is a primary determinant of \\nlater disability1\\n•Pathological changes begin early in the \\ndisease process:\\n–Irreversible axonal transection is most \\nabundant in areas of active inflammation , \\nwhich predominate early in the disease course2\\n–Acute axonal damage is most extensive early \\nin the disease and decreases over time3\\n*APP accumulates at sites of recent axon transection or damage.\\n†23 biopsied and 18 autopsied patients divided into four groups according to disease duration.\\nAPP, amyloid precursor protein.\\n1. De Stefano N, et al. Arch Neurol 2001;58:65 –70; 2. Trapp BD, et al. N Engl J Med 1998;338:278 –85; \\n3. Kuhlmann T, et al. Brain 2002;125:2202 –12.\\nArrowheads = demyelinating axons\\nArrow = transected axon ending in large terminal ovoid\\n0100200300400500\\n0–1 1–5 5–10 >10Cells/mm2\\nYears from first symptoms to biopsy/autopsy†APP* -positive axons in lesions3', metadata={'source': 'C:\\\\Users\\\\patel\\\\Desktop\\\\Final_Ms_chatbot\\\\chatbot\\\\4_extra_ms_new_ppt_content.pdf', 'page': 28}),\n",
       " Document(page_content='Many factors are associated with poorer disease outcome\\n•The accumulation of disability in MS is, to a large extent, an age -related process1\\n•Factors associated with a faster accumulation of disability include:\\nBMI, body mass index; DMT, disease -modifying therapy OCB, oligoclonal band.\\n1. Confavreux C, Vukusic S . Handb Clin Neurol 2014;122:343 –69; 2. Ascherio A, et al. JAMA Neurol 2014;71:306 –14; 3. Hempel S, et al. Mult Scler 2017;23:525 –33; \\n4. Hartl C, et al. J Neurol Sci 2017;375:160 –4; 5. Kvistad SS, et al. J Neuroimmunol 2015;288:92 –7; 6. Ben -Zacharia A. Presented at AAN 2015 (Poster P2.212); \\n7. Manouchehrinia A, et al. Brain 2013;136:2298 –304; 8. Manouchehrinia A, et al. J Neurol Neurosurg Psychiatry 2014;85:1091 –5; 9. Eshaghi A, et al. Ann Neurol 2018;83:210 –\\n22;\\n10. Tintore M, et al. Brain 2015;138:1863 –74; 11. Lunde HMB, et al. J Neurol Neurosurg Psychiatry 2017;0:1 –5.\\n≥10 MRI lesions \\nat diagnosis10Lower vitamin D levels2,3 \\n(particularly during winter months)4\\nPresence of \\nOCBs10\\nHigher BMI5,6\\nDelayed administration \\nof DMT10 \\nSmoking3,7,8\\nYounger age at onset10\\nDeep grey \\nmatter atrophy9\\nProgressive vs relapsing \\ndisease at onset11TimeRelapsing\\nProgressive', metadata={'source': 'C:\\\\Users\\\\patel\\\\Desktop\\\\Final_Ms_chatbot\\\\chatbot\\\\4_extra_ms_new_ppt_content.pdf', 'page': 29}),\n",
       " Document(page_content='Why treat MS early in the disease course?\\nAdapted from Ziemssen T, et al. J Neurol 2016;263:1053 –65.Untreate\\nd\\nDelayed treatment\\nEarly, optimal \\ntreatmentClinical disability\\nStart of ‘silent’ progressionTreatment \\nstart\\nat diagnosisTreatment\\nswitch if\\ncontinuous \\nactivityTreating earlier, while functional reserve remains, can delay neurological progression –\\nrepresenting the ‘window of opportunity’ for optimising treatment benefit\\nWindow of \\nopportunity 1Window of \\nopportunity 2\\nEarly treatmentEarly treatment\\noptimisation', metadata={'source': 'C:\\\\Users\\\\patel\\\\Desktop\\\\Final_Ms_chatbot\\\\chatbot\\\\4_extra_ms_new_ppt_content.pdf', 'page': 30}),\n",
       " Document(page_content='A large number of DMTs are approved for treatment of MS1,2\\n✔\\nThere are currently \\n19 approved DMTs \\navailable for treatment \\nof MS1Each class of DMTs has \\ntheir own mechanism of \\naction and, as a \\nconsequence, the \\nimmunological changes\\nand pharmacokinetics/\\npharmacodynamics\\nassociated with each DMT \\nare different2Understanding the \\nimmunological \\nmechanisms and \\nassociated clinical profiles \\nof each therapy for MS is \\nimportant, in order to \\nselect and manage\\npatients’ therapy \\nappropriately2\\n*Currently only approved in the US.\\nDMT, disease -modifying therapy; MS, multiple sclerosis. \\n1. European Medicines Agency. https://www.ema.europa.eu/en . Accessed January 2020; 2. Du Pasquier RA, et al. CNS Drugs 2014;28:535 –58\\nLast updated: August 2020. Aubagio , Avonex , Betaferon , \\nCopaxone , Extavia , Gilenya , \\nGlatopa , Kesimpta , Lemtrada , \\nMavenclad , Mayzent , Ocrevus , \\nOzanimod , Plegridy , Ponesimod , \\nRebif , Tecfidera , Tysabri , \\nZeposia', metadata={'source': 'C:\\\\Users\\\\patel\\\\Desktop\\\\Final_Ms_chatbot\\\\chatbot\\\\4_extra_ms_new_ppt_content.pdf', 'page': 31}),\n",
       " Document(page_content='Evolution of MS disease -modifying therapy & approvals in the EU1\\n*Very limited clinical use due to adverse side -effects2; †First approved in 2004, subsequently withdrawn and returned to market in 2006.3\\nDMT, disease -modifying therapy; EU, European Union; IFN β, interferon beta; IM, intramuscular; PEG -IFN, pegylated interferon; SC, subcutaneous; US, United States.\\n1. EMA. All DMT approval dates. http://www.ema.europa.eu/ema/ .Accessed November 2021; 2. Martinelli Boneschi F, et al. Cochrane Database Syst Rev 2013;31:CD002127;\\n3. Kornek B. Patient Prefer Adherence 2015;9:675 –84; 4. PONVORY™ (ponesimod) Prescribing Information. Last updated April 2021; 5. PONVORY™ (ponesimod) SmPC. Last updated June 2021.1995 2000 2005 2010 2015 2020\\nInjectable\\ntherapies\\nOral\\ntherapiesInfusion\\ntherapies2008:\\nIFN β -1b \\n(SC; Extavia)1998:\\nIFN β -1a \\n(SC)2003:\\nGlatiramer acetate\\n(SC)1997:\\nIFN β -1a \\n(IM)2014:\\nPEG -IFN β -1a\\n(SC)1995:\\nIFN β -1b\\n(SC)\\n2002:\\nMitoxantrone*,22004/2006:\\nNatalizumab†,32013:\\nAlemtuzumab2018:\\nOcrelizumab\\n2017:\\nCladribine\\n2014:\\nDimethyl fumarate2013:\\nTeriflunomide\\n2011:\\nFingolimod2020:\\nSiponimod & \\nozanimod\\nRMS is the most comprehensively covered clinical phenotype, allowing the greatest flexibility in DMT choice2021:\\nOfatumumab\\n(SC)\\n2021:\\nNatalizumab\\n(SC)\\n2021:\\nPonesimod4,52025', metadata={'source': 'C:\\\\Users\\\\patel\\\\Desktop\\\\Final_Ms_chatbot\\\\chatbot\\\\4_extra_ms_new_ppt_content.pdf', 'page': 32}),\n",
       " Document(page_content='DMTs target different mediators in MS\\n*Information presented for Ocrelizumab and Ofatumumab is simplified for consistency; Ocrelizumab and Ofatumumab bind to diffe rent epitopes on CD20+ B cells.\\nBBB, blood -brain barrier; CD, cluster of differentiation; MS, multiple sclerosis; Nrf2, nuclear factor erythroid 2 -related facto r 2. \\n1. Adapted from Fox EJ, et al. Neurol Clin Pract 2019;9:53 –63. 2. Scannevin RH, et al. J Pharmacol Exp Ther 2012;341:274 –84; 3. Sigal D, et al. Blood 2010;116:2884 –96; \\n4. KESIMPTA® Prescribing Information. Last updated: August 2020.Overview of direct effects on lymphocytes for select DMTs in treatment of MS1\\nInjectable, oral, and infusible DMTs are approved for treatment of MS, all of which exert varying \\nimmunological changes and pharmacokinetic/pharmacodynamic profilesTeriflunomide\\nT & B \\ncells\\nReduced proliferation \\nof activated \\nlymphocytesDHODHNatalizumab\\nT & B \\ncellsα4β1 \\nintegrin \\n(VLA -4)\\nCrossing of the \\nblood brain barrierAlemtuzumab\\nT & B \\ncellsCD52\\nCell lysis and \\ndepletionOcrelizumab\\nand \\nOfatumumab*4\\nB cellsCD20\\nCell lysis and \\ndepletionOverview of direct effects on lymphocytes for select DMTs in treatment of MS1\\nRegulate Nrf20\\ndependent \\nantioxidant genes2Dimethyl fumarate\\nT cells\\nNrf2      HO -1\\nDisrupts DNA \\nmetabolism and \\nkills lymphocytesCladribine3\\nT & B\\ncells\\n2-\\nCdATP2-CdAS1PR modulators\\nT & B \\ncells\\nRetention in \\nlymph tissueS1P CCR\\n7\\nEgress into \\nbloodstream', metadata={'source': 'C:\\\\Users\\\\patel\\\\Desktop\\\\Final_Ms_chatbot\\\\chatbot\\\\4_extra_ms_new_ppt_content.pdf', 'page': 33}),\n",
       " Document(page_content='Overview of the different MS DMT mechanisms of action\\nAll mechanisms of action shown here are only proposed mechanisms, based on currently available best evidence. B, B cell; BBB, blood–brain barrier; CD, cluster of \\ndifferentiation; CNS, central nervous system; HCAR2, hydroxycarboxylic acid receptor 2; IL, interleukin; IFN, interferon; MoA , mechanism of action; NK, natural killer cell; nrf 2, \\nnuclear factor (erythroid -derived 2) -like 2; S1P1, sphingosine -1-phosphate receptor; T, T cell; Th, T -helper cell. \\nFigure adapted from Loleit V, et al. Curr Pharm Biotechnol 2014;15:276 –96. \\n1. Scannevin RH, et al. J Pharmacol Exp Ther 2012;341:274 –84.\\nTBBB\\nTα4-integrin\\nTAnti-migratory\\nNatalizumab\\nPleiotropic effects\\nReduced proliferationCD20\\nB B\\nOcrelizumab and \\nOfatumumabCladribine\\nLymphocyte depletion\\nS1PR modulators\\nS1P1\\nAlemtuzumab\\nCD52\\nLysis of immune cells \\nincluding mature \\nT and B lymphocytesLymph nodeIFNs\\nActivation of 100+\\nIFN-response genes \\nActivation of 700+ nrf2 \\nresponsive genes and HCAR2Glatiramer acetate\\nModulation of Th1:Th2 \\nbalance\\nDimethyl fumarate1\\nLimits pyrimidine \\navailability for rapid \\ncell division\\nTeriflunomide🡪CNS', metadata={'source': 'C:\\\\Users\\\\patel\\\\Desktop\\\\Final_Ms_chatbot\\\\chatbot\\\\4_extra_ms_new_ppt_content.pdf', 'page': 34}),\n",
       " Document(page_content='Summary of injectables\\nSummary of MoAs Summary of pharmacodynamics\\nAll mechanisms of action shown here are only proposed mechanisms, based on currently available best evidence. \\nIFN, interferon; MoA, mechanism of action; Th, T -helper cell. Figure adapted from Loleit V, et al. Curr Pharm Biotechnol 2014;15:276 –96. \\n1. Rieckmann P, et al. Drug Saf 2004;27:745 –56; 2. Dhib -Jalbut S. Neurology 2002;58:S3 –9; 3. Chen M, et al. Mult Scler 2001;7:209 –19; 4. KESIMPTA® Prescribing \\nInformation. \\nLast updated: August 2020. Therapy Pharmacodynamics\\nIFN-βReduces total leukocyte and \\ngranulocyte count through anti -\\ninflammatory and immunomodulatory \\neffects1\\nGlatiramer \\nacetateInduces immunomodulatory Th2 cells, \\nwhich produce anti -inflammatory \\ncytokines2,3IFNs\\nActivation of 100+\\nIFN-response genes Glatiramer acetate\\nModulation of \\nTh1:Th2 balancePleiotropic effects\\nLymphocyte depletion\\nOfatumumab\\nCirculating immature and mature B cells are \\ndepleted while long -lived plasma cells are unalteredPresumed to selectively target\\nCD20+ B cellsTherapy Pharmacodynamics\\nOfatumumabSelectively binds to CD20 present on pre -B \\nand mature B lymphocytes. Following \\nbinding it results in antibody -dependant \\ncellular cytolysis and complement mediated \\nlysis4', metadata={'source': 'C:\\\\Users\\\\patel\\\\Desktop\\\\Final_Ms_chatbot\\\\chatbot\\\\4_extra_ms_new_ppt_content.pdf', 'page': 35}),\n",
       " Document(page_content='Summary of oral therapies\\nAll mechanisms of action shown here are only proposed mechanisms, based on currently available best evidence. \\nBBB, blood -brain barrier; CNS, central nervous system; nrf 2, nuclear factor (erythroid -derived 2) -like 2; S1P1, sphingosine -1-phosphate receptor; T, T cell\\nFigure adapted from Loleit V, et al. Curr Pharm Biotechnol 2014;15:276 –96. \\n1. Francis G, et al. Mult Scler 2014;20:471 –80; 2. Bar -Or A, et al. Drugs 2014;74:659 –74; \\n3. TECFIDERA®(dimethyl fumarate) SmPC. Last updated January 2020; 4. Baker D, et al. Neurol Neuroimmunol Neuroinflamm 2017;4:e360. Summary of MoAs\\nPleiotropic effects Reduced \\nproliferation\\nPromotes cytoprotective \\nresponses by activation \\nof the Nrf2 pathway1,2\\nBBB 🡪CNS\\nT\\nTAnti-migratory\\nCladribineSummary of pharmacodynamics\\nTherapy Pharmacodynamics\\nS1PR \\nmodulatorsS1PR therapies induce rapid and \\nreversible reductions in lymphocyte \\ncounts1\\nTeriflunomideTeriflunomide is associated with a \\nmean decrease in leukocyte counts2\\nDimethyl \\nfumarateDimethyl fumarate reduces immune \\ncell activation and subsequent \\nrelease of proinflammatory cytokines3\\nCladribineCladribine preferentially depletes \\nB-cells with long -lasting effects4\\nS1PR modulators\\nS1P1\\nLymph node', metadata={'source': 'C:\\\\Users\\\\patel\\\\Desktop\\\\Final_Ms_chatbot\\\\chatbot\\\\4_extra_ms_new_ppt_content.pdf', 'page': 36}),\n",
       " Document(page_content='Summary of infusion therapies\\nAll mechanisms of action shown here are only proposed mechanisms, based on currently available best evidence. \\nBBB, blood -brain barrier; CD, cluster of differentiation; CNS, central nervous system; nrf 2, nuclear factor (erythroid -derived 2)-like 2; S1P1, sphingosine -1-phosphate; T, T cell. \\n1. Plavina T, et al. Neurology 2017;89:1 –10; 2. LEMTRADA® (alemtuzumab) SmPC. Last updated January 2020; 3. OCREVUS®(ocrelizumab) SmPC. Last updated June 2020.Summary of MoAs Summary of pharmacodynamics\\nTherapy Pharmacodynamics\\nNatalizumabNatalizumab increases total \\nlymphocyte count in peripheral \\ncirculation but this effect is reversible \\nand markers drop to normal levels \\nafter 16 weeks of discontinuation1\\nAlemtuzumabAlemtuzumab depletes circulating T \\nand B cells; B cells recover within 6 \\nmonths and T cells within 12 months \\npost-treatment2\\nOcrelizumabOcrelizumab causes a transient \\nincrease in peripheral circulating \\nimmune cells by the effects of rapid \\nand sustained depletion of B cells3\\nCD20\\nB B\\nOcrelizumab\\nLymphocyte \\ndepletion\\nTBBB\\nTα4-integrin\\nT\\nAnti-migratoryNatalizumab🡪CNS', metadata={'source': 'C:\\\\Users\\\\patel\\\\Desktop\\\\Final_Ms_chatbot\\\\chatbot\\\\4_extra_ms_new_ppt_content.pdf', 'page': 37}),\n",
       " Document(page_content='MoA and method of administration are important factors in the \\nrisk:benefit profiles of DMTs*\\nNatalizumab\\nJCV +\\nAlemtuzumab Natalizumab\\nJCV–\\nFingolimod Dimethyl fumarate\\nTeriflunomide InterferonsGlatiramer acetate\\nAzathioprineBone Marrow\\nTransplantation\\nCyclophosphamide\\nMitoxantroneOcrelizumab\\nRituximab\\nThird Line\\nSecond Line\\nFirst LineS Hauser et al interpretation of risk:benefit profiles \\n(circa 2013)1Efficacy\\nSafetyLess\\nMore LessMore\\nApproved at the \\ntime of writingNot approved at the \\ntime of writing\\n*Data on slide accurate as of June 2020 update. Data for therapies approved after this period are unavailable. \\nJCV, John Cunningham virus.\\n1. Adapted from Hauser SL, et al. Ann Neurol 2013;74:317 –24Therapies with more direct, lytic or \\nanti-migratory mechanisms of \\naction on lymphocyte populations, \\nwhich results in a more profound \\noverall immunosuppressive effect \\n(as compared with therapies that \\nhave less clearly defined \\nimmunomodulatory effects) –\\nunderstandably have both a more \\npotent efficacy benefit but also \\ngreater risks of causing unintended \\nadverse effects', metadata={'source': 'C:\\\\Users\\\\patel\\\\Desktop\\\\Final_Ms_chatbot\\\\chatbot\\\\4_extra_ms_new_ppt_content.pdf', 'page': 38}),\n",
       " Document(page_content='Interferon formulations\\nOverviewSC/IM\\n*NB: This module focusses on IFN β1-a therapies; betaferon and extavia are not included.\\nAEs, adverse events; IFN β-1a, interferon beta -1a; IFN β-1b, interferon beta -1b; IM, intramuscular; RRMS, relapsing remitting MS; SC, subcutaneous; SPMS, secondary \\nprogressive MS.\\n1. BETAFERON®(IFN β-1b) SmPC. Last updated December 2020; 2. AVONEX®(IFN β-1a IM) SmPC. Last updated March 2021; \\n3. REBIF®(IFN β-1a SC) SmPC. Last updated January 2021; 4. EXTAVIA®(IFN β-1b) SmPC. Last updated December 2020; \\n5. PLEGRIDY®(PEG -IFN β-1a) SmPC. Last updated March 2021; 6. MS Society. DMT factsheet: beta interferons. https://www.mssociety.org.uk/ . Accessed January 2020.BETAFERON*\\nIFN β -1b, 250 µg SC \\nevery other day1EXTAVIA*\\nIFN β -1b, 250 µg SC \\nevery other day4AVONEX\\nIFN β -1a, 30 µg IM \\nonce a week2REBIF\\nIFN β -1a, 22/44 µg SC \\nthree times a week3PLEGRIDY\\nPEG -IFN β -1a, 125 µg SC \\nevery 2 weeks5\\nTherapeutic indications1–5\\n‘…patients with a single demyelinating event with an \\nactive inflammatory process … and if they are determined \\nto be at high risk of developing clinically definite \\nmultiple sclerosis ’\\nBETAFERON, AVONEX, REBIF, EXTAVIA, PLEGRIDYRRMS\\nBETAFERON, AVONEX, REBIF, \\nEXTAVIA, PLEGRIDYSPMS with active disease \\n(evidenced by relapses )\\nBETAFERON, REBIF, EXTAVIA\\nKey safety signals1–5\\nMost clinically significant AEs:6Flu-like symptoms (usually \\nlasting ≤48 hours) following injection and injection -site reactions.The majority of AEs observed are most common at the \\nbeginning of treatment and generally subside with further \\ntreatment . AEs are usually mild and reversible , and respond well \\nto dose reductions\\nKey monitoring requirements1–5\\nPatients should be closely monitored at regular intervals for: \\nHepatic injury, peripheral blood cell and platelet counts (at 1, 3 and 6 months)3, renal impairment and immunogenicityDosing and administration1–5', metadata={'source': 'C:\\\\Users\\\\patel\\\\Desktop\\\\Final_Ms_chatbot\\\\chatbot\\\\4_extra_ms_new_ppt_content.pdf', 'page': 39}),\n",
       " Document(page_content='Glatiramer acetate\\nOverview\\n*Approved in the US only. \\nAE, adverse event; RMS, relapsing MS; SC, subcutaneous; US, United States.\\n1. COPAXONE®20 mg/ml (glatiramer acetate) SmPC. Last updated September 2020; 2. COPAXONE®40 mg/ml (glatiramer acetate) SmPC. Last updated August 2021; \\n3. GLATOPA®(glatiramer acetate) US Prescribing Information. Last updated July 2020; \\n4. MS Society. DMT factsheet: glatiramer acetate (COPAXONE and BRABIO). https://www.mssociety.org.uk/ . Accessed January 2020.Therapeutic indications1–3\\nRMS\\nCOPAXONE 20, COPAXONE 40, GLATOPA*\\nMost clinically significant AEs:4Injection -site reactionsThe majority of immediate post -injection reactions (≥1 of: \\nvasodilatation [flushing], chest pain ,dyspnoea ,palpitation or\\ntachycardia ) are short -lived and resolve spontaneously without \\nany sequelae\\nKey monitoring requirements1–3\\nRenal function and cardiac function should be monitored in cases of renal impairment and pre -existing cardiac disorder, respectivelyCOPAXONE 20\\nGlatiramer acetate 20 mg/ml\\nSC once daily1COPAXONE 40\\nGlatiramer acetate 40 mg/ml\\nSC three times a week2GLATOPA*\\nGlatiramer acetate 20 mg/ml SC once daily or \\n40 mg/ml SC three times per week3SC \\nKey safety signals1–3Dosing and administration1–3', metadata={'source': 'C:\\\\Users\\\\patel\\\\Desktop\\\\Final_Ms_chatbot\\\\chatbot\\\\4_extra_ms_new_ppt_content.pdf', 'page': 40}),\n",
       " Document(page_content='Dimethyl fumarate\\nOverview\\nAEs, adverse events; RRMS, relapsing remitting MS; PML, progressive multifocal leukoencephalopathy.\\n1. TECFIDERA®(dimethyl fumarate) SmPC. Last updated April 2021; 2. MS Society. DMT factsheet: dimethyl fumarate (TECFIDERA). https://www.mssociety.org.uk/ . Accessed \\nJanuary 2020.Therapeutic indications1\\nAdult patients with RRMS\\nKey safety signals1\\nMost clinically significant AEs:2Flushing, raised temperature, \\ngastrointestinal events, nausea, infections, rash/itchiness\\nCases of PML have been observed in the post -marketing settingFlushing and gastrointestinal events tend to begin early in the \\ncourse of treatment, primarily in the first month, and may continue \\nto occur throughout treatment\\nKey monitoring requirements1\\n•Assessment of renal function (e.g. creatine, blood urea nitrogen and urinalysis) is recommended after 3 and 6 months of treatment \\nand every 6 –12 months thereafter and as clinically indicated\\n•Assessment of serum aminotransferases and total bilirubin levels are recommended as clinically indicated\\n•A current complete blood cell count must be performed every 3 months after initiationTECFIDERA\\nDimethyl fumarate 120 mg orally twice daily, increased to 240 mg orally twice daily after 7 days1Dosing and administration1', metadata={'source': 'C:\\\\Users\\\\patel\\\\Desktop\\\\Final_Ms_chatbot\\\\chatbot\\\\4_extra_ms_new_ppt_content.pdf', 'page': 41}),\n",
       " Document(page_content='Teriflunomide\\nOverview\\nAEs, adverse events; ALT, alanine aminotransferase; RRMS, relapsing remitting MS; SGPT, serum glutamic pyruvic transaminase.\\n1. AUBAGIO®(teriflunomide) SmPC. Last updated August 2021; 2. MS Society. DMT factsheet: teriflunomide (AUBAGIO). https://www.mssociety.org.uk/ . Accessed January \\n2020.Therapeutic indications1\\nRRMS\\nKey safety signals1\\nMost clinically significant AEs:2Nausea, diarrhoea, alopecia,  \\nincreased liver enzymes and infections•Generally, headache, diarrhoea, nausea and alopecia were \\nmild to moderate, transient andinfrequently led to \\ntreatment discontinuation\\n•As teriflunomide is the main metabolite of leflunomide, the \\nsafety profile of leflunomide may be pertinent when \\nprescribing teriflunomide to patients with MS\\nKey monitoring requirements1\\nAssessment of blood pressure (periodically), ALT/SGPT (every 2 weeks for 6 months, and every 8 weeks thereafter),\\nand complete blood cell counts (based on clinical signs and symptoms, e.g. infections)AUBAGIO\\nTeriflunomide 14 mg orally once daily1Dosing and administration1', metadata={'source': 'C:\\\\Users\\\\patel\\\\Desktop\\\\Final_Ms_chatbot\\\\chatbot\\\\4_extra_ms_new_ppt_content.pdf', 'page': 42}),\n",
       " Document(page_content='Fingolimod\\nOverview\\nAE, adverse event; DMT, disease -modifying therapy; ECG, electrocardiogram; HPV, human papillomavirus; PML, progressive multifoca l leukoencephalopathy; \\nPRES, posterior reversible encephalopathy syndrome; RRMS, relapsing remitting MS.\\n1. GILENYA®(fingolimod) SmPC. Last updated August 2021; 2. MS Society. DMT factsheet: fingolimod (GILENYA). https://www.mssociety.org.uk/ . Accessed January 2020.Therapeutic indications1\\nHighly active RRMS (adults, paediatric patients aged ≥10 years , where patients have had a full and adequate course of treatment \\nwith ≥1 DMT or patients have rapidly evolving, severe RRMS, defined clinically and by MRI)\\nKey safety signals1\\nMost clinically significant AEs:2infections, raised levels of liver enzymes, \\ntransient decrease in/irregular heart rate, macular oedema.\\nCases of PML, HPV, cryptococcal meningitis, PRES, cutaneous neoplasms \\nand tumefactive lesions have been reported in the post -marketing settingInitiation of treatment with fingolimod results in an immunosuppressive \\neffect and a transient decrease in heart rate (with continued administration, \\naverage heart rate typically returns towards baseline within one month)\\nKey monitoring requirements1\\n•ECG and blood pressure should be assessed 6 hours after the first dose and following treatment interruption, and blood pressure should be regularly \\nmonitored throughout treatment\\n•Complete blood count should be assessed at 3 months and yearly thereafter, to monitor for infections\\n•Evaluation of the skin for lesions is recommended every 6 months\\n•An ophthalmological evaluation is recommended at 3 –4 months after treatment initiation\\n•Liver transaminases should be monitored at months 1, 3, 6, 9 and 12 on therapy and periodically thereafterGILENYA\\nFingolimod 0.5 mg orally once daily (adults, children with body weight \\n>40 kg), or 0.25 mg orally once daily (children with body weight ≤40 kg)1Dosing and administration1', metadata={'source': 'C:\\\\Users\\\\patel\\\\Desktop\\\\Final_Ms_chatbot\\\\chatbot\\\\4_extra_ms_new_ppt_content.pdf', 'page': 43}),\n",
       " Document(page_content='Ocrelizumab\\nOverview\\nAE, adverse event; IRRs, infusion -related reactions; Ig, immunoglobulin; RMS, relapsing MS; PPMS, primary progressive MS.\\n1. OCREVUS®(ocrelizumab ) SmPC . Last updated May 2021;\\n2. MS Society. DMT factsheet: ocrelizumab (OCREVUS). https://www.mssociety.org.uk/ . Accessed January 2020.Therapeutic indications1\\nAdult patients with active RMS and early PPMS\\nKey safety signals1\\nMost clinically significant AEs:2IRRs, infections, decreased Ig \\nlevels & neutropeniaSymptoms of IRRs may occur during any infusion , but have \\nbeen more frequently reported during the first infusion\\nKey monitoring requirements1\\n•Patients must receive premedication to reduce the frequency and severity of IRRs, and patients must be monitored for IRRs \\nduring and for ≥1 hour after the infusion\\n•Vaccination with seasonal, inactivated influenza vaccines during treatment\\n•Individual benefit -risk should be considered in patients with known risk factors for malignancies and in patients who are being \\nactively monitored for recurrence of malignancyOCREVUS\\nOcrelizumab 600 mg infusion as an initial dose of 2 x 300 mg, \\nfollowed by 600 mg infusions every 6 months thereafterDosing and administration1', metadata={'source': 'C:\\\\Users\\\\patel\\\\Desktop\\\\Final_Ms_chatbot\\\\chatbot\\\\4_extra_ms_new_ppt_content.pdf', 'page': 44}),\n",
       " Document(page_content='Natalizumab\\nOverview\\nAE, adverse event; DMT, disease -modifying therapy; IRIS, immune -reconstitution inflammatory syndrome; JC, John Cunningham; JCV, John Cunningham Virus; \\nRRMS, relapsing remitting MS; PML, progressive multifocal leukoencephalopathy; SC, subcutaneous.\\n1. TYSABRI®(natalizumab) SmPC. Last updated October 2021; 2. MS Society. DMT factsheet: natalizumab (TYSABRI). https://www.mssociety.org.uk/ . Accessed January 2020.Therapeutic indications1\\nAdult patients with highly active RRMS (where patients have had a full and adequate course of treatment with ≥1 DMT or \\npatients have rapidly evolving, severe RRMS, defined clinically and by MRI)\\nKey safety signals1\\nMost clinically significant AEs:2IRRs, serious allergic reactions, \\ninfections and increased risk of PML; IRIS occurs in almost all \\npatients with natalizumab -associated PML after withdrawal of \\ntreatmentUse of natalizumab has been associated with an increased risk \\nof PML, an opportunistic infection caused by JC virus , which\\nmay be fatal or result in severe disability\\nKey monitoring requirements1\\n•Testing for serum anti -JCV antibody is recommended prior to treatment initiation, with re -testing of negative patients every \\n6 months and monitoring for symptoms of PML throughout treatment\\n•A recent MRI should be available prior to initiation of treatment, and should be repeated on a yearly basis (more frequently for \\npatients at higher risk of PML)\\n•Patients should be observed for hypersensitivity reactions during and for 1 hour after the infusion\\n•Monitoring and treatment for development of IRIS should be undertaken following withdrawal or removal of treatment\\n•Patients should be monitored as appropriate for impaired liver functionTYSABRI\\nNatalizumab 300 mg intravenous infusion OR natalizumab 300 mg subcutaneous injections \\n(two 150 mg doses) once every 4 weeks OR every six weeks with extended interval dosingDosing and administration1SC ', metadata={'source': 'C:\\\\Users\\\\patel\\\\Desktop\\\\Final_Ms_chatbot\\\\chatbot\\\\4_extra_ms_new_ppt_content.pdf', 'page': 45}),\n",
       " Document(page_content='Alemtuzumab\\nOverview\\nAE, adverse event; DMT, disease -modifying therapy; EMA, European Medicines Agency; HPV, human papoillomavirus ; Gd, gadolinium; IARs, infusion -associated reactions; IRRs, infusion -related \\nreactions; \\nITP, immune thrombocytopenia; RRMS, relapsing remitting MS; VZV, varicella -zoster virus.\\n1. EMA. Press release EMA/609015/2019. https://www.ema.europa.eu/en/documents/press -release/measures -minimise -risk-serious -side-effects -multiple -sclerosis -medicine -lemtrada_en.pdf . \\nAccessed November 2021; 2. LEMTRADA®(alemtuzumab ) SmPC . Last updated September 2021; \\n3. MS Society. DMT factsheet: alemtuzumab (LEMTRADA). https://www.mssociety.org.uk/ . Accessed January 2020.Therapeutic indications2\\nAdult patients with highly active RRMS despite a full and adequate course of treatment with ≥1 DMT, or in rapidly evolving severe disease \\nKey safety signals2\\nMost clinically significant AEs:3IRRs, infections, lymphopenia, \\nautoimmune conditions, stroke and aneurism; nephropathies and \\nserious events of ITP have been observed in clinical trials and follow -upThe most important AEs are autoimmunity, IARs and infections \\nKey monitoring requirements2\\n•Complete blood counts with differential and serum creatine levels should be at monthly intervals until 48 months after the last infusion\\n•Liver function should be evaluated during treatment, and vital signs should be monitored during infusion\\n•Thyroid function tests should be obtained every 3 months until 48 months after the last infusion\\n•Patients should be pre-medicated to ameliorate the effects of infusion reaction , and observed for infusion reactions during and for \\n2 hours following infusion\\n•HPV screening should be completed annually for female patients, and all patients must be evaluated for tuberculosis infection , \\naccording to local guidelines \\n•Prophylaxis with an oral anti -herpes agent should be initiated starting on the first day of treatment and continued for ≥1 month after \\neach treatment course\\n•Laboratory tests should be conducted at periodic intervals until 48 months following the last treatment course to monitor for autoimmune diseaseLEMTRADA\\nAlemtuzumab 12 mg intravenous infusion daily for 2 initial treatment courses \\n(5 consecutive days), with up to 2 additional courses (3 consecutive days) if \\nneeded1Patient safety warning (EMA):1LEMTRADA should only be started in adults with RRMS that is \\nhighly active despite a full and adequate course of treatment with treatment with ≥1 DMT, or in \\nrapidly evolving severe disease defined by ≥2 disabling relapses in 1 year, and with 1 or more \\nGd-enhancing lesions on brain MRI or a significant increase in T2 lesion load compared with a \\nrecent MRI\\nDosing and administration2', metadata={'source': 'C:\\\\Users\\\\patel\\\\Desktop\\\\Final_Ms_chatbot\\\\chatbot\\\\4_extra_ms_new_ppt_content.pdf', 'page': 46}),\n",
       " Document(page_content='Ofatumumab\\nOverview\\nTherapeutic indications\\nAdult patients with RMS with active disease\\nMost clinically significant AEs: \\nInfections, injection -related reactionsMost common AEs* were upper respiratory tract infections, \\nurinary tract infections, systemic injection -related reactions and \\nlocal injection -site reactions \\nKey monitoring requirements\\nThe first injection should be performed under the guidance of an appropriately trained healthcare professional KESIMPTA \\nInitial dosing: ofatumumab 20 mg SC at Weeks 0, 1 and 2\\nMaintenance dose: ofatumumab 20 mg SC once monthly starting at Week 4Dosing and administration\\nKey safety signalsSC \\n*Occurring in >10% patients and more frequently with ofatumumab than in patients treated with teriflunomide. \\nAEs, adverse events; RMS, relapsing MS; SC, subcutaneous.\\nKESIMPTA® (ofatumumab) SmPC. Last updated June 2021. ', metadata={'source': 'C:\\\\Users\\\\patel\\\\Desktop\\\\Final_Ms_chatbot\\\\chatbot\\\\4_extra_ms_new_ppt_content.pdf', 'page': 47}),\n",
       " Document(page_content='Implications of MoA on switching therapies and washout considerations\\nDMT, disease -modifying treatment; MoA, mechanism of action; PD, pharmacodynamics; PK, pharmacokinetics. \\nGrand’Maison F, et al. Neural Regen Res 2018;13:1871 –4.Timely sequencing to high -efficacy DMTs, in the event of breakthrough disease on \\ncurrent treatment, may help to better control disease activity and progression\\nWhen sequencing high -efficacy DMTs it is important to understand the MoA and lasting \\nPK/PD of previous DMT to avoid overlapping effects on the immune response\\nDMTs that have short, reversible immune effects and better safety profiles are attractive \\noptions for sequencing to maximise benefit and minimise carry -over risk\\nAn adequate washout period is required to encourage recovery of the targeted immune \\nfunction to ‘normal’ before initiating the next DMT', metadata={'source': 'C:\\\\Users\\\\patel\\\\Desktop\\\\Final_Ms_chatbot\\\\chatbot\\\\4_extra_ms_new_ppt_content.pdf', 'page': 48}),\n",
       " Document(page_content='Where do DMTs in MS fit in the current treatment paradigm?\\n•Alemtuzumab*\\n•Cladribine\\n•Fingolimod\\n•Natalizumab†\\n•Ocrelizumab\\n•Ofatumumab3Indicated MS phenotype Approved DMTs1stattack \\nsuggestive \\nof MS\\n•Glatiramer acetate\\n•Interferon β\\n•Ponesimod1,2CIS\\nInactive\\nNo clinical \\nattacks and \\nstable MRIActive\\n1 relapse in the \\nprevious year and/or \\nnew T2 or Gd+ \\nlesions on MRIHighly -active\\nWith DMT: 1 relapse and new \\nGd+ lesion(s) and/or significant \\nincrease in T2 lesions\\nNo DMT: ≥2 relapses in the \\nprevious year and MRI\\nActive \\nmonitoring \\n(clinical \\nand MRI)•Dimethyl fumarate\\n•Fingolimod\\n•Glatiramer acetate\\n•Interferon β\\n•Ocrelizumab\\n•Teriflunomide\\n•Ozanimod\\n•Ofatumumab3\\n•Ponesimod1,2Relapsing -onset MS\\nSPMS\\nProgressive increase in \\ndisability independent of \\nrelapses following an \\ninitial relapsing coursePPMS\\nProgressive increase in \\ndisability independent of \\nrelapses from onset\\n•Siponimod\\n(Active SPMS)\\n•Ponesimod1,2\\n(Active SPMS )\\n•Ocrelizumab\\n•Ofatumumab3Ocrelizumab\\n(Early PPMS)Progressive -onset MS\\nNB: The above overview is according to EMA approvals, local country labels may vary. \\nTable adapted from De Angelis F, et al. BMJ 2018;363:k4674.\\n*Alemtuzumab indication has been restricted on the basis of safety subsequent to the publication;†Natalizumab is also indicated in patients with rapidly evolving severe MS and the use of natalizumab in these patients is com mon practice.\\nCIS, clinically isolated syndrome; DMT, disease -modifying therapy; Gd+, gadolinium enhancing; IFN β, interferon beta; PPMS, prim ary progressive MS; SPMS, secondary progressive MS. \\n1. PONVORY™ (Ponesimod) Prescribing Information. Last updated March 2021; 2. PONVORY™ (ponesimod) SmPC. Last updated June 2021; \\n3. KESIMPTA® (ofatumumab) SmPC. Last updated June 2021; 4. Gajofatto A, Benedetti MD. World J Clin Cases 2015;3:545 –55; 5. TYSABRI® (natalizumab) SmPC. Last updated October 2021. ', metadata={'source': 'C:\\\\Users\\\\patel\\\\Desktop\\\\Final_Ms_chatbot\\\\chatbot\\\\4_extra_ms_new_ppt_content.pdf', 'page': 49}),\n",
       " Document(page_content='Summary\\nDMT, disease -modifying therapy; MoA, mechanism of action. Several DMTs are available for the treatment of MS, with a number of MoAs \\naffecting the neuroinflammatory processes of MS \\n 1\\nBy understanding the mechanism of action of DMTs, and their PK/PD effects, we \\ncan understand the dosing implications and safety considerations for these \\ntherapies\\n2\\nWhen sequencing high -efficacy DMTs it is important to understand the MoA and \\nlasting PK/PD of previous DMT to avoid overlapping effects on the immune \\nresponse\\n3', metadata={'source': 'C:\\\\Users\\\\patel\\\\Desktop\\\\Final_Ms_chatbot\\\\chatbot\\\\4_extra_ms_new_ppt_content.pdf', 'page': 50}),\n",
       " Document(page_content='27\\nDisclaimers :\\n•®= Registered Trade Mark F. Hoffmann -La Roche Limited, Basel, \\nSwitzerland.\\n•For use of a Registered Medical Practitioner or a Hospital or a Laboratory \\nonly.\\n•Full prescribing information available on request.\\n•For scientific information on Roche Medicinal Product please write to \\nindia.medinfo@roche.com.\\n•For all Adverse Events/Special Situation Reports with Roche Medicinal \\nProduct please report the same to india.drugsafety@roche.com within one \\nbusiness day/24 hours.\\n•This input is not valid after 19/03/2025 or any update.Marketed in India by:\\nRoche Products (India) Pvt. Ltd .\\n146-B, 166 A, Unit No. 7, 8, 9 8th Floor, R City \\nOffice, R City Mall, Lal Bahadur Shastri Marg, \\nGhatkopar ,\\nMumbai -400 086, Maharashtra | Out of Office \\n(24 X 7): +91 -98201 63752 Email: \\nindia.drugsafety@roche.com\\nTel No. +91 22 50457300 Fax No. +91 22 \\n50457301Doing now what patients need next\\nKindly use the QR code / click on the link \\nfor the latest Prescribing Information (PI)\\nhttps://bit.ly/Roche_Ocrevus_PI', metadata={'source': 'C:\\\\Users\\\\patel\\\\Desktop\\\\Final_Ms_chatbot\\\\chatbot\\\\4_extra_ms_new_ppt_content.pdf', 'page': 51}),\n",
       " Document(page_content='Ocrelizumab\\nIndicated for:\\n•Relapsing forms of Multiple Sclerosis (MS), to include \\nclinically isolated syndrome, relapsing -remitting disease, \\nand active secondary progressive disease, in adults. \\n•Primary Progressive MS, in adults\\nM-IN-00003499', metadata={'source': 'C:\\\\Users\\\\patel\\\\Desktop\\\\Final_Ms_chatbot\\\\chatbot\\\\4_extra_ms_new_ppt_content.pdf', 'page': 52}),\n",
       " Document(page_content='2\\nDisclaimers\\nThe Content in this presentation is intended for healthcare professionals in India only. \\nThe medical information in this presentation is provided as an information resource \\nonly and is not to be used or relied on for any diagnostic or treatment purposes\\nRoche India does not promote or support the use of medications manufactured by it \\nin off label indications. For specific information regarding various therapeutic agents, \\nincluding Roche products, please refer to the approved full prescribing information', metadata={'source': 'C:\\\\Users\\\\patel\\\\Desktop\\\\Final_Ms_chatbot\\\\chatbot\\\\4_extra_ms_new_ppt_content.pdf', 'page': 53}),\n",
       " Document(page_content='3\\nDefining radiologically isolated syndrome and clinically isolated syndrome \\n*That meet specified MRI criteria.\\nCIS, clinically isolated syndrome; CNS, central nervous system; RIS, radiologically isolated syndrome; RRMS, relapsing remitt ingMS.\\n1. Miller DH, et al. Mult Scler 2008;14:1157 –74; 2. Miller DH, et al. Lancet Neurol 2012;11:157 –69; 3. Okuda DT, et al. Neurology \\n2009;72:800 –5. •CIS is a first episode of neurologic symptoms suggestive of a demyelinating disease, primarily \\nMS1,2\\n•The episode (lasting ≥24 hours) is caused by inflammation or demyelination in the CNS , \\noccurring in the absence of fever or infection and no clinical features of encephalopathy1,2\\nMonofocal CIS : A single neurological sign or symptom indicative of a single lesion in \\nareas such as the optic nerve, spinal cord, brainstem or cerebellum \\nMultifocal CIS: >one sign or symptom indicative of ≥2 lesions \\ndisseminated in space, with no dissemination in timeCIS•RIS is defined as the presence of incidentally identified CNS white matter anomalies* \\nsuggestive of MS in otherwise healthy patients , without any indicative signs or symptoms of \\nthe disease3\\n•Approximately one third of patients with RIS are diagnosed with MS within 5 years of \\npresentation, most often with RRMS3RIS', metadata={'source': 'C:\\\\Users\\\\patel\\\\Desktop\\\\Final_Ms_chatbot\\\\chatbot\\\\4_extra_ms_new_ppt_content.pdf', 'page': 54}),\n",
       " Document(page_content='4\\nDamage occurs early in MS\\n1. Giovannoni G, et al. Mult Scler Relat Disord 2016 ;9:S5–48; 2. Amato M, et al. Arch Neurol. 2001 ;58:1602 –6; 3. Martino G. Lancet 2004 ;3:372 –8. •MS is typically diagnosed following a patient ’s first relapse, or when clinical symptoms are no longer \\nattributable to other diseases \\n•This diagnosis can be up to years after a patient has initially developed MS; as brain damage occurs from \\nthe start of the disease course, irreversible damage may have already occurred prior to diagnosis1,2\\n•Neurologic reserve and damage repair mechanisms (e.g. cortical remodelling) often prevent this damage \\nfrom being detected; these mechanisms can prevent/block glial scar formation, block inhibitors of myelin, \\ndrive axon regeneration and reform functional synapses3\\n•However, cognitive decline and increasing disability have been observed in some cases which may indicate \\nearly MS, most commonly: Earl\\ny MS\\nPhysical disability1Cognitive function2\\nLearning Recall Abstract \\nreasoningVisual \\ndisturbancesSensory Motor\\nTingling, pain, \\nnumbnessDifficulty walking,\\nstiffness', metadata={'source': 'C:\\\\Users\\\\patel\\\\Desktop\\\\Final_Ms_chatbot\\\\chatbot\\\\4_extra_ms_new_ppt_content.pdf', 'page': 55}),\n",
       " Document(page_content='5\\nCognitive deficits are present in early stages of MS, even before MS \\ndiagnosis\\nCIS, clinically isolated syndrome.\\nFeuillet L, et al. Mult Scler 2007;13:124 –7.Patients failing ≥2 cognitive tests (%)\\nCIS patients \\n(n=40)Healthy controls\\n(n=30)p<0.0001\\n0204060\\n57%\\n7%Deficits were found mainly in memory, \\nspeed of information processing, \\nattention and executive functioning', metadata={'source': 'C:\\\\Users\\\\patel\\\\Desktop\\\\Final_Ms_chatbot\\\\chatbot\\\\4_extra_ms_new_ppt_content.pdf', 'page': 56}),\n",
       " Document(page_content='6\\nThere are tangible disease consequences even at lower disability levels\\nEDSS, Expanded Disability Status Scale.\\n1. Simmons RD, et al. J Neurol 2010;257:926 –36; 2. Kobelt G, et al. Mult Scler \\n2017; 23:1123 -36In a qualitative study1:\\n•The main reasons for loss of \\nemployment were: \\n–Fatigue\\n–Cognition\\n–Stress\\n–Mobility\\n–Problems with arms/hands\\n–Not meeting own standards\\n•Only 17.6% asked to leave \\nor were dismissed from their\\nemploymentWorkforce participation: Percentage of patients below retirement \\nage employed (N=13,391) or self -employed (N=6,769) by EDSS \\nscore290\\n80\\n70\\n60\\n50\\n40\\n30\\n20\\n10\\n0Employed (%)\\n0 1 2 3 4 5 6 6.5 7 8 9\\nEDSS82\\n77\\n68\\n5449\\n39\\n2928\\n1615\\n8', metadata={'source': 'C:\\\\Users\\\\patel\\\\Desktop\\\\Final_Ms_chatbot\\\\chatbot\\\\4_extra_ms_new_ppt_content.pdf', 'page': 57}),\n",
       " Document(page_content='7\\nAxonal damage occurs early in the MS disease process\\n•Axonal damage is a primary determinant of \\nlater disability1\\n•Pathological changes begin early in the \\ndisease process:\\n–Irreversible axonal transection is most \\nabundant in areas of active inflammation , \\nwhich predominate early in the disease course2\\n–Acute axonal damage is most extensive early \\nin the disease and decreases over time3\\n*APP accumulates at sites of recent axon transection or damage.\\n†23 biopsied and 18 autopsied patients divided into four groups according to disease duration.\\nAPP, amyloid precursor protein.\\n1. De Stefano N, et al. Arch Neurol 2001;58:65 –70; 2. Trapp BD, et al. N Engl J Med 1998;338:278 –85; \\n3. Kuhlmann T, et al. Brain 2002;125:2202 –12.\\nArrowheads = demyelinating axons\\nArrow = transected axon ending in large terminal ovoid\\n0100200300400500\\n0–1 1–5 5–10 >10Cells/mm2\\nYears from first symptoms to biopsy/autopsy†APP* -positive axons in lesions3', metadata={'source': 'C:\\\\Users\\\\patel\\\\Desktop\\\\Final_Ms_chatbot\\\\chatbot\\\\4_extra_ms_new_ppt_content.pdf', 'page': 58}),\n",
       " Document(page_content='8\\nThe complex pathobiology of MS ultimately leads to accumulation of \\nclinical disability1,2 \\n*Not all patients with RIS will progress to CIS, and not all patients with CIS will progress to MS.\\nCIS, clinically isolated syndrome; RRMS, relapsing remitting MS; RIS, radiologically isolated syndrome; SPMS, secondary progr essive MS.\\n1. Traboulsee A. J Neurol Sci 2007;256:S19 –22; 2. Stys PK, et al. Nat Rev Neurosci 2012;13:507 –14. RRMSSPMS\\nUnderlying disease progressionDisability\\nInflammatory demyelinating episodes\\nTimeClinical \\nthresholdDisability\\nRIS*\\nFirst MRI lesionCIS\\nFirst clinical relapseMSBecause inflammation is the \\nprimary mechanism of disease in \\nthe early phase of MS, treating \\ninflammation represents an \\nopportunity to intervene and \\npossibly prevent longer term \\ndamage', metadata={'source': 'C:\\\\Users\\\\patel\\\\Desktop\\\\Final_Ms_chatbot\\\\chatbot\\\\4_extra_ms_new_ppt_content.pdf', 'page': 59}),\n",
       " Document(page_content='9\\nDespite myelin repair (remyelination), axonal loss is irreversible and the \\nbrain begins to atrophy more rapidly in MS, seen as pathological volume loss\\nEDSS, Expanded Disability Status Scale; RRMS, relapsing -remitting MS; SPMS, secondary progressive MS.\\n1. Filippi M, et al. Handbook of Clinical Neurology 2014 ;122:115 –49; 2. Giovannoni G, et al. Mult Scler Relat Disord 2016 ;9:S5–48; \\n3. Bermel RA, Bakshi R. Lancet Neurol 2006 ;5:158 –170; 4. Fragoso YD, et al. Arq Neuropsiquiatr 2017 ;75:464 –469.\\nAxonal loss over time results in increased rate of brain volume loss in \\npeople with MS compared with healthy controls\\nIn healthy people\\nIn middle -aged \\nadults without MS, \\nwhole brain volume \\nis lost at a rate of\\n0.1–0.5%\\nper yearHowever, in people \\nwith MS, whole \\nbrain volume is \\nlost at a rate of\\n0.5–1.4%\\nper yearRRMS\\nEDSS: 1.5\\nDuration: 5 \\nyrsRRMS\\nEDSS: 4.0\\nDuration: 10 \\nyrsSPMS\\nEDSS: 6.5\\nDuration: 18 \\nyrs\\nBrain atrophy occurs throughout the course of MS,\\nat a rate largely independent of clinical phenotype \\n(once adjusted for baseline brain volume)', metadata={'source': 'C:\\\\Users\\\\patel\\\\Desktop\\\\Final_Ms_chatbot\\\\chatbot\\\\4_extra_ms_new_ppt_content.pdf', 'page': 60}),\n",
       " Document(page_content='10\\nMany factors are associated with poorer disease outcome\\n•The accumulation of disability in MS is, to a large extent, an age -related process1\\n•Factors associated with a faster accumulation of disability include:\\nBMI, body mass index; DMT, disease -modifying therapy OCB, oligoclonal band.\\n1. Confavreux C, Vukusic S . Handb Clin Neurol 2014 ;122:343 –69; 2. Ascherio A, et al. JAMA Neurol 2014 ;71:306 –14; 3. Hempel S, et al. Mult Scler 2017 ;23:525 –33; \\n4. Hartl C, et al. J Neurol Sci 2017 ;375:160 –4; 5. Kvistad SS, et al. J Neuroimmunol 2015 ;288:92 –7; 6. Ben -Zacharia A. Presented at AAN 2015 (Poster P 2.212 ); \\n7. Manouchehrinia A, et al. Brain 2013 ;136:2298 –304; 8. Manouchehrinia A, et al. J Neurol Neurosurg Psychiatry 2014 ;85:1091 –5; 9. Eshaghi A, et al. Ann Neurol\\n2018 ;83:210 –22;\\n10. Tintore M, et al. Brain 2015 ;138:1863 –74; 11. Lunde HMB, et al. J Neurol Neurosurg Psychiatry 2017 ;0:1–5.\\n≥10 MRI lesions \\nat diagnosis10Lower vitamin D levels2,3 \\n(particularly during winter months)4\\nPresence of \\nOCBs10\\nHigher BMI5,6\\nDelayed administration \\nof DMT10 \\nSmoking3,7,8\\nYounger age at onset10\\nDeep grey \\nmatter atrophy9\\nProgressive vs relapsing \\ndisease at onset11TimeRelapsing\\nProgressiv\\ne', metadata={'source': 'C:\\\\Users\\\\patel\\\\Desktop\\\\Final_Ms_chatbot\\\\chatbot\\\\4_extra_ms_new_ppt_content.pdf', 'page': 61}),\n",
       " Document(page_content='11\\nHigh lesion count and presence of OCBs in CIS are predictive of \\ndeveloping disability accumulation (EDSS ≥3)\\nCIS, clinically isolated syndrome; DMT, disease -modifying therapy; EDSS, Expanded Disability Status Scale; OCB, oligoclonal \\nband.\\nAdapted from Tintore M, et al. Brain 2015;138:1863 –74.Decreased risk        Increased risk\\nSingle centre study \\nn=1,015\\nMean follow -up \\n6.75 years0 lesions 1\\n1–3 lesions 0.9 (0.3, 2.1)\\n4–9 lesions 1.2 (0.5, 2.8)\\n≥10 lesions 2.9 (1.4, 6.0)\\nDMT after 2nd relapse 1\\nDMT before 2nd relapse 0.5 (0.3, 0.9)\\nOCB absent 1\\nOCB present 2.0 (1.2, 3.6)\\nMale\\nFemale 0.8 (0.5, 1.2)\\n40–49 years 1\\n30–39 years 0.7 (0.4, 1.2)\\n20–29 years 0.6 (0.3, 1.0)\\n0–19 years 1.0 (0.4, 2.1)\\nOther\\nOptic neuritis 0.6 (0.4, 1.0)HR (95% CI) Baseline variable\\n0.25 0.5 1 2 4 8\\nLog2(HR) (95% CI)Multivariate analysis for risk of reaching EDSS ≥3.0 in patients with CIS\\nFactors such as age and gender were found to have a lower impact on the risk of EDSS ≥3.0, whereas \\npatients with CIS that received DMT therapy before their second relapse reduced the risk of EDSS ≥3.0 by \\n~50% High \\nimpact \\nLow \\nimpact Medium \\nimpact ', metadata={'source': 'C:\\\\Users\\\\patel\\\\Desktop\\\\Final_Ms_chatbot\\\\chatbot\\\\4_extra_ms_new_ppt_content.pdf', 'page': 62}),\n",
       " Document(page_content='12\\nHigh lesion count and presence of OCBs in CIS is predictive of a second attack\\n*Risk of clinical conversion in 5 -year units; †Every point increase in EDSS at CIS was associated with 1.16 times the rate of \\nsubsequent conversion; ‡Co-linear with number of spinal T2 Gd lesions (1+ vs 0). \\nCIS, clinically isolated syndrome; CSF, cerebrospinal fluid; DMT, disease -modifying therapy; EDSS, Expanded Disability \\nStatus Scale; Gd, gadolinium; Gd+, gadolinium -enhancing; MPR, medication possession ratio; OCB, oligoclonal band.\\nSpelman T, et al. Mult Scler 2017;23:1346 –57.Multicentre study, n=3,296\\n50 clinics \\n22 countries\\nMedian follow -up of \\n1.92 years \\n0 0.5 1 1.5 2\\nHR (95% CI)HR (95% CI) Baseline variableDecreased risk        Increased risk\\nMale 1\\nFemale 1.05 (0.95 –1.16)\\nOlder age at MS onset* 0.9 (0.88 –0.92)\\nEDSS (continuous)†1.16 (1.12 –1.20)\\nFirst symptom: optic \\npathways1\\nSupratentorial 1.29 (1.12 –1.48)\\nBrainstem 1.17 (1.02 –1.36)\\nSpinal cord 1.10 (0.96 –1.27)\\nOCB in CSF‡: absent 1\\nPresent 1.52 (1.22 –1.88)\\nT1 Gd+ lesions: 0 1\\n1+ 1.24 (1.09 –1.41)\\nT2 lesions: 0 –2 1\\n3–8 0.98 (0.81 –1.20)\\n9+ 0.96 (0.77 –1.20)\\nInfratentorial lesions: 0 1\\n1+ 1.21 (1.08 –1.36)\\nJuxtacortical lesions: 0 1\\n1+ 1.21 (1.06 –1.37)\\nPeriventricular lesions: 0 1\\n1–2 1.15 (0.95 –1.40)\\n3+ 1.68 (1.38 –2.04)\\nNo DMT exposure 1\\nDMT during follow -up 0.58 (0.46 –0.73)\\nMPR                       0.35 (0.25 –0.49)Multivariate analysis for first post -CIS relapse in patients with CIS\\nThe risk of a second \\nattack was associated \\nwith higher baseline \\nlesion count and OCB \\npresence, and was \\nreduced in those \\nreceiving DMTs', metadata={'source': 'C:\\\\Users\\\\patel\\\\Desktop\\\\Final_Ms_chatbot\\\\chatbot\\\\4_extra_ms_new_ppt_content.pdf', 'page': 63}),\n",
       " Document(page_content='13\\nWhy treat MS early in the disease course?\\nAdapted from Ziemssen T, et al. J Neurol 2016;263:1053 –65.Untreated\\nDelayed treatment\\nEarly, optimal \\ntreatmentClinical disability\\nStart of ‘silent’ progressionTreatment \\nstart\\nat \\ndiagnosisTreatment\\nswitch if\\ncontinuous \\nactivityTreating earlier, while functional reserve remains, can delay neurological progression –\\nrepresenting the ‘window of opportunity’ for optimising treatment benefit\\nWindow of \\nopportunity 1Window of \\nopportunity 2\\nEarly treatmentEarly treatment\\noptimisation', metadata={'source': 'C:\\\\Users\\\\patel\\\\Desktop\\\\Final_Ms_chatbot\\\\chatbot\\\\4_extra_ms_new_ppt_content.pdf', 'page': 64}),\n",
       " Document(page_content='14\\nEarlier treatment of CIS results in a sustained reduction in the risk of \\nconversion to clinically definite MS vs later DMT use\\nCIS, clinically isolated syndrome; CDMS, clinically definite MS; DMT, disease -modifying therapy; IFN, \\ninterferon.\\nKappos L , et al. Neurology 2016;87:978 –87.Delayed treatment with IFN (received IFN after 2 years of placebo, or following conversion to CDMS)\\nEarly treatment with IFN (received IFN at the start of the study)\\nEarly treatment1.0\\n0.9\\n0.8\\n0.7\\n0.6\\n0.5\\n0.4\\n0.3\\n0.2\\n0.1\\n0.0Probability of conversion from CIS to CDMS over the 11 -year follow -up period of the BENEFIT study\\nBaseline 1 2 3 4 5 6 7 8 9 10 11 12\\n291 223 194 165 151 129 100 88 69 58 57 48 0\\n176 117 86 73 66 56 49 47 37 32 31 24 0 Delayed treatment\\nProportion of patients with CDMS∆2.7 \\nyears\\nHR (95% CI) 0.670 (0.526, 0.854), p=0.0012\\nYear ', metadata={'source': 'C:\\\\Users\\\\patel\\\\Desktop\\\\Final_Ms_chatbot\\\\chatbot\\\\4_extra_ms_new_ppt_content.pdf', 'page': 65}),\n",
       " Document(page_content='15\\nDMT, disease -modifying therapy; GA, glatiramer acetate; IFN, interferon beta; RMS, relapsing MS; SPMS, secondary progressive \\nMS.\\nBrown JWL, e t al. JAMA 2019;321:175 –87.0.\\n8\\n0.\\n6\\n0.\\n4\\n0.\\n2\\n0Proportion converted to SPMS\\nTime from matching, years0 2 3 6 7 17\\n318\\n120No. with follow -up data:\\n> 5 years   \\n≤ 5 years11 5 4 1\\n38\\n12038\\n12038\\n11936\\n11531\\n10223\\n7715\\n6011\\n44HR (95% CI): 0.77 (0.61 –0.98), p=0.03 After 5 years\\nBefore 5 years\\nCumulative risk of conversion from RMS to SPMS among patients treated \\nwith GA or IFN β initiated early (≤5 years of onset) vs later (after 5 years)\\n12 13 14 15 16 8 9 10\\nGlatiramer acetate of interferon betaEarlier treatment reduces the risk of RRMS converting to SPMS compared \\nwith later DMT use', metadata={'source': 'C:\\\\Users\\\\patel\\\\Desktop\\\\Final_Ms_chatbot\\\\chatbot\\\\4_extra_ms_new_ppt_content.pdf', 'page': 66}),\n",
       " Document(page_content='16\\nEarlier treatment after MS diagnosis reduces the risk of disability \\nprogression vs later treatment (I)\\n•Single -centre study (n=639) in newly diagnosed patients with MS\\n•The risk of reaching irreversible EDSS 4.0 increased by 7.4% (95% CI 4.8, 10.1%) for each year of \\ntreatment delay\\nEDSS, Expanded Disability Status Scale.\\nKavaliunas A, et al. Mult Scler 2017;23:1233 –40.0.60.70.80.91.0Progression -free survival\\n0 50 100 150 200\\nFollow -up time (months) <1 year\\n1-3 years\\n>3 yearsTime from diagnosis to treatment \\ninitiation:\\nMedian follow -up:\\n99 months (8.25 \\nyears)', metadata={'source': 'C:\\\\Users\\\\patel\\\\Desktop\\\\Final_Ms_chatbot\\\\chatbot\\\\4_extra_ms_new_ppt_content.pdf', 'page': 67}),\n",
       " Document(page_content='17\\n•Danish MS Treatment Register data \\n–n=2,316 treated <2 years and n=1,479 \\ntreated 2 –8 years after clinical onset\\n•The risk of reaching EDSS 6.0 was \\nincreased by 42% with late vs early \\ntreatment\\n–HR 1.42, 95% CI 1.18 –1.70 (p<0.001)\\n•The risk of death during follow -up was \\nalso increased \\n–HR 1.38, 95% CI 0.96 -1.99 (p=0.08)\\nEDSS, Expanded Disability Status Scale.\\nChalmer TA, et al. Eur J Neurol 2018;25:1262 -1270, e110.1.\\n0\\n0.\\n8\\n0.\\n6\\n0.\\n4\\n0.\\n2\\n0Probability of not reaching \\nan EDSS score of 6\\nFollow -up time, years0 2.5 7.5 12.5 17.5 20.0 5.0 10.0 15.0\\n1480\\n2316Later treated\\nEarly treated1322\\n20761056\\n1634621\\n1044339\\n630172\\n3520\\n083\\n13621\\n28Late treated \\n(2–8 years after clinical \\nonset)Early treated \\n(<2 years after clinical onset)Earlier treatment after MS diagnosis reduces the risk of disability \\nprogression vs later treatment (II)\\nMedian follow -up: 7 years ', metadata={'source': 'C:\\\\Users\\\\patel\\\\Desktop\\\\Final_Ms_chatbot\\\\chatbot\\\\4_extra_ms_new_ppt_content.pdf', 'page': 68}),\n",
       " Document(page_content='18\\nSUMMARY\\nDMT, disease -modifying therapy.Disease activity may occur before clinical symptoms of MS become apparent\\n 1\\nEarly treatment with effective DMTs can result in slower disease progression and can \\nimprove long -term clinical outcomes\\n 2\\nEvidence from many clinical trials highlights the benefits of early DMT use relative to \\ndelayed treatment\\n 3', metadata={'source': 'C:\\\\Users\\\\patel\\\\Desktop\\\\Final_Ms_chatbot\\\\chatbot\\\\4_extra_ms_new_ppt_content.pdf', 'page': 69}),\n",
       " Document(page_content='19\\nThank You', metadata={'source': 'C:\\\\Users\\\\patel\\\\Desktop\\\\Final_Ms_chatbot\\\\chatbot\\\\4_extra_ms_new_ppt_content.pdf', 'page': 70}),\n",
       " Document(page_content='20\\nDisclaimers :\\n•®= Registered Trade Mark F. Hoffmann -La Roche Limited, Basel, \\nSwitzerland.\\n•For use of a Registered Medical Practitioner or a Hospital or a Laboratory \\nonly.\\n•Full prescribing information available on request.\\n•For scientific information on Roche Medicinal Product please write to \\nindia.medinfo@roche.com.\\n•For all Adverse Events/Special Situation Reports with Roche Medicinal \\nProduct please report the same to india.drugsafety@roche.com within one \\nbusiness day/24 hours.\\n•This input is not valid after 06/09/2024 or any update.Marketed in India by:\\nRoche Products (India) Pvt. Ltd.\\n146-B, 166 A, Unit No. 7, 8, 9 8th Floor, R City \\nOffice, R City Mall, Lal Bahadur Shastri Marg, \\nGhatkopar,\\nMumbai -400 086, Maharashtra | Out of Office \\n(24 X 7): +91 -98201 63752 Email: \\nindia.drugsafety@roche.com\\nTel No. +91 22 50457300 Fax No. +91 22 \\n50457301Doing now what patients need next\\nKindly use the QR code / click on the link \\nfor the latest Prescribing Information (PI)\\nhttps://bit.ly/Roche_Ocrevus_PI', metadata={'source': 'C:\\\\Users\\\\patel\\\\Desktop\\\\Final_Ms_chatbot\\\\chatbot\\\\4_extra_ms_new_ppt_content.pdf', 'page': 71}),\n",
       " Document(page_content='Multiple Sclerosis: \\nEpidemiology \\nDisease Burden & \\nUnmet Needs\\nM-IN-00004275', metadata={'source': 'C:\\\\Users\\\\patel\\\\Desktop\\\\Final_Ms_chatbot\\\\chatbot\\\\4_extra_ms_new_ppt_content.pdf', 'page': 72}),\n",
       " Document(page_content='Disclaimers\\nThe Content in this presentation is intended for healthcare professionals in India only. \\nThe medical information in this presentation is provided as an information resource \\nonly and is not to be used or relied on for any diagnostic or treatment purposes\\nRoche India does not promote or support the use of medications manufactured by it \\nin off label indications. For specific information regarding various therapeutic agents, \\nincluding Roche products, please refer to the approved full prescribing information', metadata={'source': 'C:\\\\Users\\\\patel\\\\Desktop\\\\Final_Ms_chatbot\\\\chatbot\\\\4_extra_ms_new_ppt_content.pdf', 'page': 73}),\n",
       " Document(page_content='History & Evolution of Treatments for \\nMultiple Sclerosis', metadata={'source': 'C:\\\\Users\\\\patel\\\\Desktop\\\\Final_Ms_chatbot\\\\chatbot\\\\4_extra_ms_new_ppt_content.pdf', 'page': 74}),\n",
       " Document(page_content='', metadata={'source': 'C:\\\\Users\\\\patel\\\\Desktop\\\\Final_Ms_chatbot\\\\chatbot\\\\4_extra_ms_new_ppt_content.pdf', 'page': 75}),\n",
       " Document(page_content='Current Understanding: MS is characterised by both acute and chronic \\ndisease activity, manifesting as relapses and long -term disability \\nprogression\\n1. Conway D, Cohen JA. Lancet Neurol 2010 ;9:299 –308; 2. Compston A, Coles A. Lancet 2002 ;359:1221 –31; 3. Miller DH, et al. Mult Scler 2008 ;14:1157 –74; \\n4. Río J, et al. Nat Rev Neurol 2009 ;5:553 –60; 5. Confavreux C, et al. N Engl J Med 2000 ;343:1430 ‒8; 6. Leray E, et al. Brain 2010 ;133:1900 –13; \\n7. Coles AJ, et al. Ann Neurol 1999 ;46:296 –304; 8. Coles AJ, et al. J Neurol 2006 ;253:98 –108; 9. Narayanan S, et al. J Neurol 2001 ;248:979 –86. MS is the most common \\nnon-traumatic cause of \\nneurological disability in \\nyoung adults1,2Acute and chronic disease \\nactivity is common in the \\nabsence of clinical \\nsymptoms3,4Once a threshold of irreversible disability \\nhas been reached, it may be too late for \\npatients to benefit from treatment2,5–8\\nTreating earlier may reverse some \\naspects of early dysfunction2,9', metadata={'source': 'C:\\\\Users\\\\patel\\\\Desktop\\\\Final_Ms_chatbot\\\\chatbot\\\\4_extra_ms_new_ppt_content.pdf', 'page': 76}),\n",
       " Document(page_content='Evolution of Disease Modifying Therapies in Multiple Sclerosis\\n1993   1996   2000   2005   2009   2011   2012   2013   2014   2015   2016   2017   2019   2020   2021   2022 Interferon 1b\\n(Betaseron) DMF\\n(Tecfidera)Glatiramer\\n(Copaxone)\\nInterferon 1a\\n(Avonex)\\nInterferon 1a\\n(Rebif)Interferon 1b\\n(Extavia)Natalizumab \\n(Tysabri)Fingolimod\\n(Gilenya)\\nTeriflunamide\\n(Aubagio)\\nAlemtuzumab\\n(Lemtrada)Siponimod\\n(Mayzent)Ocrelizumab\\n(Ocrevus)Cladribine\\n(Mavenclad)\\nDaclizumab\\n(Zymbrita)\\nInterferon 1a\\n(Plegrity)Ozanimod\\n(Zeposia)\\nOfatumab\\n(Kesimpta)Ponesimod\\n(Ponvory)Ublitixumab\\n(Briumvi)', metadata={'source': 'C:\\\\Users\\\\patel\\\\Desktop\\\\Final_Ms_chatbot\\\\chatbot\\\\4_extra_ms_new_ppt_content.pdf', 'page': 77}),\n",
       " Document(page_content='Overview of driving factors in MS treatment decisions\\nPatient -specific factors\\nDisease activity \\nand prognosisNon-response \\nto treatmentAcceptance \\nof/aversion to \\nriskIndividual risk \\nprofile (e.g. JCV \\nserostatus)Pregnancy\\nand family \\nplanningPreference for \\nroute / lifestyleAdherence / \\ntreatment \\nengagement\\nTreatment -specific factors\\nEfficacy \\nprofileApproved  \\nlabelSafety and \\ntolerability \\nburdenImmune cell effects \\n/reversibilityRoute and \\ndose burdenMonitoring \\nrequirementsEconomic and \\nresource \\nburden\\nComi G, et al. Lancet 2017 ;389:1347 –56.', metadata={'source': 'C:\\\\Users\\\\patel\\\\Desktop\\\\Final_Ms_chatbot\\\\chatbot\\\\4_extra_ms_new_ppt_content.pdf', 'page': 78}),\n",
       " Document(page_content='Approaches to management of MS\\nESCALATION APPROACH INDUCTION APPROACH\\nStarts with lower -risk, lower -efficacy DMTs and only \\nmoves onto more aggressive treatments if the \\nongoing approach failsA treatment based on the early use of high -efficacy \\nDMTs with a sustained, long -term biological effect\\nEscalation therapy is based on concerns over the \\ncomplex safety profile of higher -efficacy DMTs\\n•This approach reserves high -efficacy DMTs for \\npatients at greatest risk of accumulating \\ndisability\\n•These individuals are typically those who show \\nhigher levels of clinical or radiological MS \\nactivityInduction therapy is based on the underlying \\npathophysiology of MS\\n•Chronic inflammation of the CNS continue to \\nactivate immune cells, which trigger further \\ndamage to the neural tissues –“slowly eroding \\nlesions”\\n•Induction therapy targets initial inflammatory \\nphases to help to reduce subsequent chronic \\naccumulation of damage\\n•This aims to reduce the level of irreversible \\ndisability accrued by patients with MS\\n1. Ruggieri S, et al. Mult Scler Demyelinating Disord 2018 ;3:5; 2. Harding K, et al. JAMA Neurol 2019 ;76:536 –41. 3. Sethi V, et al. Mult Scler 2017 ;23:464 –72.\\nFigure adapted from Giovannoni G. Curr Opin Neurol 2018 ;31:233 –43.', metadata={'source': 'C:\\\\Users\\\\patel\\\\Desktop\\\\Final_Ms_chatbot\\\\chatbot\\\\4_extra_ms_new_ppt_content.pdf', 'page': 79}),\n",
       " Document(page_content='Growing evidence supporting induction approach\\nTime to First Relapse by Treatment \\nStrategy CohortTime to Confirmed Disability Progression \\nby Treatment Strategy Cohort\\nSpelman T et al. JAMA Neurol Published online August 16, 2021 .', metadata={'source': 'C:\\\\Users\\\\patel\\\\Desktop\\\\Final_Ms_chatbot\\\\chatbot\\\\4_extra_ms_new_ppt_content.pdf', 'page': 80}),\n",
       " Document(page_content='Epidemiology of Multiple Sclerosis', metadata={'source': 'C:\\\\Users\\\\patel\\\\Desktop\\\\Final_Ms_chatbot\\\\chatbot\\\\4_extra_ms_new_ppt_content.pdf', 'page': 81}),\n",
       " Document(page_content='The highest incidence of MS is observed in countries farthest from the \\nequator1\\nEstimated Median \\nworld -wide prevalence\\n33 / Lakh population\\nSource: https://www.atlasofms.org/map/india/epidemiology/number -of-people -with-ms', metadata={'source': 'C:\\\\Users\\\\patel\\\\Desktop\\\\Final_Ms_chatbot\\\\chatbot\\\\4_extra_ms_new_ppt_content.pdf', 'page': 82}),\n",
       " Document(page_content='Multiple Sclerosis in India\\nSource: https://www.atlasofms.org/map/india/epidemiology/number -of-people -with-ms', metadata={'source': 'C:\\\\Users\\\\patel\\\\Desktop\\\\Final_Ms_chatbot\\\\chatbot\\\\4_extra_ms_new_ppt_content.pdf', 'page': 83}),\n",
       " Document(page_content='Interplay of multiple factors is thought to give rise to the abnormal \\nimmunological response seen in MS\\nTreg, regulatory T cells.\\n1. Handel AE, et al. PLoS One 2011 ;6:e16149 ; 2. Simpson S, et al. J Neurol Neurosurg Psychiatry . 2011 ;82:1132 –41; 3. Gianfrancesco MA, et al. J Neurol Neuromedicine . 2016 ;1:1–5; \\n4. Munger KL, et al. JAMA 2006 ;296:2832 –38; 5. Harbo HF, et al. Ther Adv Neurol Disord . 2013 ;6:237 –48; 6. Xia Z, et al. Ann Neurol . 2016 ;79:178 –89; \\n7. Wallin MT, et al. Ann Neurol . 2004 ;55:65 –71; 8. Reich D, et al. Nat Genet . 2005 ;37:1113 –8; 9. International Multiple Sclerosis Genetics Consortium. Cell. 2018 ;175:1679 –87 e7; \\n10. Hauser SL, et al. N Engl J Med . 2017 ;376:221 –34; 11. Mars LT, et al. Biochim Biophys Acta . 2011 ;1812:151 –61; 12. Haas J, et al. EU J Immunol . 2005 ;35:3343 –52;\\n13. Sospedra M, et al. Semin Neurol . 2016 ;36:115 –27; 14. Guan Y, et al. Neural Regen Res . 2019 ;14:373 –86; 15. Handel AE, et al. PLoS One . 2010 ;5:e12496 ; \\n16. Leibovitch EC, et al. Curr Opin Virol . 2014 ;9:127 –33; 17. Ascherio A, Munger KL. Ann Neurol 2007 ;61:288 –99.Environmental1–4\\nSmoking\\nObesity\\nTemperate latitude\\nLow vitamin D\\nImmunological10–13\\nB cells\\nTregcells\\nCD8+T cells\\nNatural killer cellsGenetic5–9\\nFemale sex \\nEthnicity\\nFamily history\\nRisk-associated genes\\nInfectious14–17\\nEpstein -Barr virus\\nFertile field hypothesis\\nHuman herpes virus 6\\nHygiene hypothesis', metadata={'source': 'C:\\\\Users\\\\patel\\\\Desktop\\\\Final_Ms_chatbot\\\\chatbot\\\\4_extra_ms_new_ppt_content.pdf', 'page': 84}),\n",
       " Document(page_content='RRMS is more common in women, whereas PPMS equally common in \\nwomen and men \\nPPMS, primary progressive MS; RRMS, relapsing -remitting MS.\\nMultiple Sclerosis International Federation. Atlas of MS 2013 . https://www.msif.org/wp -content/uploads/ 2014 /09/Atlas -of-MS.pdf Accessed January 2020 ;\\n2. MS society. Types of MS. https://www.nationalmssociety.org/What -is-MS/Types -of-MS/Relapsing -remitting -MS Accessed January 2020 .Overall, MS is approximately 2-to 3-fold more common in women than in men \\nand RRMS is more commonly diagnosed than PPMS1,2Diagnosed with RRMS Diagnosed with PPMSGender distribution and relative incidence of RRMS and PPMS among 100 patients with \\nMS\\nDiagnosed with RRMS Diagnosed with PPMS', metadata={'source': 'C:\\\\Users\\\\patel\\\\Desktop\\\\Final_Ms_chatbot\\\\chatbot\\\\4_extra_ms_new_ppt_content.pdf', 'page': 85}),\n",
       " Document(page_content='Overall, MS adversely impacts patients, their families, and society\\nNote: MS exacerbations can range from days to months6\\n1. Kaufman DW, et al. Mult Scler Relat Disord 2014 ;3:364 –71; 2. Zwibel HL, Smrtka J. Am J Manag Care 2011 ;17:S139–45; 3. Aronson KJ. Neurology 1997 ;48:74 –80; \\n4. Kobelt G, et al. J Neurol Neurosurg Psychiatry 2006 ;77:918 –26; \\n5. Gitto L ( 2017 ). Living with Multiple Sclerosis in Europe: Pharmacological Treatments, Cost of Illness, and Health -Related Quality of Life Acr oss Countries in Zagon IS, McLaughlin \\nPJ (Eds). Multiple Sclerosis: Perspectives in Treatment and Pathogenesis [Internet] (pp 17-38). Codon Publications. \\n6. National Multiple Sclerosis Society. http://www.nationalmssociety.org/Treating -MS/Managing -Relapses . Accessed January 2020 .Physical1,2\\n•Fatigue, impaired mobility, \\nsexual dysfunction, bladder \\nand bowel problems, and \\ncognitive changes\\n•Shortened median lifespan \\n(≈6 years)Emotional2,3\\n•Strained personal and social \\nrelationships\\n•Reduced quality of life for \\npatients and caregivers\\n•Feelings of isolation\\n•DepressionEconomic4\\n•Loss of productivity at work or \\nunemployment\\n•Direct medical care and \\nhospital costs5\\n•High prescription drug costs \\nand indirect costs', metadata={'source': 'C:\\\\Users\\\\patel\\\\Desktop\\\\Final_Ms_chatbot\\\\chatbot\\\\4_extra_ms_new_ppt_content.pdf', 'page': 86}),\n",
       " Document(page_content='Physical impact: Disease progression in MS leads to an accumulation \\nof disability\\n•The Expanded Disability Status Scale (EDSS) is considered the \\nstandard , objective neurological -outcome measure of MS disease \\nstatus and progression and in commonly used in clinical trials1,2\\n•Ordinal clinical rating scale ranging from 0 (normal neurologic \\nexamination) to 10 (death due to MS) in half -point increments1,2\\n010\\n2.04.05.57.09.0\\n1.01.52.53.5\\n3.04.5500\\n6.06.57.58.08.59.5200\\n5.0\\nScore:Normal neurological \\nexaminationMinimal \\ndisabilityIncreased limitation \\nin walking ability*Need for \\nambulatory aidRestricted to \\nwheelchairBedbound\\nDeath\\n*Able to walk without rest or aid for 500m or 200m\\nEDSS, Expanded Disability Status Scale .\\n1. Kurtzke JF . Neurology 1983;33:1444 –52; 2. Orme M, et al. Value Health 2007;10:54 –60.', metadata={'source': 'C:\\\\Users\\\\patel\\\\Desktop\\\\Final_Ms_chatbot\\\\chatbot\\\\4_extra_ms_new_ppt_content.pdf', 'page': 87}),\n",
       " Document(page_content='QoL impact: MS adversely affects patient/caregiver relationships\\nCaregivers of patients with MS suffer from1: \\n•High levels of distress\\n•Reduced QoL\\nCaregiver distress is mainly associated with1: \\n•Psychiatric symptoms and cognitive \\nimpairment of patient\\n•Physical impairment of patient\\n*2538 patients with definite or probable MS, identified through the nationwide Danish MS -Registry; 943 (37%) were men and 1595 (63%) were women; \\nmean age at onset = 35.3 y (95% CI, 34.9–35.7); mean time to diagnosis 4.2 y (4.0–4.3).\\nQoL, quality of life.\\nFigure adapted with permission from Pfleger CCH, et al. Multiple Scler 2010 ;16:878 –82 copyright © 2010 by SAGE Publications\\n1. Figved N, et al. J Neurol Neurosurg Psychiatry 2007 ;78:1097 –102; 2. Pfleger CCH, et al. Multiple Scler 2010 ;16:878 –82.0.00.20.40.60.81.0\\n0 5 10 15 20 25Probability\\nTime to event or end of observation (years)PatientsPopulation controlsCrude probability of remaining in a relationship after onset of MS \\n(life table method)After 24 years of living with MS, ≈33% of patients with MS \\nremained in the same domestic partnership vs 53% in \\ncomparable controls*2\\nFor patients with MS, high levels of distress and reduction \\nof QoL could be a reason for the increased rate of divorce \\nand separation observed in patients/caregivers coping with \\nMS', metadata={'source': 'C:\\\\Users\\\\patel\\\\Desktop\\\\Final_Ms_chatbot\\\\chatbot\\\\4_extra_ms_new_ppt_content.pdf', 'page': 88}),\n",
       " Document(page_content='QoL and economic impact: Disability accumulation and increase in EDSS \\nleads to loss of quality of life and increased costs\\nEDSS, Expanded Disability Status Scale; EQ -5D, EuroQol five dimensions questionnaire\\nKobelt G, et al. Mult Scler 2017 ;23:1123 –36.People with MS report a rapid decline in quality of life, even in the early stages of the diseaseQuality of life, n= 15,429 Cost of disability, n= 16,808European MS burden of disease study:Mean utility score (EQ -5D)1.0\\n0.8\\n0.6\\n0.4\\n0.2\\n0.0\\n–0.2\\n–0.40 1 2 3 4 5 66.5 7 8 9\\nEDSS\\nMean total annual cost\\nper patient ( 2015 € PPP)\\n0\\n0 1 2 3 4 5 66.5 7 8 9\\nEDSS30,00060,00090,000', metadata={'source': 'C:\\\\Users\\\\patel\\\\Desktop\\\\Final_Ms_chatbot\\\\chatbot\\\\4_extra_ms_new_ppt_content.pdf', 'page': 89}),\n",
       " Document(page_content='Unmet Needs', metadata={'source': 'C:\\\\Users\\\\patel\\\\Desktop\\\\Final_Ms_chatbot\\\\chatbot\\\\4_extra_ms_new_ppt_content.pdf', 'page': 90}),\n",
       " Document(page_content='Available therapies do not holistically address the treatment \\ngoals\\nUp to one -half of patients who receive \\ndisease -modifying therapy for MS do \\nnot experience any improvement in \\nmobility\\nOther problems that occur as the \\ndisease progresses include dysphagia \\nand defects in speech and vision \\ncontributing to worsening scores on \\nthe EDSS\\nCurrently available medications have \\nonly slight to moderate effects in \\naverting the progression of disability\\nIFN: interferon, IM: intramuscular, SC: subcutaneous\\nBandari DS, Sternaman D, Chan T, et al. J Manag Care Pharm . 2012 ;18:S1-S17', metadata={'source': 'C:\\\\Users\\\\patel\\\\Desktop\\\\Final_Ms_chatbot\\\\chatbot\\\\4_extra_ms_new_ppt_content.pdf', 'page': 91}),\n",
       " Document(page_content='Huge gap & costs in addressing the QoL\\nNearly four -fifths of adults \\nwith MS were no longer \\nemployed as early as 5 \\nyears post -diagnosis, most \\ncommonly the result of \\ndisability. \\nBased on the typical age \\nrange at diagnosis, it is \\nexpected that patients will \\nlive with the disease for 30 \\nor 40 years.\\nBandari DS, Sternaman D, Chan T, et al. J Manag Care Pharm . 2012;18:S1 -S17CIS: clinically isolated syndrome; EDSS: Expanded Disability Status Scale; MRI: magnetic resonance imaging; RRMS: relapsing -remi tting multiple sclerosis; \\nSPMS: secondary progressive multiple sclerosis.', metadata={'source': 'C:\\\\Users\\\\patel\\\\Desktop\\\\Final_Ms_chatbot\\\\chatbot\\\\4_extra_ms_new_ppt_content.pdf', 'page': 92}),\n",
       " Document(page_content='Perception of unmet needs is subjective\\nDespite the attention afforded to MS in recent years, many unmet needs remain in terms of \\ntherapeutics, disability avoidance, and outcome measures\\nThe perception of unmet needs is also a very subjective in nature\\n•An Italian community based study concluded that 27% of the study population cited psychological \\nsupport as their greatest unmet need . It is cited as a huge unmet need by clinicians, researchers, \\nand caregivers however it is not being addressed comprehensively by biopharmaceutical \\nmanufacturers\\n•An Irish study suggested that physiotherapy as a greatest unmet need likely due to prevailing \\nmuscle stiffness and spasms in the advanced disease\\n•Although the current medications are effective in reducing the frequency of disease relapse, they are \\nalso associated with significant adverse effects and adherence challenges', metadata={'source': 'C:\\\\Users\\\\patel\\\\Desktop\\\\Final_Ms_chatbot\\\\chatbot\\\\4_extra_ms_new_ppt_content.pdf', 'page': 93}),\n",
       " Document(page_content='Conclusion\\nFinding a cure is the greatest priority in MS, the unmet needs are varied and \\ninclude:\\n•Further delaying progression and developing better treatments for progressive MS\\n•Providing neuroprotection\\n•Delaying or avoiding disability\\n•Reducing active symptoms more effectively\\n•Identifying useful tools and biomarkers\\n•Predicting who would benefit from specific treatments (ie, creating the means for \\nindividualizing treatment)\\n•Obtaining better measures of functional outcome\\n•Preventing or ameliorating the adverse effects of current medications\\n•Improving adherence to current medications.', metadata={'source': 'C:\\\\Users\\\\patel\\\\Desktop\\\\Final_Ms_chatbot\\\\chatbot\\\\4_extra_ms_new_ppt_content.pdf', 'page': 94}),\n",
       " Document(page_content='Thank You', metadata={'source': 'C:\\\\Users\\\\patel\\\\Desktop\\\\Final_Ms_chatbot\\\\chatbot\\\\4_extra_ms_new_ppt_content.pdf', 'page': 95}),\n",
       " Document(page_content='Disclaimers :\\n•®= Registered Trade Mark F. Hoffmann -La Roche Limited, Basel, \\nSwitzerland.\\n•For use of a Registered Medical Practitioner or a Hospital or a Laboratory \\nonly.\\n•Full prescribing information available on request.\\n•For scientific information on Roche Medicinal Product please write to \\nindia.medinfo@roche.com.\\n•For all Adverse Events/Special Situation Reports with Roche Medicinal \\nProduct please report the same to india.drugsafety@roche.com within one \\nbusiness day/ 24 hours.\\n•This input is not valid after 20/03/2025 or any update.Marketed in India by:\\nRoche Products (India) Pvt. Ltd.\\n146-B, 166 A, Unit No. 7, 8, 9 8th Floor, R City \\nOffice, R City Mall, Lal Bahadur Shastri Marg, \\nGhatkopar,\\nMumbai -400 086 , Maharashtra | Out of Office \\n(24 X 7): +91-98201 63752 Email: \\nindia.drugsafety@roche.com\\nTel No. + 91 22 50457300 Fax No. + 91 22 \\n50457301Doing now what patients need next\\nKindly use the QR code / click on the link \\nfor the latest Prescribing Information (PI)\\nhttps://bit.ly/Roche_Ocrevus_PI', metadata={'source': 'C:\\\\Users\\\\patel\\\\Desktop\\\\Final_Ms_chatbot\\\\chatbot\\\\4_extra_ms_new_ppt_content.pdf', 'page': 96})]"
      ]
     },
     "execution_count": 8,
     "metadata": {},
     "output_type": "execute_result"
    }
   ],
   "source": [
    "pages"
   ]
  },
  {
   "cell_type": "code",
   "execution_count": 9,
   "metadata": {},
   "outputs": [
    {
     "data": {
      "text/plain": [
       "97"
      ]
     },
     "execution_count": 9,
     "metadata": {},
     "output_type": "execute_result"
    }
   ],
   "source": [
    "len(pages)"
   ]
  },
  {
   "cell_type": "code",
   "execution_count": 10,
   "metadata": {},
   "outputs": [],
   "source": [
    "from langchain.text_splitter import RecursiveCharacterTextSplitter\n",
    "text_splitter_rec = RecursiveCharacterTextSplitter(\n",
    "    chunk_size = 1000,\n",
    "    chunk_overlap  = 0,\n",
    "    length_function = len,\n",
    "    is_separator_regex=False\n",
    ")\n",
    "rec_texts = text_splitter_rec.split_documents(pages)\n",
    "rec_vectorstore = FAISS.from_documents(documents=rec_texts, embedding=embeddings.OllamaEmbeddings(model='nomic-embed-text'))\n",
    "rec_vectorstore.save_local(\"4_new_ppt_new_rec\")\n",
    "\n",
    "text_splitter = CharacterTextSplitter.from_tiktoken_encoder(chunk_size=1000, chunk_overlap=100)\n",
    "\n",
    "doc_splits = text_splitter.split_documents(pages)\n",
    "char_vectorstore = FAISS.from_documents(documents=doc_splits, embedding=embeddings.OllamaEmbeddings(model='nomic-embed-text'))\n",
    "char_vectorstore.save_local(\"4_new_ppt_new_char\")"
   ]
  },
  {
   "cell_type": "code",
   "execution_count": 3,
   "metadata": {},
   "outputs": [],
   "source": [
    "embedding = embeddings.OllamaEmbeddings(model='nomic-embed-text')\n",
    "\n",
    "db1 = FAISS.load_local(\"ppt_new_rec\", embeddings=embedding,allow_dangerous_deserialization=True)\n",
    "db2 = FAISS.load_local(\"4_new_ppt_new_rec\", embeddings=embedding,allow_dangerous_deserialization=True)\n",
    "db1.merge_from(db2)\n",
    "db1.save_local(\"new_multiple_sclerosis_faiss\")\n"
   ]
  },
  {
   "cell_type": "code",
   "execution_count": 5,
   "metadata": {},
   "outputs": [],
   "source": [
    "embedding = embeddings.OllamaEmbeddings(model='nomic-embed-text')\n",
    "\n",
    "# db=FAISS.load_local(\"ppt_new_rec\", embeddings=embedding,allow_dangerous_deserialization=True)\n",
    "# db=FAISS.load_local(\"new_multiple_sclerosis_faiss\", embeddings=embedding,allow_dangerous_deserialization=True)\n",
    "db=FAISS.load_local(\"mahin_ppt_rec\", embeddings=embedding,allow_dangerous_deserialization=True)"
   ]
  },
  {
   "cell_type": "code",
   "execution_count": 10,
   "metadata": {},
   "outputs": [
    {
     "name": "stdout",
     "output_type": "stream",
     "text": [
      "6\n",
      "MS is a heterogeneous disease, conventionally defined in the clinical \n",
      "setting as either relapsing or progressive phenotypes\n",
      "SPMSDisabilityCIS\n",
      "TimePPMSProgressive forms of MS1,3\n",
      "RRMS\n",
      "Time Time TimeRelapsing forms of MS (RMS)1,2Based on the natural history of the disease, MS is typically described as having one of four phenotypes:\n",
      "MS phenotypes are further subcategorised by disease activity (clinically or by MRI)\n",
      "and are deemed to be either ‘active’ or ‘non -active’\n",
      "CIS, clinically isolated syndrome; PPMS, primary progressive MS; RRMS, relapsing remitting MS; SPMS, secondary progressive MS .\n",
      "1. Lublin FD, et al. Neurology 2014;83:278 –86; \n",
      "2. National Multiple Sclerosis Society. Relapse -remitting MS (RRMS). http://www.nationalmssociety.org/What -is-MS/Types -of-MS/Relapsing -remitting -MS. Accessed January \n",
      "2020; \n",
      "3. National Multiple Sclerosis Society. Primary progressive MS (PPMS). http://www.nationalmssociety.org/What -is-MS/Types -of-MS/Primary -progressive -MS. Accessed January\n"
     ]
    }
   ],
   "source": [
    "query = \"Recently I was diagnosed with Relapsing-onset MS and the indicated MS phenotype is Highly active. List the name of the drugs which can be used to treat my condition\"\n",
    "docs = db.similarity_search(query)\n",
    "print(docs[0].page_content)"
   ]
  },
  {
   "cell_type": "code",
   "execution_count": 4,
   "metadata": {},
   "outputs": [
    {
     "name": "stdout",
     "output_type": "stream",
     "text": [
      "22\n",
      "Where do DMTs in MS fit in the current treatment paradigm?\n",
      "•Alemtuzumab*\n",
      "•Cladribine\n",
      "•Fingolimod\n",
      "•Natalizumab†\n",
      "•Ocrelizumab\n",
      "•Ofatumumab3Indicated MS phenotype Approved DMTs1stattack \n",
      "suggestive \n",
      "of MS\n",
      "•Glatiramer acetate\n",
      "•Interferon β\n",
      "•Ponesimod1,2CIS\n",
      "Inactive\n",
      "No clinical \n",
      "attacks and \n",
      "stable MRIActive\n",
      "1 relapse in the \n",
      "previous year and/or \n",
      "new T2 or Gd+ \n",
      "lesions on MRIHighly -active\n",
      "With DMT: 1 relapse and new \n",
      "Gd+ lesion(s) and/or significant \n",
      "increase in T2 lesions\n",
      "No DMT: ≥2 relapses in the \n",
      "previous year and MRI\n",
      "Active \n",
      "monitoring \n",
      "(clinical \n",
      "and MRI)•Dimethyl fumarate\n",
      "•Fingolimod\n",
      "•Glatiramer acetate\n",
      "•Interferon β\n",
      "•Ocrelizumab\n",
      "•Teriflunomide\n",
      "•Ozanimod\n",
      "•Ofatumumab3\n",
      "•Ponesimod1,2Relapsing -onset MS\n",
      "SPMS\n",
      "Progressive increase in \n",
      "disability independent of \n",
      "relapses following an \n",
      "initial relapsing coursePPMS\n",
      "Progressive increase in \n",
      "disability independent of \n",
      "relapses from onset\n",
      "•Siponimod\n",
      "(Active SPMS)\n",
      "•Ponesimod1,2\n",
      "(Active SPMS)\n",
      "•Ocrelizumab\n",
      "•Ofatumumab3Ocrelizumab\n"
     ]
    }
   ],
   "source": [
    "query = \"Recently I was diagnosed with Relapsing-onset MS and the indicated MS phenotype is Highly active. List the name of the drugs which can be used to treat my condition\"\n",
    "docs = db.similarity_search(query)\n",
    "print(docs[0].page_content)"
   ]
  },
  {
   "cell_type": "code",
   "execution_count": 6,
   "metadata": {},
   "outputs": [],
   "source": [
    "retriever = db.as_retriever(search_kwargs={'k':5})"
   ]
  },
  {
   "cell_type": "code",
   "execution_count": 7,
   "metadata": {},
   "outputs": [],
   "source": [
    "# after_rag_template = \"\"\"\n",
    "# Answer the following question only based on the provided context.\n",
    "#                     Think step by step before providing a detailed answer.Provide only the answer and don't be expressive.Please don't start your answer with 'based on the provided context'.Please don't start your answer with 'According to the text'.\n",
    "#                     understand the whole given context and then provide the appropriate answer for the question\n",
    "#                     <context>{context}</context>\n",
    "#                     Question:{question}\n",
    "# \"\"\"\n",
    "after_rag_template = \"\"\"\n",
    "Please respond to the question using the context provided. Take a moment to understand the context    fully before crafting a detailed response. Your answer should be direct and concise without any expressive language. Avoid starting your response with phrases like 'based on the provided context' or 'According to the text' or 'The context does not directly answer your question'. If the question is not relevant to the context, simply respond with 'I am a Chatbot designed to assist you with inquiries about Multiple Sclerosis. Feel free to ask any questions related to this topic'.Don't provide any references in your answer even though it is provided in the given context.  \n",
    "        <context>{context}</context>\n",
    "        Question:{question}\n",
    "\"\"\""
   ]
  },
  {
   "cell_type": "code",
   "execution_count": 9,
   "metadata": {},
   "outputs": [],
   "source": [
    "model = ChatOllama(model=\"mistral\",temperature=0)\n",
    "set_llm_cache(InMemoryCache)\n"
   ]
  },
  {
   "cell_type": "code",
   "execution_count": 10,
   "metadata": {},
   "outputs": [],
   "source": [
    "after_rag_prompt = ChatPromptTemplate.from_template(after_rag_template)\n",
    "after_rag_chain = (\n",
    "        {\"context\": retriever, \"question\": RunnablePassthrough()}\n",
    "        | after_rag_prompt\n",
    "        | model\n",
    "        | StrOutputParser()\n",
    "    )"
   ]
  },
  {
   "cell_type": "code",
   "execution_count": 11,
   "metadata": {},
   "outputs": [
    {
     "name": "stdout",
     "output_type": "stream",
     "text": [
      " The patient-driven factors that HCPs should consider before starting MS treatment include disease activity and prognosis, non-response to treatment, acceptance or aversion to risk, individual risk profile (e.g. JCV serostatus), pregnancy and family planning, preference for route / lifestyle, adherence / treatment engagement."
     ]
    }
   ],
   "source": [
    "async for chunk in after_rag_chain.astream(\"What are the Patient driven factors that HCPs should consider before starting the treatment for MS\"):\n",
    "    print(chunk, end=\"\", flush=True)"
   ]
  },
  {
   "cell_type": "code",
   "execution_count": 12,
   "metadata": {},
   "outputs": [
    {
     "name": "stdout",
     "output_type": "stream",
     "text": [
      " The patient-driven factors that HCPs should consider before starting MS treatment include disease activity and prognosis, non-response to treatment, acceptance or aversion to risk, individual risk profile (e.g. JCV serostatus), pregnancy and family planning, preference for route / lifestyle, adherence / treatment engagement."
     ]
    }
   ],
   "source": [
    "async for chunk in after_rag_chain.astream(\"What are the Patient driven factors that HCPs should consider before starting the treatment for MS\"):\n",
    "    print(chunk, end=\"\", flush=True)"
   ]
  },
  {
   "cell_type": "code",
   "execution_count": 15,
   "metadata": {},
   "outputs": [
    {
     "name": "stdout",
     "output_type": "stream",
     "text": [
      " The patient-driven factors that HCPs should consider before starting MS treatment include disease activity and prognosis, non-response to treatment, acceptance or aversion to risk, individual risk profile (e.g. JCV serostatus), pregnancy and family planning, preference for route / lifestyle, adherence / treatment engagement."
     ]
    }
   ],
   "source": [
    "async for chunk in after_rag_chain.astream(\"What are the Patient driven factors that HCPs should consider before starting the treatment for MS\"):\n",
    "    print(chunk, end=\"\", flush=True)"
   ]
  },
  {
   "cell_type": "code",
   "execution_count": 9,
   "metadata": {},
   "outputs": [
    {
     "name": "stdout",
     "output_type": "stream",
     "text": [
      " Patient-driven factors that HCPs should consider before starting MS treatment include disease activity and prognosis, non-response to treatment, acceptance of/aversion to risk, individual risk profile (e."
     ]
    }
   ],
   "source": [
    "async for chunk in after_rag_chain.astream(\"What are the Patient driven factors that HCPs should consider before starting the treatment for MS\"):\n",
    "    print(chunk, end=\"\", flush=True)"
   ]
  },
  {
   "cell_type": "code",
   "execution_count": 9,
   "metadata": {},
   "outputs": [
    {
     "name": "stdout",
     "output_type": "stream",
     "text": [
      " Patient-driven factors that HCPs should consider before starting MS treatment include disease activity and prognosis, non-response to treatment, acceptance of/aversion to risk, individual risk profile (e.g. JCV serostatus), pregnancy and family planning, preference for route / lifestyle, adherence / treatment engagement."
     ]
    }
   ],
   "source": [
    "async for chunk in after_rag_chain.astream(\"What are the Patient driven factors that HCPs should consider before starting the treatment for MS\"):\n",
    "    print(chunk, end=\"\", flush=True)"
   ]
  },
  {
   "cell_type": "code",
   "execution_count": null,
   "metadata": {},
   "outputs": [],
   "source": [
    "async for chunk in after_rag_chain.astream(\"Recently I was diagnosed with Relapsing-onset MS and the indicated MS phenotype is Highly active. List the name of the drugs which can be used to treat my condition\"):\n",
    "    print(chunk, end=\"\", flush=True)"
   ]
  },
  {
   "cell_type": "code",
   "execution_count": 10,
   "metadata": {},
   "outputs": [
    {
     "name": "stdout",
     "output_type": "stream",
     "text": [
      " Based on the information provided in the documents, the following disease-modifying therapies (DMTs) are indicated for treating highly active Relapsing-onset MS:\n",
      "\n",
      "1. Alemtuzumab\n",
      "2. Cladribine\n",
      "3. Fingolimod\n",
      "4. Natalizumab (†)\n",
      "5. Ocrelizumab\n",
      "6. Ofatumumab\n",
      "7. Siponimod (Active SPMS)\n",
      "8. Ponesimod (Active SPMS)\n",
      "\n",
      "(†) Note that Natalizumab is also indicated for treating relapsing-remitting MS, but it's important to consult your healthcare provider for the most accurate information regarding your specific case."
     ]
    }
   ],
   "source": [
    "async for chunk in after_rag_chain.astream(\"Recently I was diagnosed with Relapsing-onset MS and the indicated MS phenotype is Highly active. List the name of the drugs which can be used to treat my condition\"):\n",
    "    print(chunk, end=\"\", flush=True)"
   ]
  },
  {
   "cell_type": "code",
   "execution_count": 11,
   "metadata": {},
   "outputs": [
    {
     "name": "stdout",
     "output_type": "stream",
     "text": [
      " Based on the provided context, RRMS has a higher incidence in females (3:1 ratio, female to male)."
     ]
    }
   ],
   "source": [
    "async for chunk in after_rag_chain.astream(\"RRMS is equally common in women and men right?\"):\n",
    "    print(chunk, end=\"\", flush=True)"
   ]
  },
  {
   "cell_type": "code",
   "execution_count": 12,
   "metadata": {},
   "outputs": [
    {
     "name": "stdout",
     "output_type": "stream",
     "text": [
      " The abnormal immunological response in MS is given rise by a subset of autoreactive B cells that bypass immune tolerance mechanisms and mature into pathogenic effectors within the central nervous system (CNS). These B cells contribute to MS pathogenesis through various mechanisms, including antigen presentation, antibody production, cytokine regulation, and formation of lymphoid structures."
     ]
    }
   ],
   "source": [
    "async for chunk in after_rag_chain.astream(\"What gives rise to the abnormal immunological response seen in MS?\"):\n",
    "    print(chunk, end=\"\", flush=True)"
   ]
  },
  {
   "cell_type": "code",
   "execution_count": 13,
   "metadata": {},
   "outputs": [
    {
     "name": "stdout",
     "output_type": "stream",
     "text": [
      " The driving factors in MS treatment decisions include patient-specific factors such as disease activity and prognosis, non-response to treatment, acceptance or aversion to risk, individual risk profile (e.g. JCV serostatus), pregnancy and family planning, preference for route / lifestyle, adherence / treatment engagement; and treatment-specific factors such as efficacy profile, approved label, safety and tolerability burden, immune cell effects / reversibility, route and dose burden, monitoring requirements, and economic and resource burden. (from the context of the provided documents)"
     ]
    }
   ],
   "source": [
    "async for chunk in after_rag_chain.astream(\"driving factors in MS treatment protocol\"):\n",
    "    print(chunk, end=\"\", flush=True)"
   ]
  },
  {
   "cell_type": "code",
   "execution_count": 14,
   "metadata": {},
   "outputs": [
    {
     "name": "stdout",
     "output_type": "stream",
     "text": [
      " Primary Progressive Multiple Sclerosis (PPMS) is a type of multiple sclerosis (MS) characterized by a steady worsening of the disease from its onset, without distinct relapses or remissions. The treatment options for PPMS include:\n",
      "\n",
      "1. Disease-modifying therapies (DMTs): These medications are designed to reduce the frequency and severity of MS relapses and slow down the progression of the disease. However, their effectiveness in PPMS is less clear compared to relapsing-remitting MS. Some DMTs that have been studied in PPMS include:\n",
      "   * Dimethyl fumarate (Tecfidera)\n",
      "   * Fingolimod (Gilenya)\n",
      "   * Teriflunomide (Aubagio)\n",
      "   * Natalizumab (Tysabri)\n",
      "   * Mitoxantrone (Novantrone)\n",
      "   * Rituximab\n",
      "2. Ocrelizumab: This is a monoclonal antibody that has been approved for the treatment of PPMS based on its efficacy in slowing down disease progression as shown in clinical trials such as ORATORIO.\n",
      "3. Symptomatic treatments: These medications are used to manage specific symptoms of MS, such as pain, fatigue, bladder dysfunction, and mobility issues. Examples include corticosteroids for inflammation, muscle relaxants for spasticity, and antidepressants for pain and fatigue.\n",
      "4. Rehabilitation: Physical therapy, occupational therapy, and speech therapy can help improve function and manage symptoms in PPMS patients.\n",
      "5. Lifestyle modifications: Regular exercise, a healthy diet, stress management techniques, and adequate sleep can help improve overall health and well-being in PPMS patients."
     ]
    }
   ],
   "source": [
    "async for chunk in after_rag_chain.astream(\"what is ppms and treatment options available\"):\n",
    "    print(chunk, end=\"\", flush=True)"
   ]
  },
  {
   "cell_type": "code",
   "execution_count": 16,
   "metadata": {},
   "outputs": [
    {
     "name": "stdout",
     "output_type": "stream",
     "text": [
      " The approaches in management of Multiple Sclerosis (MS) are escalation approach and induction approach.\n",
      "\n",
      "The escalation approach starts with lower-risk, lower-efficacy Disease-Modifying Therapies (DMTs) and moves onto more aggressive treatments if the ongoing approach fails. This approach is based on concerns over the complex safety profile of higher-efficacy DMTs and reserves high-efficacy DMTs for patients at greatest risk of accumulating disability.\n",
      "\n",
      "The induction approach, on the other hand, is based on the underlying pathophysiology of MS and targets initial inflammatory phases to help reduce subsequent chronic accumulation of damage. This aims to reduce the level of irreversible damage in MS patients."
     ]
    }
   ],
   "source": [
    "async for chunk in after_rag_chain.astream(\"what are the approches in management of MS\"):\n",
    "    print(chunk, end=\"\", flush=True)"
   ]
  },
  {
   "cell_type": "code",
   "execution_count": 15,
   "metadata": {},
   "outputs": [
    {
     "name": "stdout",
     "output_type": "stream",
     "text": [
      " The context does not provide specific information on the approaches in the management of Multiple Sclerosis (MS). However, it mentions that initial and sustained treatment with high-efficacy therapies is important to optimize patient function for both relapsing and primary progressive MS. Clinical assessments, paraclinical assessments including MRI scans, blood tests, medical history, neurological exams, evoked potentials, cerebrospinal fluid analysis, and optical coherence tomography are used in the diagnosis of MS. Treatment options include interferon β-1a and ocrelizumab for relapsing MS, and possibly other therapies for primary progressive MS. The context also mentions ongoing clinical trials for MS treatments."
     ]
    }
   ],
   "source": [
    "async for chunk in after_rag_chain.astream(\"what are the approches in management of MS\"):\n",
    "    print(chunk, end=\"\", flush=True)"
   ]
  },
  {
   "cell_type": "code",
   "execution_count": null,
   "metadata": {},
   "outputs": [],
   "source": []
  }
 ],
 "metadata": {
  "kernelspec": {
   "display_name": "multimodel",
   "language": "python",
   "name": "python3"
  },
  "language_info": {
   "codemirror_mode": {
    "name": "ipython",
    "version": 3
   },
   "file_extension": ".py",
   "mimetype": "text/x-python",
   "name": "python",
   "nbconvert_exporter": "python",
   "pygments_lexer": "ipython3",
   "version": "3.11.5"
  }
 },
 "nbformat": 4,
 "nbformat_minor": 2
}
