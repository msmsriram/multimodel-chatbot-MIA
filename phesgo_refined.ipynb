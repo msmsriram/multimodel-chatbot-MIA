{
 "cells": [
  {
   "cell_type": "code",
   "execution_count": 1,
   "metadata": {},
   "outputs": [],
   "source": [
    "import os\n",
    "import uuid\n",
    "import base64\n",
    "from IPython import display\n",
    "from unstructured.partition.pdf import partition_pdf\n",
    "# from langchain.chat_models import ChatOpenAI\n",
    "from langchain_community.chat_models import ChatOllama\n",
    "from langchain_community import embeddings\n",
    "\n",
    "# from langchain.embeddings import OpenAIEmbeddings\n",
    "from langchain.chains import LLMChain\n",
    "from langchain.prompts import PromptTemplate\n",
    "from langchain.schema.messages import HumanMessage, SystemMessage\n",
    "from langchain.schema.document import Document\n",
    "from langchain.vectorstores import FAISS\n",
    "from langchain.retrievers.multi_vector import MultiVectorRetriever"
   ]
  },
  {
   "cell_type": "code",
   "execution_count": 2,
   "metadata": {},
   "outputs": [],
   "source": [
    "output_path = \"./phesgo_refined\""
   ]
  },
  {
   "cell_type": "code",
   "execution_count": 3,
   "metadata": {},
   "outputs": [
    {
     "name": "stderr",
     "output_type": "stream",
     "text": [
      "This function will be deprecated in a future release and `unstructured` will simply use the DEFAULT_MODEL from `unstructured_inference.model.base` to set default model name\n",
      "Some weights of the model checkpoint at microsoft/table-transformer-structure-recognition were not used when initializing TableTransformerForObjectDetection: ['model.backbone.conv_encoder.model.layer2.0.downsample.1.num_batches_tracked', 'model.backbone.conv_encoder.model.layer3.0.downsample.1.num_batches_tracked', 'model.backbone.conv_encoder.model.layer4.0.downsample.1.num_batches_tracked']\n",
      "- This IS expected if you are initializing TableTransformerForObjectDetection from the checkpoint of a model trained on another task or with another architecture (e.g. initializing a BertForSequenceClassification model from a BertForPreTraining model).\n",
      "- This IS NOT expected if you are initializing TableTransformerForObjectDetection from the checkpoint of a model that you expect to be exactly identical (initializing a BertForSequenceClassification model from a BertForSequenceClassification model).\n"
     ]
    }
   ],
   "source": [
    "raw_pdf_elements = partition_pdf(\n",
    "    filename=r\"C:\\Users\\Barani\\Desktop\\chatbot\\phesgorefined_scraped.pdf\",\n",
    "    extract_images_in_pdf=True,\n",
    "    infer_table_structure=True,\n",
    "    chunking_strategy=\"by_title\",\n",
    "    max_characters=4000,\n",
    "    new_after_n_chars=3800,\n",
    "    combine_text_under_n_chars=2000,\n",
    "    extract_image_block_output_dir=output_path,\n",
    ")"
   ]
  },
  {
   "cell_type": "code",
   "execution_count": 4,
   "metadata": {},
   "outputs": [
    {
     "name": "stderr",
     "output_type": "stream",
     "text": [
      "c:\\Users\\Barani\\Desktop\\chatbot\\multimodel\\Lib\\site-packages\\langchain_core\\_api\\deprecation.py:117: LangChainDeprecationWarning: The function `run` was deprecated in LangChain 0.1.0 and will be removed in 0.2.0. Use invoke instead.\n",
      "  warn_deprecated(\n"
     ]
    }
   ],
   "source": [
    "text_elements = []\n",
    "table_elements = []\n",
    "\n",
    "text_summaries = []\n",
    "table_summaries = []\n",
    "\n",
    "summary_prompt = \"\"\"\n",
    "Summarize the following {element_type}:\n",
    "{element}\n",
    "\"\"\"\n",
    "summary_chain = LLMChain(\n",
    "    llm=ChatOllama(model=\"mistral\",temperature=0 ),\n",
    "    prompt=PromptTemplate.from_template(summary_prompt)\n",
    ")\n",
    "\n",
    "for e in raw_pdf_elements:\n",
    "    if 'CompositeElement' in repr(e):\n",
    "        text_elements.append(e.text)\n",
    "        summary = summary_chain.run({'element_type': 'text', 'element': e})\n",
    "        text_summaries.append(summary)\n",
    "\n",
    "    elif 'Table' in repr(e):\n",
    "        table_elements.append(e.text)\n",
    "        summary = summary_chain.run({'element_type': 'table', 'element': e})\n",
    "        table_summaries.append(summary)"
   ]
  },
  {
   "cell_type": "code",
   "execution_count": 5,
   "metadata": {},
   "outputs": [
    {
     "data": {
      "text/plain": [
       "48"
      ]
     },
     "execution_count": 5,
     "metadata": {},
     "output_type": "execute_result"
    }
   ],
   "source": [
    "len(text_elements)"
   ]
  },
  {
   "cell_type": "code",
   "execution_count": 11,
   "metadata": {},
   "outputs": [
    {
     "data": {
      "text/plain": [
       "'US Healthcare Professionals Site   Search  PHESGO Patient Support Program    Prescribing Information  Safety  Home  About HER2+ Breast Cancer   About PHESGO   Side Eects   Patient Stories   Patient Resources   Financial Support   PHESGO combines the same HER2+ breast cancer treatments as IV PERJETA® (pertuzumab) and Herceptin® (trastuzumab) into a single injection  “PHESGO gave me more time back on treatment days.”  PHESGO is given in ~5 minutes,* while PERJETA + Herceptin are given in about 60-150 minutes.  *The rst dose is given in ~8 minutes. This does not account for observation time and other aspects of treatment. Actual clinic time may vary.  Jen, real PHESGO patient  PHESGO could make part of your treatment faster  Studies have compared PHESGO to an IV option  Financial support is available for PHESGO  It provides PERJETA + Herceptin in a single injection under the skin given in minutes.  Learn how PHESGO compares, and why it was preferred by more people.  Most major insurance plans provide coverage for PHESGO* and there may be options available to help you afford your medicine.  WHAT IS PHESGO?  SEE PHESGO TRIAL RESULTS  GET FINANCIAL SUPPORT  *Data current as of 07/2023. Individual out-of-pocket cost will vary depending on carrier plan.  Jen’s real PHESGO story  Hear what Jen has to say about her experience with HER2+ breast cancer.  WATCH VIDEO  Important Safety Information & Uses  What are the most serious side eects of PHESGO?  What is PHESGO?  PHESGO may cause heart problems, including those without symptoms (such as reduced heart function) and those  with symptoms (such as congestive heart failure).  • The risk for and seriousness of these heart problems are highest in people who received both PHESGO and a certain  PHESGO is a prescription medicine  approved for use in combination  with chemotherapy for:  type of chemotherapy (anthracycline)  • use prior to surgery  • Your doctor will check for signs of heart problems before, during, and after treatment with PHESGO. Based on test  (neoadjuvant treatment) in  results, your doctor may hold or discontinue treatment with PHESGO  adults with HER2+, locally  • Contact a healthcare professional immediately for any of the following: new onset or worsening shortness of breath,  advanced, inammatory, or early  cough, swelling of the ankles/legs, swelling of the face, palpitations, weight gain of more than 5 pounds in 24 hours,  stage breast cancer (tumor is  dizziness or loss of consciousness  greater than 2 cm in diameter or \\n\\nPHESGO combines the same HER2+ breast cancer treatments as IV PERJETA® (pertuzumab) and Herceptin® (trastuzumab) into a single injection  “PHESGO gave me more time back on treatment days.”  PHESGO is given in ~5 minutes,* while PERJETA + Herceptin are given in about 60-150 minutes.  *The rst dose is given in ~8 minutes. This does not account for observation time and other aspects of treatment. Actual clinic time may vary.  Jen, real PHESGO patient \\n\\n• use prior to surgery (neoadjuvant treatment) in adults with HER2+, locally advanced, inammatory, or early stage breast cancer (tumor is greater than 2 cm in diameter or node-positive). PHESGO should be used as part of a complete treatment regimen for early breast cancer.\\n\\nReceiving PHESGO during pregnancy can result in the death of an unborn baby and birth defects.\\n\\nBirth control should be used while receiving PHESGO and for 7 months after your last dose of PHESGO. If you are a\\n\\nmother who is breastfeeding, you should talk with your doctor about either stopping breastfeeding or stopping\\n\\n• use after surgery (adjuvant treatment) in adults with HER2+ early breast cancer that has a high likelihood of coming back.'"
      ]
     },
     "execution_count": 11,
     "metadata": {},
     "output_type": "execute_result"
    }
   ],
   "source": [
    "text_elements[0]"
   ]
  },
  {
   "cell_type": "code",
   "execution_count": 9,
   "metadata": {},
   "outputs": [
    {
     "data": {
      "text/plain": [
       "48"
      ]
     },
     "execution_count": 9,
     "metadata": {},
     "output_type": "execute_result"
    }
   ],
   "source": [
    "len(text_summaries)"
   ]
  },
  {
   "cell_type": "code",
   "execution_count": 10,
   "metadata": {},
   "outputs": [
    {
     "data": {
      "text/plain": [
       "' PHESGO is a prescription medication approved for use in combination with chemotherapy for the treatment of HER2+ breast cancer. It combines PERJETA® (pertuzumab) and Herceptin® (trastuzumab) into a single injection, which is given in about 5 minutes compared to the 60-150 minutes required for IV administration. PHESGO may cause heart problems, including those without symptoms and those with symptoms. The most serious side effects include shortness of breath, cough, swelling of ankles/legs, face swelling, palpitations, weight gain, dizziness, or loss of consciousness. PHESGO is used for neoadjuvant, adjuvant, and metastatic treatment in adults with HER2+ breast cancer. It should not be used during pregnancy as it can result in the death of an unborn baby and birth defects. Birth control should be used while receiving PHESGO and for 7 months after the last dose. Most major insurance plans provide coverage for PHESGO, and financial support is available.'"
      ]
     },
     "execution_count": 10,
     "metadata": {},
     "output_type": "execute_result"
    }
   ],
   "source": [
    "text_summaries[0]"
   ]
  },
  {
   "cell_type": "code",
   "execution_count": 12,
   "metadata": {},
   "outputs": [
    {
     "data": {
      "text/plain": [
       "19"
      ]
     },
     "execution_count": 12,
     "metadata": {},
     "output_type": "execute_result"
    }
   ],
   "source": [
    "len(table_elements)"
   ]
  },
  {
   "cell_type": "code",
   "execution_count": 13,
   "metadata": {},
   "outputs": [
    {
     "data": {
      "text/plain": [
       "'Important Safety Information & Uses What are the most serious side eects of PHESGO? PHESGO may cause heart problems, including those without symptoms (such as reduced heart function) and those with symptoms (such as congestive heart failure). • The risk for and seriousness of these heart problems are highest in people who received both PHESGO and a certain type of chemotherapy (anthracycline) • Your doctor will check for signs of heart problems before, during, and after treatment with PHESGO. Based on test results, your doctor may hold or discontinue treatment with PHESGO • Contact a healthcare professional immediately for any of the following: new onset or worsening shortness of breath, cough, swelling of the ankles/legs, swelling of the face, palpitations, weight gain of more than 5 pounds in 24 hours, dizziness or loss of consciousness Receiving PHESGO during pregnancy can result in the death of an unborn baby and birth defects. • Birth control should be used while receiving PHESGO and for 7 months after your last dose of PHESGO. If you are a mother who is breastfeeding, you should talk with your doctor about either stopping breastfeeding or stopping PHESGO • If you think you may be pregnant, you should contact your healthcare provider immediately • If you are exposed to PHESGO during pregnancy, or become pregnant while receiving PHESGO or within 7 months following the last dose of PHESGO, you are encouraged to report PHESGO exposure to Genentech at 1-888-835- 2555 PHESGO may cause serious lung problems. • Your doctor may check for signs of lung problems including: • Severe shortness of breath • Fluid in or around the lungs • Weakening of the valve between the heart and the lungs • Not enough oxygen in the body • Swelling of the lungs • Scarring of the lungs Who should not receive PHESGO? • PHESGO should not be used in patients who are allergic to pertuzumab, trastuzumab, hyaluronidase, or to any of the ingredients in PHESGO What are other possible serious side eects? • PHESGO may worsen low white blood cell counts caused by chemotherapy: Low white blood cell counts can be life threatening and were seen more often in patients receiving Herceptin® (trastuzumab) plus chemotherapy than in patients receiving chemotherapy alone. Your doctor may check for signs of low white blood cell counts when he or she examines you • PHESGO may cause administration-related reactions: PHESGO is given as an injection. The active ingredients in PHESGO have been associated with severe administration reactions, including hypersensitivity or anaphylaxis, which can be fatal. Talk to your doctor if you feel any symptoms. The most common symptoms include dizziness, nausea, chills, fever, vomiting, diarrhea, hives, swelling of the skin, breathing problems, or chest pain What are the most common side eects? The most common side effects of PHESGO when given with chemotherapy as part of an early breast cancer regimen are: • Hair Loss • Nausea • Diarrhea • Low levels of red blood cells • Weakness The most common side effects of PHESGO when given with docetaxel for treatment of breast cancer that has spread to other parts of the body (metastatic) are: • Diarrhea • Hair loss • Low levels of white blood cells with or without fever • Nausea • Feeling tired • Rash • Damage to the nerves (numbness, tingling, pain in hands/feet) What should I know about side eects with PHESGO? • Not all people have serious side effects; however, side effects with PHESGO therapy are common. It is important to know what side effects may happen and what symptoms you should watch for • Your doctor may stop treatment if serious side effects happen. Be sure to contact your healthcare team right away if you have questions or are worried about any side effects You are encouraged to report side effects to Genentech and the FDA. You may report side effects to the FDA at 1-800-FDA-1088 or www.fda.gov/medwatch . You may also report side effects to Genentech at 1-888-835-2555. Talk to a'"
      ]
     },
     "execution_count": 13,
     "metadata": {},
     "output_type": "execute_result"
    }
   ],
   "source": [
    "table_elements[0]"
   ]
  },
  {
   "cell_type": "code",
   "execution_count": 15,
   "metadata": {},
   "outputs": [
    {
     "data": {
      "text/plain": [
       "' The table provides important safety information and uses for PHESGO, a medication used in the treatment of breast cancer. The most serious side effects of PHESGO include heart problems, which can be symptomatic or asymptomatic, and are more common in patients who receive PHESGO and anthracycline chemotherapy. Heart problems may result in shortness of breath, cough, swelling, palpitations, weight gain, dizziness, or loss of consciousness. PHESGO can also cause lung problems, which may lead to severe shortness of breath, fluid in or around the lungs, weakening of the heart-lung valve, not enough oxygen in the body, swelling of the lungs, and scarring.\\n\\nPHESGO should not be used by individuals who are allergic to pertuzumab, trastuzumab, hyaluronidase, or any of the ingredients in PHESGO. Other possible serious side effects include worsening low white blood cell counts caused by chemotherapy and severe administration reactions, including hypersensitivity or anaphylaxis.\\n\\nThe most common side effects of PHESGO when given with chemotherapy as part of an early breast cancer regimen are hair loss, nausea, diarrhea, low levels of red blood cells, and weakness. The most common side effects of PHESGO when given with docetaxel for treatment of metastatic breast cancer are diarrhea, hair loss, low levels of white blood cells with or without fever, nausea, feeling tired, rash, and damage to the nerves (numbness, tingling, pain in hands/feet).\\n\\nIt is important to report any side effects to Genentech and the FDA. Not all individuals will experience serious side effects, but it is essential to be aware of potential symptoms and contact healthcare professionals if concerned.'"
      ]
     },
     "execution_count": 15,
     "metadata": {},
     "output_type": "execute_result"
    }
   ],
   "source": [
    "table_summaries[0]"
   ]
  },
  {
   "cell_type": "code",
   "execution_count": 16,
   "metadata": {},
   "outputs": [],
   "source": [
    "image_elements = []\n",
    "\n",
    "def encode_image(image_path):\n",
    "    with open(image_path, \"rb\") as f:\n",
    "        return base64.b64encode(f.read()).decode('utf-8')\n",
    "for i in os.listdir(output_path):\n",
    "    if i.endswith(('.png', '.jpg', '.jpeg')):\n",
    "        image_path = os.path.join(output_path, i)\n",
    "        encoded_image = encode_image(image_path)\n",
    "        image_elements.append(encoded_image)\n"
   ]
  },
  {
   "cell_type": "code",
   "execution_count": 18,
   "metadata": {},
   "outputs": [
    {
     "name": "stderr",
     "output_type": "stream",
     "text": [
      "Processing images: 100%|██████████| 28/28 [17:44<00:00, 38.03s/it]"
     ]
    },
    {
     "name": "stdout",
     "output_type": "stream",
     "text": [
      "[' The image appears to be a screenshot of a website from a company named \"Physego.\" At the top right corner, there\\'s a logo that reads \"Physego\" with a stylized letter \\'S\\'. Below this, there is a navigation bar with links like \"Home\", \"About Us\", \"Treatment Days\", and \"Contact Us\".\\n\\nThe main section of the website displays a photograph of a person sitting outdoors. The individual has short hair and seems to be wearing casual clothing.\\n\\nBelow the photograph, there is a banner with text that reads: \"Physego gives me more time on treatment days.\" This suggests an advertisement or promotional material highlighting the benefits of using Physego.\\n\\nFurther down, there are several call-to-action buttons in various colors such as blue, green, and orange, each with text that appears to be button labels like \"Support\", \"Read More\", \"Find Us\", \"Watch Video\", and \"Book Now\". These buttons likely lead to different sections or services offered by Physego.\\n\\nThe bottom of the screenshot shows a footer section with additional navigation links including \"Physego\", \"Support\", \"FAQs\", \"Terms & Conditions\", \"Privacy Policy\", and \"Careers\". At the bottom, there is a copyright notice that says \"© 2021 Physego. All Rights Reserved.\"\\n\\nThe overall style of the image is consistent with a professional web design, with clean lines and a structured layout typical of corporate websites. The colors used are primarily blue, green, and orange, which contribute to a vibrant and friendly appearance. ', ' This is an image featuring a logo and text. The logo consists of the word \"HESGO\" in lowercase letters, with the letters appearing to be stylized or possibly connected in some way, which could suggest motion or connectivity. To the right of the logo is a vertical line segment followed by the number \"619,\" which might indicate a product code or reference number within the context of HESGO.\\n\\nBeneath the logo and number, there is additional text that appears to be in Latin. The text reads \"Substitutio injections,\" which translates from Latin as \"Substitution in injections.\" This phrase could imply that the company named HESGO specializes in or provides solutions related to substitutes for injectable products.\\n\\nThe style of the image is clean and modern, with a clear emphasis on branding. The use of a neutral background helps to make the logo and text stand out. The color scheme includes shades of gray and beige, which contributes to the professional and corporate feel of the image. ', ' The image is a composite of two different photographs, separated by a vertical line down the middle. On the left side of the image, there\\'s a photograph showing an indoor space with various objects and pieces of furniture that are partially visible due to the angle and perspective of the photo. The space appears to be a room with a darker background, which could suggest an evening or nighttime setting.\\n\\nOn the right side of the image, there\\'s a screenshot from a computer screen displaying a webpage. The webpage shows a search results page for a product called \"Hair Dryer.\" There are two items listed with their respective images and titles: \"KAWAI Hair Dryer\" at the top and \"Morocco Dryer 2000 Watt Professional Dryer\" below it. Both items appear to be electrical appliances intended for drying hair, as indicated by the text \"Hair Dryer.\" The webpage has a clean design with a white background and simple navigation elements visible at the bottom, which include links to different categories or sections of the website.\\n\\nThe image seems to have been intentionally created to juxtapose two unrelated subjects—one being a typical interior space and the other being an online product search result—in one frame for artistic or illustrative purposes. The division between the two photographs by the line could be interpreted as a metaphorical boundary, suggesting the blending of physical and virtual spaces. ', ' The image displays a computer screen with a video player open. The video appears to be paused and is showing an interface for controlling media playback, which includes options such as \"Play,\" \"Pause,\" and other controls typically found on a video player.\\n\\nOn the right side of the screen, there\\'s a window that seems to contain some form of error or message related to the video player. The text in the window indicates an issue with the video playback, stating:\\n\\n\"This video is currently unavailable. Error code 403: Forbidden. You do not have permission to access this page.\"\\n\\nBelow the error message, there\\'s a link provided, reading \"Click here to return to the media page.\" This suggests that the user can click on the link to go back to the page where they presumably encountered the error.\\n\\nAt the bottom of the screen, there is a browser tab or window titled \"Life,\" which seems to be open in another browser instance, as indicated by the URL and tabs at the top. The URL suggests that it might be related to a blog post or article about life.\\n\\nThe overall appearance of the image suggests it\\'s a screenshot taken from a computer system running an operating system with a desktop environment where a web browser is active. ', ' The image displays a computer screen with an error message, which reads: \"ERROR - Media SRC not supported. Technical details can be found in the media source URL at: blahblahblah.com\". This indicates that the system encountered an issue where the media source (SRC) was not supported, and further technical information is available at the provided URL.\\n\\nThe computer screen shows a typical browser interface with various tabs and extensions visible, suggesting that multiple applications or websites are open in different windows of the browser. The browser\\'s user interface elements such as the search bar, back button, and bookmarks menu are also displayed, indicating that this is a common web browsing environment.\\n\\nThe error message itself is a pop-up window with a red background, which is a standard color for signaling an error or warning in a graphical user interface. The text within the window is white, providing high contrast against the darker background to draw attention to the issue at hand.\\n\\nThe image also contains several watermarks or logos that appear superimposed on it. On the left side of the screen, there\\'s a watermark that seems to be an image of a person\\'s face, which is a common way to mark ownership or copyright of an image. The right side of the image has additional text and what appears to be a timestamp, which might indicate when the image was taken or created.\\n\\nThe overall impression is that someone captured this error message while browsing the internet, possibly to share the issue with others who may encounter it or for documentation purposes. ', ' The image is a screenshot of a computer screen displaying an error message. At the center of the screen, there\\'s an error message in a dialog box that says \"ERROR - media not supported\". This suggests that an attempt to play or view a video was unsuccessful because the file format is not supported by the software or device being used.\\n\\nThe screenshot shows a user interface with various elements typical of a computer operating system. There\\'s a browser tab open at the top, indicating that this error occurred while using a web browser. The taskbar at the bottom has several icons for different applications, but the focus is clearly on the error dialog box.\\n\\nThe user appears to be attempting to play a video file located in the C:\\\\Users\\\\Media folder, as indicated by the URL \"C:\\\\Users\\\\Media\\\\Videos\\\\Not supported.mp4\" at the bottom of the dialog box. This implies that the video file is stored on a local hard drive under a user\\'s profile within the Media folder, and it is named \"Not supported.mp4\".\\n\\nThe overall message from the screenshot seems to be conveying that the content being accessed (the media file) is not in a format that can be played or viewed by the software currently in use. This could happen if the software lacks the necessary codec for a particular video format, or if the user\\'s system does not meet the hardware requirements needed to play certain types of media files. ', ' The image shows a moment of shared connection between two individuals who are walking down a sidewalk. The person on the left is partially visible, with their back to the camera, and they appear to be in mid-stride. On the right, there\\'s another person facing towards the first individual, creating an intimate scene that suggests a close relationship.\\n\\nThe setting appears to be a residential area, with a clear sky and some greenery visible in the background. There are trees lining the street, indicating it might be spring or summer. The sidewalk is made of concrete, and there\\'s a small amount of vegetation growing along its edge.\\n\\nAt the bottom of the image, there\\'s a timestamp that reads \"1:50\" with a clock icon, suggesting that this moment was captured at 1:50 PM. Above the timestamp, there\\'s an overlay with the words \"LIKE REACT,\" which might indicate that the image is from a video sharing platform where users can engage with content through liking and reacting.\\n\\nThe overall impression of the image is that it captures a casual moment between two individuals, possibly friends or family members, in a suburban environment during daylight hours. ', ' The image appears to be a screenshot from a mobile device displaying a social media post. The post features an outdoor scene with trees and what looks like a residential area in the background, suggesting it might be taken during daylight. Overlaying this scene is text that reads: \"Receiving part of my treatment today.\" The text is superimposed on the image, indicating a caption or description for the photo. The font is sans-serif and the text color matches the natural tones of the environment in the background. ', ' The image appears to be a scientific diagram illustrating the process of creating HER-2 antibodies. It is a step-by-step visual guide, possibly from a scientific paper or presentation.\\n\\n1. At the top, there are two circular structures labeled with the letters \"H\" and \"E,\" suggesting a sequence of steps related to protein structure. These could represent the structure of a viral surface antigen (such as HER-2) that is being targeted by an antibody response.\\n\\n2. Below these circles, there\\'s a horizontal arrangement of three smaller circular structures labeled with numbers \"1,\" \"2,\" and \"3.\" This sequence might represent the stages or steps in the production of the antibodies, where each stage leads to the next.\\n\\n3. A process is depicted in the center, which seems to be a biochemical reaction or transformation. It\\'s indicated by an arrow pointing from step 1 to step 2, suggesting that something is being added or converted between these steps. The same arrow connects step 2 and step 3, implying a continuation of the process.\\n\\n4. On the right side of the diagram, there is a detailed description of the process in text form, providing additional context about what is happening at each stage.\\n\\n5. The image is a screenshot from a digital document, as indicated by the gray border around the entire diagram.\\n\\n6. There are also two sets of numbers on the bottom left and right corners of the diagram, which might represent data points, measurements, or some form of quantitative information related to the antibody production process.\\n\\nThe image is not high resolution, making it difficult to discern specific details about the process or the text within the diagram. However, the overall impression is that it is a technical illustration explaining a method of generating HER-2 antibodies, which could be used in various applications such as cancer immunotherapy or diagnostic testing. ', ' The image appears to be a composite of three different sections. On the left, there\\'s a graphical representation showing what seems to be a process or system with various stages, each represented by a circle connected in sequence. This could represent a flowchart or a diagram of some sort of production or transformation process.\\n\\nIn the center, there is a text that reads \"HER2 Inhibitor.\" The Her2 protein is a well-known target in cancer therapy and is associated with HER2-positive breast cancers. The image suggests a treatment or therapeutic process involving an inhibitor for the Her2 protein, which could be a type of drug therapy used in cancer treatments.\\n\\nOn the right, there\\'s a comparison between two different types of cells, each labeled \"HER2 Inhibitor.\" These are microscopic images that show the cells with and without the presence of the inhibitor. The cells on the right have significantly more Her2 protein visible on their surfaces than those on the left, which indicates that the treatment has successfully reduced or inhibited the production of Her2 protein in these cells.\\n\\nOverall, the image seems to be educational or informational, illustrating how a therapeutic agent can affect cellular processes related to Her2 protein expression. The focus is on explaining and possibly advocating for the use of Her2 inhibitors in medical contexts, particularly in cancer treatment settings. ', ' The image is a detailed medical illustration of the human torso, focusing on the chest area. It\\'s drawn in a realistic style, showcasing the intricate anatomy with precision and detail. \\n\\nThe illustration highlights several key structures: the heart, lungs, esophagus, and trachea. The heart, positioned centrally, serves as the main focus of the image. To the right of the heart, we can see the lungs, which are clearly labeled with \"LEFT LUNG\" and \"RIGHT LUNG.\" \\n\\nThe esophagus, a tube that transports food from the mouth to the stomach, runs horizontally at the bottom of the image. Just above it is the trachea, which is also labeled as such. The lungs are depicted in a detailed manner, emphasizing their complex structure and the air spaces within them. \\n\\nThe background of the image is plain white, providing a stark contrast that makes the illustration stand out. This medical illustration serves as an educational tool to help understand human anatomy. It\\'s a great example of how visuals can be used to convey complex biological information in a simplified yet accurate way. ', ' This image presents a humorous take on the COVID-19 pandemic, specifically the challenges of getting vaccinated. It features three illustrated characters, each representing a different stage or experience associated with receiving a COVID-19 vaccine:\\n\\n1. The first character is holding a syringe and has an expression of discomfort. This represents the initial fear or hesitancy that some people might have towards getting vaccinated.\\n\\n2. The second character is shown as having been injected with the vaccine, indicated by a small cloud of pain emanating from the injection site. This could be interpreted as the physical discomfort often associated with getting a shot.\\n\\n3. The third character is labeled \"PERIODOS\" which is Greek for \"around,\" and it appears to have been injected multiple times in various locations, rather than the typical one-time injection site. This character humorously represents the situation where some people might feel like they\\'ve been \\'shot around,\\' implying that they\\'ve had to get their vaccine at several different sites or appointments.\\n\\nThe image also includes text: \"PERIODOS,\" which is Latin for \"around,\" and \"PREGO + PRENATAL.\" These terms might be referring to a person who has to go through the pre-pregnancy (pre-go) and pregnancy (pre-natal) stages simultaneously, suggesting that even within this context, there are layers of complexity.\\n\\nThe visual metaphor here is that the COVID-19 vaccine process can be a difficult journey for some individuals, with many shots required, which could be physically demanding or overwhelming. The image uses humor to address these challenges and the feelings of those who have had to navigate a complex vaccination schedule. ', ' The image is a composite of two distinct parts, each conveying different information. On the left side, there is an illustration of an hourglass symbolizing the passage of time. Adjacent to this hourglass is a text that reads \"60 minutes\" and below it, another line of text says \"50000 times,\" indicating some sort of repetition or duration over an extended period.\\n\\nOn the right side, there is a graphical representation that features two bars with different lengths. The shorter bar is labeled \"PERJETA,\" which translates to \"FUTURE\" in English, and it measures \"60 seconds.\" Below this bar, another line of text states \"15 minutes.\"\\n\\nAbove the hourglass symbol on the left, there is a text that reads \"THE SAME AS THE FIRST,\" suggesting a comparison or equivalence between what is inside the hourglass and the duration represented by the shorter bar. The word \"PHERJETA\" appears above the longer bar on the right, which might be related to the content of the image but without additional context, its specific meaning remains unclear.\\n\\nThe overall style of the image is informative with a clean design that uses color coding to distinguish between the two parts and the text within them. The use of symbols (the hourglass) and numerical values helps to convey a sense of measurement or duration, possibly in the context of time-based operations or processes. ', ' The image you\\'ve shared appears to be a screenshot of a computer screen displaying a webpage. The webpage is in the midst of loading, as indicated by the \"Loading\" text at the top right corner and the progress bar beneath it.\\n\\nThe central part of the webpage contains some text that seems to be part of an article or blog post. However, due to the image\\'s low resolution and the loading status of the page, it\\'s difficult to read the entire text. From what can be discerned, the text seems to be written in a language that uses the Latin alphabet, possibly English.\\n\\nOn the left side of the screen, there is a vertical navigation menu with various options such as \"Home,\" \"About Us,\" and others, suggesting this might be the main navigation for the website being visited.\\n\\nAt the bottom of the image, you can see some additional text that is partially obscured by the loading progress bar at the top. It seems to be a URL or perhaps a script tag in HTML format. However, due to the resolution and angle of the screenshot, it\\'s hard to make out all the details.\\n\\nOverall, without higher resolution or a different angle, it\\'s not possible to provide a detailed analysis of the content displayed on this webpage. ', ' The image presents a visual comparison between two types of medical treatments. On the left, there is an illustration labeled \"PERJETA,\" which seems to represent a type of medication that is administered intravenously (IV). This treatment appears as a blue liquid flowing into a vein or an IV drip.\\n\\nOn the right, there are two different types of treatments represented by icons and text labels. The top icon shows a yellow pill with a label that reads \"PERJETA\" and is accompanied by the word \"perjeta.\" Below it, there is another icon depicting a green chemical structure or molecule, with a label that says \"HERPEPIN\" in red text.\\n\\nThe bottom part of the image features an explanation about the types of treatments shown. The term \"PERJETA\" is mentioned again, followed by the word \"herpes,\" suggesting a connection between perjeta and herpes treatments. However, the presence of a molecule icon next to \"HERPEPIN\" implies that it might be related to a different medication or treatment for herpes.\\n\\nThe text \"PHESGO\" is also present in the image, possibly referring to another medication or treatment method. The overall context suggests a discussion about different treatments for various conditions, with \"PERJETA\" and \"HERPEPIN\" being specific examples. The text \"PHESGO\" could be an additional treatment option for herpes mentioned.\\n\\nThe image seems to be educational, aimed at explaining the differences or similarities between the treatments depicted. The use of icons helps in visually distinguishing between the types of treatments—one that is administered by IV and another that is likely taken as a pill or via some other oral route. ', \" The image presents a detailed view of a flower, rendered in a style reminiscent of digital art or computer-generated imagery (CGI). The flower is the central focus of the image, with its petals and sepals arranged symmetrically around the stem. The colors are vibrant, with hues that appear to be inspired by nature - greens for the leaves, browns for the stems, and a gradient of colors possibly suggesting various stages of growth or seasonal changes in the flower's appearance.\\n\\nThe background of the image is a simple gray gradient, providing a neutral backdrop that contrasts with the vivid colors of the flower. This contrast helps the viewer to focus on the flower itself.\\n\\nAdding to the artistic quality of the image, there are several blue circles arranged around the bottom of the flower. These circles could be interpreted as abstract elements or design flourishes that add an additional layer of visual interest to the composition. They could also symbolize something in relation to the flower, such as a scientific diagram or conceptual representation of a particular idea or theme related to flowers or nature in general.\\n\\nThe overall effect is one of serene beauty, with the image capturing a single moment in the life cycle of this particular flower. The attention to detail in the petal structure and the careful balance of colors contributes to the aesthetic appeal of the image. \", ' This image features a colorful pie chart that provides a visual representation of statistical data. The pie chart is divided into two sections: one large section occupies approximately 85% of the chart, indicating the percentage in that category is high, and one small section represents the remaining 15%.\\n\\nThe text within the image indicates that this chart is related to some form of political preference or support. Specifically, it shows that 85% of respondents \"Support\" a particular political figure or policy, while 15% \"Do not Support\". This suggests that there is a significant level of support for this individual or initiative.\\n\\nThe design of the pie chart uses color to differentiate between the two categories, with one category being represented by a blue and green gradient and the other by a combination of red, orange, and yellow. The background is neutral, ensuring that the colors used in the chart stand out clearly. ', ' The image displays a graphic with a combination of elements. There is a clock in the upper left corner, set at a time of 12:00 and showing \"3:05\" on its face, indicating a specific moment or duration of time. To the right of the clock, there\\'s a stylized emoji that resembles a thumbs-up sign, which is typically used to express approval or positive sentiment. The overall design uses simple shapes and limited coloration, with the background being gray. This could be an icon for an app, a symbol for a website feature, or perhaps part of a branding element. ', \" The image presents a captivating scene set against the backdrop of an unassuming gray wall. Dominating the center of the frame is a figure, rendered in stark black and white. This figure is not just any person, but rather one with an upper body, giving the impression of a humanoid form.\\n\\nThe most striking feature of this figure is its lower half. It's as if the figure has been cut off from the waist down, leaving only the legs. The legs are adorned with teal knee pads, adding a pop of color to the otherwise monochrome composition.\\n\\nThe wall behind the figure provides a neutral canvas for this scene. On the left side of the image, there's an interesting detail - a green arrow pointing upwards and to the right. Its purpose or meaning is unclear from the image alone.\\n\\nOverall, the image seems to be inviting us to ponder about the story behind it. Who is this figure? What are they doing here? The green arrow adds an element of intrigue, perhaps suggesting a direction or goal for our figure. It's a scene that leaves much to the viewer's imagination. \", \" The image displays a sign with multiple prohibitions. The sign is predominantly white and red, featuring a circle with a diagonal line through it, indicating that certain actions or activities are not permitted in the area. Within this circle, there are three distinct symbols.\\n\\nOn the top left of the circle, there is an icon of a car. To its right, within the central part of the sign, there's a symbol representing a fire extinguisher. Below these, on the bottom right of the circle, there's a symbol of a person smoking a cigarette. Each of these symbols is encircled by a dashed line, suggesting that no use of those items is allowed in this area.\\n\\nThe background of the image is out of focus and gray, making it difficult to discern any specific details about the surrounding environment. The style of the sign suggests it's a digital rendering or a photograph of an informational sign commonly used in public spaces to communicate rules for safety reasons. \", ' The image is a humorous graphic illustrating the time taken for different actions in relation to getting an injection. It\\'s divided into two sections, with each side showing two clock faces and a text box explaining the action associated with that time.\\n\\nOn the left side, the first clock face shows \"8 mins\" with the text \"1st Injection\" indicating that this is how long it takes for the first injection to be given. The second clock face displays \"5 mins\" with the text \"Future Injections,\" suggesting that future injections will take less time compared to the initial one.\\n\\nOn the right side, the first clock face shows \"30 mins\" with the text \"1st Vaccination,\" implying a much longer duration for the first vaccination than the first injection. The second clock face displays \"5 mins\" with the text \"Future Vaccinations,\" indicating that future vaccinations will also take less time compared to the initial one, similar to the future injections.\\n\\nThe graphic uses a simple yet clear visual representation to convey information about the timing of medical procedures. The use of yellow and black colors for the clocks and text respectively adds contrast and emphasizes the key message. ', \" The image portrays a tranquil scene of an individual immersed in the beauty of nature. Here's a detailed description:\\n\\n- **Person**: There is one person present in the image, located on the right side. They are sitting down, facing towards the left side of the image, with their back to us. Their attire consists of a black top and what appears to be camouflage pants, suggesting they might be dressed for outdoor activities.\\n- **Environment**: The person is situated in a serene natural setting. In front of them, there's a calm lake reflecting the sky above. The backdrop features a lush green forest under a clear blue sky, indicating that the photo was taken during daylight hours with favorable weather conditions.\\n- **Mood**: The overall mood of the image is one of relaxation and contemplation, as suggested by the person's posture and the peaceful surroundings.\\n- **Color Palette**: The colors in the image are predominantly natural - greens from the trees and forest, browns that could be wooden elements, blacks for clothing, and whites/greys for the water and sky.\\n- **Positioning**: The person is seated comfortably, with their body turned towards the viewer but facing away. Their position seems relaxed and at ease with the environment around them.\\n- **Objects in the Frame**: In addition to the person and their natural surroundings, there are no other visible objects that can be confidently identified or described.\\n- **Interaction**: The person appears to be alone in this moment, not interacting with any other object or individual within the frame of the image.\\n- **Time of Day**: Based on the lighting and shadows, it is likely that this photo was taken during daylight hours, given the clear visibility and absence of artificial light sources.\\n\\nThis image captures a quiet moment in nature, where an individual seems to be enjoying some solitude amidst a picturesque landscape. \", ' The image appears to be a screenshot of a web browser displaying a website page. The page features a header with a navigation menu that includes links such as \"Home,\" \"About Us,\" \"Contact Us,\" and others, which suggests a standard layout for a website\\'s top area. Below the navigation menu is the main content area, but it is empty in this particular view of the screenshot.\\n\\nOn the right side of the page, there is a vertical advertisement or banner with text that reads \"BIG SALE! 50% OFF!\" indicating some form of promotional offer. The font color of the advertisement is white, making it stand out against the darker background of the webpage.\\n\\nTo the left of the screen, there is a vertical toolbar with various icons that likely represent different functions or features within the website\\'s interface, such as search functionality and settings or help options. The toolbar also includes a link to a social media platform, possibly Facebook or a similar service, indicated by its logo.\\n\\nThe image shows the top portion of the webpage with the toolbar partially visible on the left and the banner ad on the right, while the main content area is not fully displayed due to the cropping of the screenshot. The website\\'s design seems to be minimalistic, using a light color palette that includes shades of gray, white, and blue. ', ' The image is a close-up of a digital advertisement or a screenshot. It features the logo and name of a company, \"FESGO,\" prominently displayed in large white letters against a dark background. Directly below the company\\'s name is the tagline, \"Fesgo, la solución de datos para el mundo de los negocios.\" This translates to \"Fesgo, the data solution for the business world\" in English. The logo itself consists of a stylized letter \"f\" with a circular design inside it.\\n\\nThe background of the image contains what appears to be text and possibly a graphical element that resembles a barcode or QR code. However, the resolution is too low to read any specific text or discern any additional details about the image\\'s content. The overall style of the image suggests it might have been taken from a mobile device or a computer screen, given the pixelation and blurring around the edges. ', ' The image presents a humorous comparison between two types of surgeries. On the left side, there\\'s an illustration of a syringe labeled \"Pharmaco,\" suggesting that this procedure involves the use of medication, possibly implying a more traditional surgical approach. \\n\\nOn the right side, another syringe is labeled \"Society,\" which implies a societal or community-based approach to surgery. The word \"Surgery\" is written on the syringe, and below it, there\\'s an arrow pointing from the \"Pharmaco\" syringe to the \"Society\" syringe, indicating that one leads to the other.\\n\\nThe text above the arrow reads \"THEY TAKE,\" with \"THEY TAKE\" appearing twice in a loop, which is likely referring to patients or individuals undergoing the surgery. The double repetition of \"THEY TAKE\" might suggest a continuous or cyclical process. \\n\\nBelow the syringes and the text, there\\'s a subtext that says \"10 weeks,\" implying that the entire surgical process takes ten weeks. This could be a reference to the duration from initial consultation to post-operative recovery for certain types of surgeries. \\n\\nThe image uses humor by exaggerating the simplicity of the surgical procedure to a cartoonish level, while also subtly making a statement about healthcare systems and the role of medication or societal support in the medical field. The contrast between the two syringes could represent different schools of thought on health care or medical treatment. ', ' The image presents a humorous take on the concept of gender identity. It shows two figures, one labeled \"surgery\" and the other labeled \"phallo,\" which is a term used in plastic surgery to describe the use of tissue from another part of the body for reconstruction or repair.\\n\\nThe figure representing \"phallo\" appears to be wearing a white coat with a stethoscope around their neck, suggesting they are a surgeon. The caption \"phallo\" humorously implies that they have had some form of surgical alteration to their physical appearance, which aligns with the idea of gender transition or reassignment.\\n\\nOn the left side of the image is the word \"surgery,\" which is a common term used when someone undergoes medical procedures to change their physical appearance, often in the context of gender identity. The arrow pointing from \"surgery\" to \"phallo\" humorously suggests that \"phallo\" has undergone surgery to reach its current state.\\n\\nThe caption \"1 year 10 cycles\" is a playful nod to the process of gender transition, implying that it takes time and multiple steps for someone to complete their journey to become comfortable in their own body. This includes medical procedures such as hormones and surgeries, as well as personal reflection and acceptance of one\\'s new identity.\\n\\nOverall, the image is a light-hearted representation of the complexities involved in gender transition, using humor to illustrate the journey individuals undertake to become comfortable with their own identities. ', ' The image is a graphic that appears to be a humorous representation of the concept of \"Pharmaceuticals\" in health and medicine. It features two main elements:\\n\\n1. A cartoon depiction of a syringe with a needle and plunger, indicating the medical practice of injecting substances into a patient\\'s body. The syringe is labeled as \"DOCTAXEL,\" which is likely a parody of \"Dockatel,\" a popular French television series known for its satirical take on health care issues.\\n\\n2. Textual information that reads \"PHESGO\" followed by \"+ DOCTAXEL.\" This seems to be the name of the medical product being represented, with \"DOCTAXEL\" humorously suggesting that it is a doctor\\'s prescription (or a medication used by doctors). The text and the syringe together suggest a playful, exaggerated view of pharmaceuticals as being prescribed or administered in a very literal sense.\\n\\nThe image also contains some small print text at the bottom: \"Continue until cancer progresses or side effects become too difficult to manage.\" This is a cynical commentary on the nature of pharmaceutical treatment, implying that patients often continue taking medications regardless of their effectiveness against their condition, and despite potentially harmful side effects.\\n\\nThe overall message of the image seems to be critical of the pharmaceutical industry\\'s approach to health care, suggesting that treatments are sometimes continued even when they are not working or causing harm. The use of a cartoon syringe with \"DOCTAXEL\" as its name and the accompanying text is likely intended to provoke thought or commentary on these issues. ', ' The image appears to be a screenshot of a computer screen displaying an advertisement or information notice about the \"Cystic Fibrosis Foundation.\" The main body of the text is as follows:\\n\\n\"**Cystic Fibrosis Foundation**\\n\\nWith the support of Cystic Fibrosis Foundation, the Gene Therapy Clinical Trial for CF Patients will launch in [Year] at the University of Tennessee Medical Center.\\n\\nTo participate in this trial, you must be 18 years old or older and have a confirmed diagnosis of cystic fibrosis (CF). If you are interested in enrolling in the clinical trial, please call [Phone Number].\\n\\nPlease note that there is no cost to participate in this study. All medical care, including travel to and from the clinical trial site, will be provided at no charge to you.\\n\\n**Enrollment Criteria:**\\n\\n* Be 18 years old or older.\\n* Have a confirmed diagnosis of cystic fibrosis (CF).\\n* Meet other enrollment criteria as determined by the study team.\\n\\nFor more information about the Gene Therapy Clinical Trial for CF Patients, please visit [Website URL].\\n\\n**About Cystic Fibrosis:**\\n\\nCystic Fibrosis is a life-threatening genetic disorder that affects approximately 30,000 people in the United States. The disease causes chronic lung and liver infections, as well as other health problems. There is currently no cure for cystic fibrosis, but there are medications available to help manage the symptoms of the disease.\\n\\nThe Cystic Fibrosis Foundation works tirelessly to support research aimed at finding a cure for cystic fibrosis and improving the quality of life for those affected by this debilitating condition.\\n\\nIf you or someone you know is living with cystic fibrosis, please consider joining our efforts to help find a cure. Together, we can make a difference in the lives of those affected by cystic fibrosis.\"\\n\\nThe screenshot shows a plain white background and a simple layout with black text. The logo for the Cystic Fibrosis Foundation is at the top left corner of the image. The overall style of the image is informational, resembling a newsletter or an online advertisement designed to raise awareness about the clinical trial opportunity for cystic fibrosis patients. ']\n"
     ]
    },
    {
     "name": "stderr",
     "output_type": "stream",
     "text": [
      "\n"
     ]
    }
   ],
   "source": [
    "import os\n",
    "import ollama\n",
    "from tqdm import tqdm\n",
    "import base64\n",
    "from PIL import Image\n",
    "from io import BytesIO\n",
    "\n",
    "# Initialize an empty list to store the results\n",
    "img_summaries = []\n",
    "\n",
    "\n",
    "# Iterate over all image strings in the list with a tqdm progress bar\n",
    "for image_string in tqdm(image_elements, desc=\"Processing images\"):\n",
    "    # Decode the image string using utf-8 encoders\n",
    "    img_data = base64.b64decode(image_string)\n",
    "    img = Image.open(BytesIO(img_data))\n",
    "    \n",
    "    # Save the image to a temporary file\n",
    "    img.save(\"temp.jpg\")\n",
    "    \n",
    "    # Call the chat function with the image file\n",
    "    res = ollama.chat(\n",
    "        model=\"llava\",\n",
    "        messages=[\n",
    "            {\n",
    "                'role':'user',\n",
    "                'content':'Describe elaboratively about this image :',\n",
    "                'images':[\"temp.jpg\"]\n",
    "            }\n",
    "        ]\n",
    "    )\n",
    "    \n",
    "    # Append the result to the image_summary list\n",
    "    img_summaries.append(res['message']['content'])\n",
    "\n",
    "# Print the image_summary list\n",
    "print(img_summaries)\n"
   ]
  },
  {
   "cell_type": "code",
   "execution_count": 19,
   "metadata": {},
   "outputs": [
    {
     "data": {
      "text/plain": [
       "28"
      ]
     },
     "execution_count": 19,
     "metadata": {},
     "output_type": "execute_result"
    }
   ],
   "source": [
    "len(image_elements)"
   ]
  },
  {
   "cell_type": "code",
   "execution_count": 20,
   "metadata": {},
   "outputs": [
    {
     "data": {
      "text/plain": [
       "28"
      ]
     },
     "execution_count": 20,
     "metadata": {},
     "output_type": "execute_result"
    }
   ],
   "source": [
    "len(img_summaries)"
   ]
  },
  {
   "cell_type": "code",
   "execution_count": 29,
   "metadata": {},
   "outputs": [
    {
     "data": {
      "text/plain": [
       "' The image presents a visual comparison between two types of medical treatments. On the left, there is an illustration labeled \"PERJETA,\" which seems to represent a type of medication that is administered intravenously (IV). This treatment appears as a blue liquid flowing into a vein or an IV drip.\\n\\nOn the right, there are two different types of treatments represented by icons and text labels. The top icon shows a yellow pill with a label that reads \"PERJETA\" and is accompanied by the word \"perjeta.\" Below it, there is another icon depicting a green chemical structure or molecule, with a label that says \"HERPEPIN\" in red text.\\n\\nThe bottom part of the image features an explanation about the types of treatments shown. The term \"PERJETA\" is mentioned again, followed by the word \"herpes,\" suggesting a connection between perjeta and herpes treatments. However, the presence of a molecule icon next to \"HERPEPIN\" implies that it might be related to a different medication or treatment for herpes.\\n\\nThe text \"PHESGO\" is also present in the image, possibly referring to another medication or treatment method. The overall context suggests a discussion about different treatments for various conditions, with \"PERJETA\" and \"HERPEPIN\" being specific examples. The text \"PHESGO\" could be an additional treatment option for herpes mentioned.\\n\\nThe image seems to be educational, aimed at explaining the differences or similarities between the treatments depicted. The use of icons helps in visually distinguishing between the types of treatments—one that is administered by IV and another that is likely taken as a pill or via some other oral route. '"
      ]
     },
     "execution_count": 29,
     "metadata": {},
     "output_type": "execute_result"
    }
   ],
   "source": [
    "img_summaries[14]"
   ]
  },
  {
   "cell_type": "code",
   "execution_count": 30,
   "metadata": {},
   "outputs": [],
   "source": [
    "documents = []\n",
    "retrieve_contents = []\n",
    "\n",
    "for e, s in zip(text_elements, text_summaries):\n",
    "    i = str(uuid.uuid4())\n",
    "    doc = Document(\n",
    "        page_content = s,\n",
    "        metadata = {\n",
    "            'id': i,\n",
    "            'type': 'text',\n",
    "            'original_content': e\n",
    "        }\n",
    "    )\n",
    "    retrieve_contents.append((i, e))\n",
    "    documents.append(doc)\n",
    "\n",
    "for e, s in zip(table_elements, table_summaries):\n",
    "    doc = Document(\n",
    "        page_content = s,\n",
    "        metadata = {\n",
    "            'id': i,\n",
    "            'type': 'table',\n",
    "            'original_content': e\n",
    "        }\n",
    "    )\n",
    "    retrieve_contents.append((i, e))\n",
    "    documents.append(doc)\n",
    "\n",
    "for e, s in zip(image_elements, img_summaries):\n",
    "    doc = Document(\n",
    "        page_content = s,\n",
    "        metadata = {\n",
    "            'id': i,\n",
    "            'type': 'image',\n",
    "            'original_content': e\n",
    "        }\n",
    "    )\n",
    "    retrieve_contents.append((i, s))\n",
    "    documents.append(doc)\n",
    "\n",
    "vectorstore = FAISS.from_documents(documents=documents, embedding=embeddings.OllamaEmbeddings(model='nomic-embed-text'))"
   ]
  },
  {
   "cell_type": "code",
   "execution_count": 31,
   "metadata": {},
   "outputs": [],
   "source": [
    "vectorstore.save_local(\"phesgo_faiss\")"
   ]
  },
  {
   "cell_type": "code",
   "execution_count": 2,
   "metadata": {},
   "outputs": [],
   "source": [
    "embeddings = embeddings.OllamaEmbeddings(model='nomic-embed-text')"
   ]
  },
  {
   "cell_type": "code",
   "execution_count": 3,
   "metadata": {},
   "outputs": [],
   "source": [
    "db = FAISS.load_local(\"phesgo_faiss\", embeddings,allow_dangerous_deserialization=True)"
   ]
  },
  {
   "cell_type": "code",
   "execution_count": 4,
   "metadata": {},
   "outputs": [],
   "source": [
    "prompt_template = \"\"\"\n",
    "You are a data scientist and an expert in analyzing images and tables and text.\n",
    "Answer the question based only on the following context, which can include text, images and tables:\n",
    "{context}\n",
    "Question: {question}\n",
    "Don't answer if you are not sure and decline to answer and say \"Sorry, I don't have much information about it.\"\n",
    "Just return the helpful answer in as much as detailed possible.\n",
    "Answer:\n",
    "\"\"\""
   ]
  },
  {
   "cell_type": "code",
   "execution_count": 5,
   "metadata": {},
   "outputs": [],
   "source": [
    "qa_chain = LLMChain(llm=ChatOllama(model=\"mistral\", temperature=0),\n",
    "                        prompt=PromptTemplate.from_template(prompt_template))"
   ]
  },
  {
   "cell_type": "code",
   "execution_count": 7,
   "metadata": {},
   "outputs": [
    {
     "data": {
      "text/plain": [
       "[Document(page_content=' The image presents a visual comparison between two types of medical treatments. On the left, there is an illustration labeled \"PERJETA,\" which seems to represent a type of medication that is administered intravenously (IV). This treatment appears as a blue liquid flowing into a vein or an IV drip.\\n\\nOn the right, there are two different types of treatments represented by icons and text labels. The top icon shows a yellow pill with a label that reads \"PERJETA\" and is accompanied by the word \"perjeta.\" Below it, there is another icon depicting a green chemical structure or molecule, with a label that says \"HERPEPIN\" in red text.\\n\\nThe bottom part of the image features an explanation about the types of treatments shown. The term \"PERJETA\" is mentioned again, followed by the word \"herpes,\" suggesting a connection between perjeta and herpes treatments. However, the presence of a molecule icon next to \"HERPEPIN\" implies that it might be related to a different medication or treatment for herpes.\\n\\nThe text \"PHESGO\" is also present in the image, possibly referring to another medication or treatment method. The overall context suggests a discussion about different treatments for various conditions, with \"PERJETA\" and \"HERPEPIN\" being specific examples. The text \"PHESGO\" could be an additional treatment option for herpes mentioned.\\n\\nThe image seems to be educational, aimed at explaining the differences or similarities between the treatments depicted. The use of icons helps in visually distinguishing between the types of treatments—one that is administered by IV and another that is likely taken as a pill or via some other oral route. ', metadata={'id': 'e4f08219-a4ed-4af1-a3ac-6005801b21df', 'type': 'image', 'original_content': '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'}),\n",
       " Document(page_content=' PHESGO is a prescription medication approved for use in combination with chemotherapy for the treatment of HER2+ breast cancer. It combines PERJETA® (pertuzumab) and Herceptin® (trastuzumab) into a single injection, which is given in about 5 minutes compared to the 60-150 minutes required for IV administration. PHESGO may cause heart problems, including those without symptoms and those with symptoms. The most serious side effects include shortness of breath, cough, swelling of ankles/legs, face swelling, palpitations, weight gain, dizziness, or loss of consciousness. PHESGO is used for neoadjuvant, adjuvant, and metastatic treatment in adults with HER2+ breast cancer. It should not be used during pregnancy as it can result in the death of an unborn baby and birth defects. Birth control should be used while receiving PHESGO and for 7 months after the last dose. Most major insurance plans provide coverage for PHESGO, and financial support is available.', metadata={'id': 'cf82719d-3621-45aa-9df6-e6c42d865050', 'type': 'text', 'original_content': 'US Healthcare Professionals Site   Search  PHESGO Patient Support Program    Prescribing Information  Safety  Home  About HER2+ Breast Cancer   About PHESGO   Side Eects   Patient Stories   Patient Resources   Financial Support   PHESGO combines the same HER2+ breast cancer treatments as IV PERJETA® (pertuzumab) and Herceptin® (trastuzumab) into a single injection  “PHESGO gave me more time back on treatment days.”  PHESGO is given in ~5 minutes,* while PERJETA + Herceptin are given in about 60-150 minutes.  *The rst dose is given in ~8 minutes. This does not account for observation time and other aspects of treatment. Actual clinic time may vary.  Jen, real PHESGO patient  PHESGO could make part of your treatment faster  Studies have compared PHESGO to an IV option  Financial support is available for PHESGO  It provides PERJETA + Herceptin in a single injection under the skin given in minutes.  Learn how PHESGO compares, and why it was preferred by more people.  Most major insurance plans provide coverage for PHESGO* and there may be options available to help you afford your medicine.  WHAT IS PHESGO?  SEE PHESGO TRIAL RESULTS  GET FINANCIAL SUPPORT  *Data current as of 07/2023. Individual out-of-pocket cost will vary depending on carrier plan.  Jen’s real PHESGO story  Hear what Jen has to say about her experience with HER2+ breast cancer.  WATCH VIDEO  Important Safety Information & Uses  What are the most serious side eects of PHESGO?  What is PHESGO?  PHESGO may cause heart problems, including those without symptoms (such as reduced heart function) and those  with symptoms (such as congestive heart failure).  • The risk for and seriousness of these heart problems are highest in people who received both PHESGO and a certain  PHESGO is a prescription medicine  approved for use in combination  with chemotherapy for:  type of chemotherapy (anthracycline)  • use prior to surgery  • Your doctor will check for signs of heart problems before, during, and after treatment with PHESGO. Based on test  (neoadjuvant treatment) in  results, your doctor may hold or discontinue treatment with PHESGO  adults with HER2+, locally  • Contact a healthcare professional immediately for any of the following: new onset or worsening shortness of breath,  advanced, inammatory, or early  cough, swelling of the ankles/legs, swelling of the face, palpitations, weight gain of more than 5 pounds in 24 hours,  stage breast cancer (tumor is  dizziness or loss of consciousness  greater than 2 cm in diameter or \\n\\nPHESGO combines the same HER2+ breast cancer treatments as IV PERJETA® (pertuzumab) and Herceptin® (trastuzumab) into a single injection  “PHESGO gave me more time back on treatment days.”  PHESGO is given in ~5 minutes,* while PERJETA + Herceptin are given in about 60-150 minutes.  *The rst dose is given in ~8 minutes. This does not account for observation time and other aspects of treatment. Actual clinic time may vary.  Jen, real PHESGO patient \\n\\n• use prior to surgery (neoadjuvant treatment) in adults with HER2+, locally advanced, inammatory, or early stage breast cancer (tumor is greater than 2 cm in diameter or node-positive). PHESGO should be used as part of a complete treatment regimen for early breast cancer.\\n\\nReceiving PHESGO during pregnancy can result in the death of an unborn baby and birth defects.\\n\\nBirth control should be used while receiving PHESGO and for 7 months after your last dose of PHESGO. If you are a\\n\\nmother who is breastfeeding, you should talk with your doctor about either stopping breastfeeding or stopping\\n\\n• use after surgery (adjuvant treatment) in adults with HER2+ early breast cancer that has a high likelihood of coming back.'}),\n",
       " Document(page_content=' PHESGO is a prescription medicine used in combination with chemotherapy for the treatment of HER2+ breast cancer in adults. It contains hyaluronidase to make tissue under the skin more absorbent for the medication. PERJETA and Herceptin, which are also used to block HER2 receptors, work together in PHESGO.\\n\\nThe most serious side effects of PHESGO include heart problems, such as those with or without symptoms like shortness of breath, cough, swelling, palpitations, weight gain, dizziness, and loss of consciousness. These risks are higher for people receiving both PHESGO and anthracycline chemotherapy. Pregnancy while taking PHESGO can result in the death of an unborn baby and birth defects, so birth control should be used during treatment and for 7 months after the last dose.\\n\\nPHESGO is approved for use as part of a complete treatment regimen for early breast cancer, including neoadjuvant treatment in adults with HER2+, locally advanced, inflammatory, or early stage breast cancer (tumor greater than 2 cm in diameter or node-positive). It should not be used during pregnancy or while breastfeeding.\\n\\nHeart problems are a serious risk and may require your doctor to hold or discontinue treatment with PHESGO based on test results. If you experience any of the symptoms listed above, contact a healthcare professional immediately.', metadata={'id': 'd6c9cc50-5b67-4063-93fc-be51da5f7b89', 'type': 'text', 'original_content': 'US Healthcare Professionals Site\\n\\nSearch\\n\\nPHESGO Patient Support Program\\n\\nPrescribing Information Safety\\n\\nHome\\n\\nAbout HER2+ Breast Cancer\\n\\nAbout PHESGO\\n\\nSide Eects\\n\\nPatient Stories\\n\\nPatient Resources\\n\\nFinancial Support\\n\\nHow PHESGO works\\n\\nPHESGO also contains hyaluronidase, which makes the tissue under the skin more absorbent temporarily so that it’s able to receive the medication.\\n\\nPERJETA + Herceptin\\n\\nPERJETA and Herceptin work together to block HER2 receptors. Each treatment is designed to block a different part of the HER2 receptor to stop cells from growing and dividing into new cancer cells. Normal cells also have some HER2 receptors, so targeted therapies, like PERJETA, Herceptin or PHESGO, may also affect them.\\n\\nNEXT: RESULTS WITH PHESGO\\n\\nImportant Safety Information & Uses\\n\\nWhat are the most serious side eects of PHESGO?\\n\\nPHESGO may cause heart problems, including those without symptoms (such as reduced heart function) and those\\n\\nwith symptoms (such as congestive heart failure).\\n\\nWhat is PHESGO? PHESGO is a prescription medicine approved for use in combination with chemotherapy for:\\n\\nThe risk for and seriousness of these heart problems are highest in people who received both PHESGO and a certain\\n\\ntype of chemotherapy (anthracycline)\\n\\nYour doctor will check for signs of heart problems before, during, and after treatment with PHESGO. Based on test\\n\\nresults, your doctor may hold or discontinue treatment with PHESGO\\n\\nContact a healthcare professional immediately for any of the following: new onset or worsening shortness of breath,\\n\\ncough, swelling of the ankles/legs, swelling of the face, palpitations, weight gain of more than 5 pounds in 24 hours,\\n\\ndizziness or loss of consciousness\\n\\nReceiving PHESGO during pregnancy can result in the death of an unborn baby and birth defects.\\n\\nBirth control should be used while receiving PHESGO and for 7 months after your last dose of PHESGO. If you are a\\n\\nuse prior to surgery\\n\\n(neoadjuvant treatment) in adults with HER2+, locally advanced, inammatory, or early stage breast cancer (tumor is greater than 2 cm in diameter or node-positive). PHESGO should be used as part of a complete treatment regimen for early breast cancer.\\n\\nmother who is breastfeeding, you should talk with your doctor about either stopping breastfeeding or stopping'}),\n",
       " Document(page_content=' The text discusses two HER2-targeted therapies, Perjeta and Herceptin, which are often used together with chemotherapy to treat HER2+ breast cancer. A new treatment called PHESGO was introduced, which contains hyaluronidase and allows the administration of Perjeta and Herceptin as a single injection under the skin in just minutes, compared to the intravenous infusion method that takes around 60-150 minutes. In a clinical study, 85% of participants preferred PHESGO due to less time spent at the clinic. The text also mentions that those currently taking Perjeta + Herceptin may be eligible to switch to PHESGO and encourages readers to consult their doctors. Additionally, financial support is available for PHESGO through most major insurance plans. A woman named Jen shares her experience with HER2+ breast cancer and PHESGO in the text.', metadata={'id': '724766ef-bf96-4d27-bb35-ea994ce6ab48', 'type': 'text', 'original_content': 'QUESTIONS TO ASK\\n\\nPERJETA and Herceptin are two HER2-targeted therapies. They work together to treat HER2+ breast cancer alongside\\n\\nchemotherapy. PHESGO works in the same way to treat HER2+ breast cancer. PHESGO also contains hyaluronidase, a protein that helps the body absorb the two medicines and allows them to be given as a single injection under the skin, in just minutes.\\n\\nPHESGO may help make treatment days faster\\n\\nIn a clinical study, 85% of people preferred PHESGO over PERJETA + Herceptin and the most common reason was less time spent in the clinic. Check out the study here. >\\n\\nPHESGO is a single ~5 minute injection given under the skin,* while PERJETA + Herceptin are given as an intravenous (IV) infusion\\n\\nin about 60-150 minutes.\\n\\nThe rst dose is given in ~8 minutes. This does not account for observation time and other aspects of treatment. Actual clinic time may vary.\\n\\nDid you know?\\n\\nIf you are currently taking PERJETA + Herceptin, you may be eligible to switch to PHESGO.\\n\\nAsk your doctor if PHESGO is right for you.\\n\\n“For me, the main benet of receiving PHESGO is that it can be given faster than the IV treatments I was receiving.”\\n\\nWatch Jen’s story to hear more about her experience with HER2+ breast cancer and PHESGO.\\n\\nFinancial support is available for PHESGO\\n\\nMost major insurance plans, including private/commercial and public insurance plans, provide coverage for PHESGO*. There may be options available to help you afford your medicine.\\n\\nData current as of 07/2023. Individual out-of-pocket cost will vary depending on carrier plan.'})]"
      ]
     },
     "execution_count": 7,
     "metadata": {},
     "output_type": "execute_result"
    }
   ],
   "source": [
    "db.similarity_search(\"provide me the image that phesgo with perjeta and herceptin\")"
   ]
  },
  {
   "cell_type": "code",
   "execution_count": 8,
   "metadata": {},
   "outputs": [],
   "source": [
    "\n",
    "def answer(question):\n",
    "    relevant_docs = db.similarity_search(question)\n",
    "    context = \"\"\n",
    "    relevant_images = []\n",
    "    for d in relevant_docs:\n",
    "        if d.metadata['type'] == 'text':\n",
    "            context += '[text]' + d.metadata['original_content']\n",
    "        elif d.metadata['type'] == 'table':\n",
    "            context += '[table]' + d.metadata['original_content']\n",
    "        elif d.metadata['type'] == 'image':\n",
    "            context += '[image]' + d.page_content\n",
    "            relevant_images.append(d.metadata['original_content'])\n",
    "    result = qa_chain.run({'context': context, 'question': question})\n",
    "    return result, relevant_images"
   ]
  },
  {
   "cell_type": "code",
   "execution_count": 9,
   "metadata": {},
   "outputs": [
    {
     "name": "stderr",
     "output_type": "stream",
     "text": [
      "c:\\Users\\Barani\\Desktop\\chatbot\\multimodel\\Lib\\site-packages\\langchain_core\\_api\\deprecation.py:117: LangChainDeprecationWarning: The function `run` was deprecated in LangChain 0.1.0 and will be removed in 0.2.0. Use invoke instead.\n",
      "  warn_deprecated(\n"
     ]
    },
    {
     "name": "stdout",
     "output_type": "stream",
     "text": [
      " PHESGO is a single injection that contains three components: pertuzumab (Perjeta), trastuzumab (Herceptin), and hyaluronidase. The image below illustrates how these three components are combined in PHESGO for administration under the skin.\n",
      "\n",
      "[Image of a syringe with a label \"Phesgo\" on it, showing the three layers inside: a white layer at the bottom (Hyaluronidase), a red layer in the middle (Trastuzumab/Herceptin), and a clear layer on top (Pertuzumab/Perjeta)]\n",
      "\n",
      "In comparison, Perjeta and Herceptin are administered as separate intravenous infusions.\n"
     ]
    }
   ],
   "source": [
    "result, relevant_images = answer(\"provide me the image that phesgo with perjeta and herceptin\")\n",
    "print(result)"
   ]
  },
  {
   "cell_type": "code",
   "execution_count": 10,
   "metadata": {},
   "outputs": [
    {
     "data": {
      "image/jpeg": "[encoded data removed]",
      "text/plain": [
       "<IPython.core.display.Image object>"
      ]
     },
     "metadata": {},
     "output_type": "display_data"
    }
   ],
   "source": [
    "display.display(display.Image(base64.b64decode(relevant_images[0])))"
   ]
  },
  {
   "cell_type": "code",
   "execution_count": 11,
   "metadata": {},
   "outputs": [
    {
     "name": "stdout",
     "output_type": "stream",
     "text": [
      " Lymph nodes are small, bean-shaped organs that are part of the immune system. They are found throughout the body, but most are located in the neck, armpits, and groin areas. The primary function of lymph nodes is to filter lymph fluid and help fight infections.\n",
      "\n",
      "In the context of breast cancer, lymph node status refers to whether or not cancer cells have spread from the original tumor site to nearby lymph nodes. Lymph nodes that contain cancer cells are called positive, while those that do not contain cancer cells are called negative. The number and size of affected lymph nodes can also be reported.\n",
      "\n",
      "Lymph node status is an important factor in determining the stage of breast cancer and guiding treatment decisions. In general, a higher number or larger size of involved lymph nodes indicates a more advanced stage of cancer and a greater likelihood of recurrence. However, it's important to note that not all cancers that spread to lymph nodes will come back, and some cancers that do not spread to lymph nodes may still recur.\n",
      "\n",
      "Here is an image that illustrates the location of axillary lymph nodes, which are the most commonly sampled nodes in breast cancer:\n",
      "\n",
      "[Image of axillary lymph node diagram]\n",
      "\n",
      "I hope this information helps! Let me know if you have any other questions.\n"
     ]
    }
   ],
   "source": [
    "result, relevant_images = answer(\"provide me some information and image Lymph node status\")\n",
    "print(result)"
   ]
  },
  {
   "cell_type": "code",
   "execution_count": 13,
   "metadata": {},
   "outputs": [
    {
     "name": "stdout",
     "output_type": "stream",
     "text": [
      " Certainly! Here is a simple representation of a normal breast cell and a HER2-positive (HER2+) breast cancer cell:\n",
      "\n",
      "Normal Cell:\n",
      "![Normal Cell](https://www.genentech-us.com/content/dam/gus-mktg/global/en_US/products/phesgo/assets/images/normal-cell.png)\n",
      "\n",
      "HER2+ Cancer Cell:\n",
      "![HER2+ Cancer Cell](https://www.genentech-us.com/content/dam/gus-mktg/global/en_US/products/phesgo/assets/images/her2positive-cell.png)\n",
      "\n",
      "In a normal cell, the HER2 receptor is present but in limited quantities. In contrast, a HER2+ breast cancer cell has an excess of HER2 receptors on its surface, which can lead to uncontrolled growth and division of the cancer cells.\n"
     ]
    }
   ],
   "source": [
    "result, relevant_images = answer(\"provide me image of normal cell and HER2+ CANCER CELL\")\n",
    "print(result)"
   ]
  },
  {
   "cell_type": "code",
   "execution_count": 16,
   "metadata": {},
   "outputs": [
    {
     "data": {
      "image/jpeg": "[encoded data removed]",
      "text/plain": [
       "<IPython.core.display.Image object>"
      ]
     },
     "metadata": {},
     "output_type": "display_data"
    }
   ],
   "source": [
    "display.display(display.Image(base64.b64decode(relevant_images[0])))"
   ]
  },
  {
   "cell_type": "code",
   "execution_count": 21,
   "metadata": {},
   "outputs": [
    {
     "name": "stdout",
     "output_type": "stream",
     "text": [
      " PHESGO is a single injection that combines PERJETA (pertuzumab) and Herceptin (trastuzumab), which are two separate intravenous (IV) infusions typically given over approximately 60-150 minutes. The hyaluronidase in PHESGO makes the tissue under the skin more absorbent temporarily, allowing the medication to be absorbed more quickly. This means that PHESGO can be administered in about 5 minutes, while PERJETA + Herceptin require a longer infusion time.\n",
      "\n",
      "Here's an illustration of how PHESGO makes treatment days faster compared to receiving PERJETA and Herceptin as separate IV infusions:\n",
      "\n",
      "[Diagram showing the comparison between receiving PERJETA and Herceptin as separate IV infusions versus receiving PHESGO as a single injection]\n",
      "\n",
      "In summary, PHESGO allows for the administration of both PERJETA and Herceptin in a single injection, reducing the overall time spent on treatment days from approximately 60-150 minutes to about 5 minutes. This can save patients valuable time during their treatment journey.\n"
     ]
    }
   ],
   "source": [
    "result, relevant_images = answer(\"provide image of phesgo with perjeta + herceptin i mean how fast they can be help make treatment days faster\")\n",
    "print(result)"
   ]
  },
  {
   "cell_type": "code",
   "execution_count": 23,
   "metadata": {},
   "outputs": [
    {
     "name": "stdout",
     "output_type": "stream",
     "text": [
      " PHESGO is a single injection that contains both Perjeta (pertuzumab) and Herceptin (trastuzumab), along with hyaluronidase, which is used to make the tissue under the skin more absorbent temporarily. This allows for the medication to be absorbed more effectively when given as a subcutaneous injection.\n",
      "\n",
      "Perjeta and Herceptin are two separate infusions that are administered intravenously (IV) in about 60-150 minutes each, with the first dose taking approximately 8 minutes. The image below illustrates the difference between receiving PHESGO as a single subcutaneous injection versus receiving Perjeta and Herceptin as separate IV infusions:\n",
      "\n",
      "![PHESGO vs Perjeta and Herceptin](https://i.imgur.com/3ZJz6qB.png)\n",
      "\n",
      "In summary, PHESGO is a single subcutaneous injection that combines both Perjeta and Herceptin, along with hyaluronidase, while Perjeta and Herceptin are administered as separate IV infusions.\n"
     ]
    }
   ],
   "source": [
    "result, relevant_images = answer(\"provide image of phesgo vs perjeta and herceptin\")\n",
    "print(result)"
   ]
  },
  {
   "cell_type": "code",
   "execution_count": 24,
   "metadata": {},
   "outputs": [
    {
     "data": {
      "image/jpeg": "[encoded data removed]",
      "text/plain": [
       "<IPython.core.display.Image object>"
      ]
     },
     "metadata": {},
     "output_type": "display_data"
    }
   ],
   "source": [
    "display.display(display.Image(base64.b64decode(relevant_images[0])))"
   ]
  },
  {
   "cell_type": "code",
   "execution_count": null,
   "metadata": {},
   "outputs": [],
   "source": []
  }
 ],
 "metadata": {
  "kernelspec": {
   "display_name": "multimodel",
   "language": "python",
   "name": "python3"
  },
  "language_info": {
   "codemirror_mode": {
    "name": "ipython",
    "version": 3
   },
   "file_extension": ".py",
   "mimetype": "text/x-python",
   "name": "python",
   "nbconvert_exporter": "python",
   "pygments_lexer": "ipython3",
   "version": "3.11.5"
  }
 },
 "nbformat": 4,
 "nbformat_minor": 2
}
