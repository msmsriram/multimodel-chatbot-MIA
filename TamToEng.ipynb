{
 "cells": [
  {
   "cell_type": "code",
   "execution_count": 1,
   "metadata": {},
   "outputs": [],
   "source": [
    "from langchain_community.document_loaders import WebBaseLoader\n",
    "from langchain_community.document_loaders import PyPDFLoader\n",
    "from langchain_community import embeddings\n",
    "from langchain_community.chat_models import ChatOllama\n",
    "from langchain_core.runnables import RunnablePassthrough\n",
    "from langchain_core.output_parsers import StrOutputParser\n",
    "from langchain_core.prompts import ChatPromptTemplate\n",
    "from langchain_core.prompts import PromptTemplate\n",
    "\n",
    "from langchain.output_parsers import PydanticOutputParser\n",
    "from langchain.text_splitter import CharacterTextSplitter\n",
    "from langchain_community.document_loaders import BSHTMLLoader\n",
    "from langchain.callbacks.streaming_stdout import StreamingStdOutCallbackHandler\n",
    "import os\n",
    "import uuid\n",
    "import base64\n",
    "from IPython import display\n",
    "from unstructured.partition.pdf import partition_pdf\n",
    "# from langchain.chat_models import ChatOpenAI\n",
    "from langchain_community.chat_models import ChatOllama\n",
    "# from langchain_community import embeddings\n",
    "from langchain_community.embeddings import OllamaEmbeddings\n",
    "# from langchain.embeddings import OpenAIEmbeddings\n",
    "from langchain.chains import LLMChain\n",
    "from langchain.prompts import PromptTemplate\n",
    "from langchain.schema.messages import HumanMessage, SystemMessage\n",
    "from langchain.schema.document import Document\n",
    "from langchain.vectorstores import FAISS\n",
    "from langchain.retrievers.multi_vector import MultiVectorRetriever"
   ]
  },
  {
   "cell_type": "code",
   "execution_count": 2,
   "metadata": {},
   "outputs": [],
   "source": [
    "model_local = ChatOllama(model=\"mistral\",temperature=0)"
   ]
  },
  {
   "cell_type": "code",
   "execution_count": 3,
   "metadata": {},
   "outputs": [],
   "source": [
    "from langchain_community.document_loaders import PyPDFLoader\n",
    "\n",
    "loader = PyPDFLoader(r\"C:\\Users\\RAHUL\\Desktop\\chatbot_new\\chatbot\\tamilToEng_Multiplesclerosis.pdf\")\n",
    "pages = loader.load()"
   ]
  },
  {
   "cell_type": "code",
   "execution_count": 4,
   "metadata": {},
   "outputs": [
    {
     "data": {
      "text/plain": [
       "[Document(page_content='Multiple sclerosis  \\n1. What is Multiple Sclerosis? What kind of disease is this?  \\nIn English, the word ‘multiple’ denotes multiplicity. ‘Sclerosis’ is a Greek word that denotes \\nhardening. The disease called Multiple Sclerosis was thought to be a disease where hardening \\noccurs in the nerves in multiple places. Like many humans wear a coa t, many nerves also \\nhave a coat. This coat is made of myelin. If the coat is damaged, it is called ‘demyelination’. \\nThe ‘brain and spinal cord’, the central parts of the nerves, decay. The demyelination that \\noccurs here, that is, central demyelination, is Multiple Sclerosis. So, to say it in total, \\nMultiple Sclerosis is a disease where the coat of the nerves in the decayed parts of the central \\npart of the nerves, that is, the brain and the spinal cord, gets damaged.  \\n2. How and why does Multiple Sclerosis occur to someone?  \\n‘Inflammation’ means irritation. For example, irritations can occur in the body when parasites \\nenter. There are also irritations that occur without parasites. One such irritation is Multiple \\nSclerosis. Because of this, the coat of the nerve is damaged. The n the axon, which is the body \\npart of the nerve, decays, that is, degeneration occurs. So, this disease attacks the body in \\nthree stages. First, non -parasitic irritation, that is, inflammation. Because of this, the coat of \\nthe nerves is damaged, that is, d emyelination. Finally, the entire nerve, including the coat, \\ndecays, that is, axonal degeneration. Why do these changes occur? The answer is the \\noccurrence of autoimmunity in the body.  \\n3. What is Autoimmunity?  \\nTo protect the Indian nation, our soldiers are stationed at the borders of China and Pakistan. \\nTheir job is to fight against the enemies coming from outside and prevent them from entering \\nour country. Similarly, our immunity, that is, the immune system, pr otects the body from \\nparasites entering from outside. How would it be if the guards and soldiers who are supposed \\nto protect us turn against us? Similarly, the disease caused by our body’s immune system \\nturning against us is called an autoimmune disease. W hy did the trusted guard have \\ntreasonous thoughts? There is no answer to this today. Similarly, it is an inexplicable event \\nthat the immune system, which has been trusted by the body from birth, suddenly attacks us. \\nThis event can happen at the Punjab bord er, or at the Gujarat border, or at the Rajasthan \\nborder, isn’t it! Wherever it happens, there will be damage in that state. Similarly, wherever \\nthe attack of the autoimmune power affects any part of the body, diseases and difficulties are \\nfelt there. Vari ous organs like the eyes, kidneys, gallbladder, etc., are affected by \\nautoimmune diseases at various times. The disease caused by the autoimmune attack on the \\ncoats of the brain and spinal cord nerves is Multiple Sclerosis.  \\n4. Who can get Multiple Sclerosis?  \\nMultiple Sclerosis can occur to anyone, at any time . However, it usually occurs to young \\npeople between the ages of 25 and 30. The chances of women getting it are higher than men. \\nFactors like smoking, vitamin D deficiency, and obesity can pave the way for this disease. \\nBut it should not be misunderstood t hat everyone with these factors will get this disease. If \\nfate dictates that someone should get it, they will. For those who have such a fate, the \\naforementioned factors increase the circumstances of the disease occurring.  \\n ', metadata={'source': 'C:\\\\Users\\\\RAHUL\\\\Desktop\\\\chatbot_new\\\\chatbot\\\\tamilToEng_Multiplesclerosis.pdf', 'page': 0}),\n",
       " Document(page_content='Multiple sclerosis  \\n5. What are the effects of Multiple Sclerosis?  \\nSuddenly, vision may blur in one eye. There may be a loss of function in a hand or leg. \\nNumbness may suddenly appear in the hands, legs, or face. There may be a staggering gait. \\nSpeech may suddenly falter. The eyes may suddenly appear as if they are seeing  double. \\nMany people are aware that these symptoms can be the impact of a stroke in older people. In \\nyoung age, such incidents raise suspicion among doctors whether the person has Multiple \\nSclerosis.  \\n6. Can Multiple Sclerosis occur in countries like India?  \\nIt is true that this disease, Multiple Sclerosis, is mostly seen in temperate countries that are \\nslightly cold. However, it is also true that this disease is seen in hot countries like India.  \\n7. If someone has Multiple Sclerosis, is there a chance that it can occur to their \\ngrandchild?  \\nMultiple Sclerosis is not a disease that usually passes down through generations. It is true that \\nit can occur to anyone in the same family through what is called the HLA gene. However, it \\nis not true that if a mother or father has it, their son or daughte r will get it, or if a woman has \\nit, her brother will get it.  \\n8. How do doctors confirm if someone has Multiple Sclerosis?  \\nFirst, doctors will directly examine the patient from head to toe. Then, a scan is done. For \\nthis, an MRI scan is suitable. When such a scan is done, a contrast agent is also injected, and \\ndoctors examine the brain and spinal cord. If you take a flashlight  in your hand and point it at \\na wall, the light will travel from the flashlight to the wall, right? What you now see from your \\nhand to the wall is a light path. This is how our senses work. For example, if you touch your \\nfingertip, that sensation leaves fr om there, goes up through the hand, travels through the \\nspinal cord, and reaches the brain. This is your touch path. When you see an object, it goes \\nthrough the eye to a part of the brain called the occipital lobe and makes you understand what \\nyou are seei ng. This is the visual path. Doctors will examine these sensory nerves and their \\npathways, that is, the functioning of the sensory pathways, through a device called an ENMG. \\nA test to find oligoclonal bands in the water taken by injecting a needle into the  spinal cord, \\nalso needs to be done for those with this disease. Various blood tests are recommended by \\ndoctors to confirm that there are no other diseases that mimic this disease, such as vasculitis, \\nvitamin deficiency diseases.  \\n9. What are the treatment methods for Multiple Sclerosis?  \\nThe treatments for Multiple Sclerosis can be divided into four types. One, this disease occurs \\ndue to autoimmunity. Responding to the attack of this immunity. The drug called \\nMethylprednisolone is given for this through blood vessels. Two, preventing this attack. This \\nis disease -modifying treatment. Various drugs are available now to perform this action. In the \\n1990s, injectable drugs like Interferon Beta and Glatiramer Acetate were first introduced for \\nthis disease. Then, oral drugs like Dimethyl Fumarate,  Teriflunomide, Fingolimod started to \\nbecome available. These are now being used by most people. There are also wonderful high -\\nefficacy injections available now for those who are resistant to these or who initially have a \\nvigorous disease attack. Natalizum ab, Ocrelizumab, Rituximab, Ofatumumab are among the ', metadata={'source': 'C:\\\\Users\\\\RAHUL\\\\Desktop\\\\chatbot_new\\\\chatbot\\\\tamilToEng_Multiplesclerosis.pdf', 'page': 1}),\n",
       " Document(page_content='Multiple sclerosis  \\nhigh-efficacy drugs in this list. Three, treatments for the effects caused by this disease in the \\nbody. For example, remedies for pain in the hands and legs caused by this disease. Four, \\nsymptomatic treatments.  \\n10. Doctors told me that I have Multiple Sclerosis. I feel very tired. What should I do \\nfor this?  \\nMany people feel mentally tired as soon as this disease is diagnosed. They keep questioning \\nwhy and how it happened to them. The time when there were no suitable medicines for this \\nhas passed. Now, very good medicines are available. Like all diseases, if y ou take this one \\ntoo and keep your mind firm, the fatigue will largely go away. Do good physical exercise. \\nFollow healthy food habits. Check if there is a deficiency of Vitamin D and if so, take the \\nnecessary medicines for it. If there is still fatigue, it  is considered to be directly caused by the \\ndisease. If so, you can take the medicine called Amantadine as per the doctor’s \\nrecommendation.  \\n11. \"I have been affected by Multiple Sclerosis and my walk is very staggering. \\nWhat can I do?  \\nThe first requirement for this is proper physical exercise. Physiotherapy experts who provide \\nrehabilitative treatment will teach suitable methods for this. This will help control Multiple \\nSclerosis and prevent the staggering walk from worsening. If the st aggering walk becomes a \\nnuisance, the drug called Dalfampridine is best for this.  \\n12. What should be done to prevent Multiple Sclerosis?  \\nIf it is destined for someone to get Multiple Sclerosis, they will get it. So, preventing it is \\ndivine action. Things like not smoking, maintaining a healthy body weight, and ensuring that \\nthere is no deficiency of Vitamin D in the body by going out in the  sun every day can reduce \\nthe circumstances under which this disease occurs.  \\n13. Is there any vaccine for Multiple Sclerosis?  \\nThere is no vaccine to prevent Multiple Sclerosis. This is because it is not a disease caused by \\na microbial infection. However, one thing to note here is that since this is an autoimmune \\ndisease, the medicines recommended by doctors can reduce the body’s immune response. \\nTherefore, the chance of microbial infections can increase in these individuals. Hence, \\ndoctors recommend certain vaccines to protect against some major microbes. For example, a \\nvaccine to prevent pneumonia caused by a lung infection micro be. \\n14. What food should people with Multiple Sclerosis eat?  \\nThere are no specific dietary methods for Multiple Sclerosis. However, the healthy food \\nhabits recommended for everyone are also suitable for people with this disease. Maintaining a \\nhealthy body weight is an important advice for everyone including those wi th this disease. \\nWhen the disease attack occurs initially, steroid tablets are recommended. Because these \\ntablets can cause hunger, many people tend to gain weight. It is important to control this \\ncarefully.  \\n ', metadata={'source': 'C:\\\\Users\\\\RAHUL\\\\Desktop\\\\chatbot_new\\\\chatbot\\\\tamilToEng_Multiplesclerosis.pdf', 'page': 2}),\n",
       " Document(page_content='Multiple sclerosis  \\n15. Do they say that there are different types of Multiple Sclerosis? Is this true?  \\nYes, it is true. Doctors classify this disease into several types based on the symptoms that \\noccur in each individual. The initial entry of the disease symptom into the body is the \\n‘attack’. From this, one can recover, which is ‘remission’. A complete cycl e of coming and \\ngoing like this can happen, which is ‘Relapsing Remitting’ Multiple Sclerosis. Some people \\nmay not fully recover and may be in a state with some deficits. In this state, another attack, \\nthat is, a ‘relapse’ can occur. The nature of this com ing and going makes it ‘Relapsing \\nRemitting’ Multiple Sclerosis. If the disease symptom starts in the ‘Relapsing Remitting’ \\nmanner and then progressively increases, it is ‘Secondary Progressive’ Multiple Sclerosis. \\nWithout the nature of coming and going, i f the disease symptom increases progressively from \\nthe beginning, it is ‘Primary Progressive’ Multiple Sclerosis.  \\n16. What is the benefit of knowing these types?  \\nLet’s explain this through an example. Our nation, Bharat, is being attacked by enemies. We \\ncan mobilize our army against the enemies and destroy them. For this, we can show our \\nstrength. The ‘attack’ method of the relapsing remitting type can be well coun tered with \\npowerful medicines. This will yield good results. We can counteract the disease attack by \\nimmediately using a steroid medicine. Then, we can recommend disease -modifying \\ntreatments, which are methods to prevent such attacks from happening again a nd again. \\nTreating the type of multiple sclerosis that increases in severity, called ‘progressive’, is \\ndifficult. Aren’t enemies like China waging war directly but slowly infiltrating? Isn’t it a bit \\ndifficult to contain this? It’s a bit difficult to conta in progressive methods in the same way \\nwith medicines. One thing to pay attention to here is important. As soon as the relapsing \\nremitting type of multiple sclerosis is diagnosed, it is very important to immediately \\nrecommend good medicines. For those who take good potent medicines from the beginning, \\nthe circumstances that cause the disease condition to worsen later will decrease. According to \\nthe proverb, ‘What does not bend at five will not bend at fifty’, it is the best approach in these \\ndisease treatme nt methods to recommend good medicines at the beginning stage of the \\ndisease and prevent the disease condition from worsening later.  \\n17. How many days should medicines be taken for multiple sclerosis? Can this \\ndisease be completely cured?  \\nLike diabetes, hypertension, and other diseases, most people affected by multiple sclerosis \\nneed to take medicines for their entire life. Like diabetes and hypertension, it is not possible \\nto completely cure this disease for most people. However, due to ad vancements in the \\nmedical field, those who consistently take the right medicines for this disease will mostly not \\nexhibit the symptoms of this disease. It is important to note that the progressive nature of the \\ndisease can be controlled with medicines.  \\n18. Can people with multiple sclerosis get married? Can they have children?  \\nThere are no restrictions for people with multiple sclerosis to get married or have children. \\nHowever, there are some medical facts to keep in mind. Due to nerve damage and brain \\nimpairment, some people with this disease may experience a decrease in sexual  function. \\nWomen may also experience a decrease in sexual activity. During pregnancy and \\nbreastfeeding times, certain medications or injections recommended for this disease may not \\nbe administered. It is important to get appropriate advice from a doctor be forehand. Despite ', metadata={'source': 'C:\\\\Users\\\\RAHUL\\\\Desktop\\\\chatbot_new\\\\chatbot\\\\tamilToEng_Multiplesclerosis.pdf', 'page': 3}),\n",
       " Document(page_content='Multiple sclerosis  \\nthese considerations, people with multiple sclerosis can lead fulfilling personal lives, \\nincluding marriage and parenthood.  \\n19. Are there side effects for the medicines given for multiple sclerosis?  \\nFor any disease, not just multiple sclerosis, the medicines prescribed have side effects. There \\nare no treatment methods without side effects in any form of medicine. But does everyone \\nexperience side effects? Doctors determine whether side effects occur t hrough patient \\nexamination and blood and scan tests. For those who take medicine under proper medical \\nsupervision, the circumstances of side effects are very minimal.  \\n20. Are there any other ways to learn about multiple sclerosis?  \\nNon-profit organizations like the Multiple Sclerosis Society of India and the Spastic Society \\nof India provide good information about this disease for those in the country.  \\n21. The doctor said the goal is NEDA, what is NEDA?  \\nWhen treating multiple sclerosis, the goal of doctors is that the patient should not even have a \\nslight presence of the disease. This is NEDA. NEDA stands for ‘No Evidence of Disease \\nActivity’. There are three requirements for this. First, the patient with  this disease should not \\nhave another attack of the disease, also known as a relapse. Second, there should be no new \\nfindings in the MRI scan. Third, during the physical examination by the doctor, the severity \\nof the disease should not increase. These thre e conditions must be met with certainty, that is \\nNEDA.  \\n \\n \\n \\n \\n \\n \\n \\n \\n \\n \\n ', metadata={'source': 'C:\\\\Users\\\\RAHUL\\\\Desktop\\\\chatbot_new\\\\chatbot\\\\tamilToEng_Multiplesclerosis.pdf', 'page': 4})]"
      ]
     },
     "execution_count": 4,
     "metadata": {},
     "output_type": "execute_result"
    }
   ],
   "source": [
    "pages"
   ]
  },
  {
   "cell_type": "code",
   "execution_count": 8,
   "metadata": {},
   "outputs": [],
   "source": [
    "# from langchain.text_splitter import RecursiveCharacterTextSplitter\n",
    "# text_splitter_rec = RecursiveCharacterTextSplitter(\n",
    "#     chunk_size = 1000,\n",
    "#     chunk_overlap  = 0,\n",
    "#     length_function = len,\n",
    "#     is_separator_regex=False\n",
    "# )\n",
    "# rec_texts = text_splitter_rec.split_documents(pages)\n",
    "# rec_vectorstore = FAISS.from_documents(documents=rec_texts, embedding=embeddings.OllamaEmbeddings(model='nomic-embed-text'))\n",
    "# rec_vectorstore.save_local(\"tamil_to_english_faiss_rec\")\n",
    "\n",
    "text_splitter = CharacterTextSplitter.from_tiktoken_encoder(chunk_size=450, chunk_overlap=50)\n",
    "\n",
    "doc_splits = text_splitter.split_documents(pages)\n",
    "char_vectorstore = FAISS.from_documents(documents=doc_splits, embedding=embeddings.OllamaEmbeddings(model='nomic-embed-text'))\n",
    "char_vectorstore.save_local(\"tam_to_eng_char_faiss\")"
   ]
  },
  {
   "cell_type": "code",
   "execution_count": null,
   "metadata": {},
   "outputs": [],
   "source": []
  }
 ],
 "metadata": {
  "kernelspec": {
   "display_name": "multimodel",
   "language": "python",
   "name": "python3"
  },
  "language_info": {
   "codemirror_mode": {
    "name": "ipython",
    "version": 3
   },
   "file_extension": ".py",
   "mimetype": "text/x-python",
   "name": "python",
   "nbconvert_exporter": "python",
   "pygments_lexer": "ipython3",
   "version": "3.11.5"
  }
 },
 "nbformat": 4,
 "nbformat_minor": 2
}
